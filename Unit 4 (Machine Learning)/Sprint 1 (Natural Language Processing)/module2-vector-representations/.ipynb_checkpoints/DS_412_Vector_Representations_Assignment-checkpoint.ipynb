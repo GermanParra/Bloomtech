{
 "cells": [
  {
   "cell_type": "markdown",
   "metadata": {
    "id": "XY_oGN5FN_LJ"
   },
   "source": [
    "\n",
    "# Vector Representations\n",
    "## *Data Science Unit 4 Sprint 1 Assignment 2*"
   ]
  },
  {
   "cell_type": "markdown",
   "metadata": {
    "id": "c8TVTlaib3fn"
   },
   "source": [
    "## 0.1 Get `spacy`"
   ]
  },
  {
   "cell_type": "markdown",
   "metadata": {
    "id": "Ffkb2MnJb-9l"
   },
   "source": [
    "##0.2 Restart Runtime"
   ]
  },
  {
   "cell_type": "markdown",
   "metadata": {
    "id": "Umr3z-gWcgKK"
   },
   "source": [
    "## 0.3 Imports"
   ]
  },
  {
   "cell_type": "code",
   "execution_count": 1,
   "metadata": {
    "id": "DDmYaIQ38OQ1"
   },
   "outputs": [],
   "source": [
    "import re\n",
    "import string\n",
    "\n",
    "from sklearn.feature_extraction.text import CountVectorizer, TfidfVectorizer\n",
    "from sklearn.neighbors import NearestNeighbors\n",
    "\n",
    "import matplotlib.pyplot as plt\n",
    "import pandas as pd\n",
    "import numpy as np\n",
    "\n",
    "from bs4 import BeautifulSoup\n",
    "\n",
    "%matplotlib inline\n",
    "\n",
    "import spacy\n",
    "nlp = spacy.load(\"en_core_web_md\")"
   ]
  },
  {
   "cell_type": "markdown",
   "metadata": {
    "id": "55skIZ7eidH7"
   },
   "source": [
    "##0.4 Clone the git repo\n",
    "so we can access the files in the `/data` folder"
   ]
  },
  {
   "cell_type": "code",
   "execution_count": null,
   "metadata": {
    "colab": {
     "base_uri": "https://localhost:8080/"
    },
    "executionInfo": {
     "elapsed": 5054,
     "status": "ok",
     "timestamp": 1635288580382,
     "user": {
      "displayName": "Joseph catanzarite",
      "photoUrl": "https://lh3.googleusercontent.com/a-/AOh14GgmMRaw8NgoEDqzevEZ6b18iOYdEH9nWTZeaFBW=s64",
      "userId": "16649206137414945374"
     },
     "user_tz": 420
    },
    "id": "kpgi5SBuePAD",
    "outputId": "7be87a3e-e845-427f-b4ff-cafee51821f8"
   },
   "outputs": [
    {
     "name": "stdout",
     "output_type": "stream",
     "text": [
      "Cloning into 'DS-Unit-4-Sprint-1-NLP'...\n",
      "remote: Enumerating objects: 1620, done.\u001b[K\n",
      "remote: Counting objects: 100% (89/89), done.\u001b[K\n",
      "remote: Compressing objects: 100% (77/77), done.\u001b[K\n",
      "remote: Total 1620 (delta 42), reused 36 (delta 12), pack-reused 1531\u001b[K\n",
      "Receiving objects: 100% (1620/1620), 58.45 MiB | 20.88 MiB/s, done.\n",
      "Resolving deltas: 100% (211/211), done.\n"
     ]
    }
   ],
   "source": [
    "# !git clone https://github.com/LambdaSchool/DS-Unit-4-Sprint-1-NLP.git\n"
   ]
  },
  {
   "cell_type": "markdown",
   "metadata": {
    "id": "M7bcmqfGXrFG",
    "tags": []
   },
   "source": [
    "## 1) Clean the Job Listings from indeed.com that contain the title \"Data Scientist\" \n",
    "\n",
    "The file `job_listings.csv` is in the `data` folder for this module. <br>\n",
    "Navigate to the `data` folder in the `DS-Unit-4-Sprint-1-NLP` folder icon in the left sidebar. \n",
    "Find the path to `job_listings.csv` (all the way at the bottom of the list of files in `data`), by clicking on the \"three dots\" symbol to the right of its file icon."
   ]
  },
  {
   "cell_type": "code",
   "execution_count": 4,
   "metadata": {
    "id": "KcYlc1URXhlC",
    "scrolled": true
   },
   "outputs": [],
   "source": [
    "data_path = 'data/job_listings.csv'         \n",
    "df = pd.read_csv(data_path)"
   ]
  },
  {
   "cell_type": "code",
   "execution_count": 8,
   "metadata": {
    "colab": {
     "base_uri": "https://localhost:8080/",
     "height": 206
    },
    "executionInfo": {
     "elapsed": 200,
     "status": "ok",
     "timestamp": 1635288675193,
     "user": {
      "displayName": "Joseph catanzarite",
      "photoUrl": "https://lh3.googleusercontent.com/a-/AOh14GgmMRaw8NgoEDqzevEZ6b18iOYdEH9nWTZeaFBW=s64",
      "userId": "16649206137414945374"
     },
     "user_tz": 420
    },
    "id": "U2weJPQxN_LN",
    "outputId": "b77fd19c-36a3-4ad2-d77e-609a2f229955"
   },
   "outputs": [
    {
     "data": {
      "text/html": [
       "<div>\n",
       "<style scoped>\n",
       "    .dataframe tbody tr th:only-of-type {\n",
       "        vertical-align: middle;\n",
       "    }\n",
       "\n",
       "    .dataframe tbody tr th {\n",
       "        vertical-align: top;\n",
       "    }\n",
       "\n",
       "    .dataframe thead th {\n",
       "        text-align: right;\n",
       "    }\n",
       "</style>\n",
       "<table border=\"1\" class=\"dataframe\">\n",
       "  <thead>\n",
       "    <tr style=\"text-align: right;\">\n",
       "      <th></th>\n",
       "      <th>Unnamed: 0</th>\n",
       "      <th>description</th>\n",
       "      <th>title</th>\n",
       "    </tr>\n",
       "  </thead>\n",
       "  <tbody>\n",
       "    <tr>\n",
       "      <th>0</th>\n",
       "      <td>0</td>\n",
       "      <td>b\"&lt;div&gt;&lt;div&gt;Job Requirements:&lt;/div&gt;&lt;ul&gt;&lt;li&gt;&lt;p&gt;...</td>\n",
       "      <td>Data scientist</td>\n",
       "    </tr>\n",
       "    <tr>\n",
       "      <th>1</th>\n",
       "      <td>1</td>\n",
       "      <td>b'&lt;div&gt;Job Description&lt;br/&gt;\\n&lt;br/&gt;\\n&lt;p&gt;As a Da...</td>\n",
       "      <td>Data Scientist I</td>\n",
       "    </tr>\n",
       "    <tr>\n",
       "      <th>2</th>\n",
       "      <td>2</td>\n",
       "      <td>b'&lt;div&gt;&lt;p&gt;As a Data Scientist you will be work...</td>\n",
       "      <td>Data Scientist - Entry Level</td>\n",
       "    </tr>\n",
       "    <tr>\n",
       "      <th>3</th>\n",
       "      <td>3</td>\n",
       "      <td>b'&lt;div class=\"jobsearch-JobMetadataHeader icl-...</td>\n",
       "      <td>Data Scientist</td>\n",
       "    </tr>\n",
       "    <tr>\n",
       "      <th>4</th>\n",
       "      <td>4</td>\n",
       "      <td>b'&lt;ul&gt;&lt;li&gt;Location: USA \\xe2\\x80\\x93 multiple ...</td>\n",
       "      <td>Data Scientist</td>\n",
       "    </tr>\n",
       "  </tbody>\n",
       "</table>\n",
       "</div>"
      ],
      "text/plain": [
       "   Unnamed: 0                                        description  \\\n",
       "0           0  b\"<div><div>Job Requirements:</div><ul><li><p>...   \n",
       "1           1  b'<div>Job Description<br/>\\n<br/>\\n<p>As a Da...   \n",
       "2           2  b'<div><p>As a Data Scientist you will be work...   \n",
       "3           3  b'<div class=\"jobsearch-JobMetadataHeader icl-...   \n",
       "4           4  b'<ul><li>Location: USA \\xe2\\x80\\x93 multiple ...   \n",
       "\n",
       "                          title  \n",
       "0               Data scientist   \n",
       "1              Data Scientist I  \n",
       "2  Data Scientist - Entry Level  \n",
       "3                Data Scientist  \n",
       "4                Data Scientist  "
      ]
     },
     "execution_count": 8,
     "metadata": {},
     "output_type": "execute_result"
    }
   ],
   "source": [
    "df.head()"
   ]
  },
  {
   "cell_type": "markdown",
   "metadata": {
    "id": "TfNxBcV0dCuZ"
   },
   "source": [
    "### Remove `HTML tags`\n",
    "\n",
    "The text data in the description column is messy - it's full of html tags! <br>\n",
    "Use the [`BeautifulSoup`](https://www.crummy.com/software/BeautifulSoup/bs4/doc/) library to clean up this column by removing html tags. <br>\n",
    "* You will need to read through the `BeautifulSoup` documentation to accomplish this task. <br>\n",
    "* As with any library, there is lots of documentation, but read only what you need! \n",
    "* Don't spend more time than it takes to figure out how to remove html tags! \n"
   ]
  },
  {
   "cell_type": "code",
   "execution_count": 9,
   "metadata": {
    "id": "MUjsR6kCN_LO",
    "nbgrader": {
     "grade": false,
     "grade_id": "cell-ba2e30dfe0bfec8a",
     "locked": false,
     "schema_version": 3,
     "solution": true,
     "task": false
    }
   },
   "outputs": [],
   "source": [
    "def remove_html(text):\n",
    "    \"\"\"\n",
    "    Extract text from html boiler plate code. \n",
    "    Converts bytes dtype into str dtype\n",
    "    \n",
    "    Note\n",
    "    ----\n",
    "    Use the regex editor to help you create regular expressions https://regex101.com/\n",
    "    \n",
    "    Parameters\n",
    "    ----------\n",
    "    text: string or object \n",
    "        contains text data that we want to clean\n",
    "    \n",
    "    Returns \n",
    "    -------\n",
    "    text: str \n",
    "        cleaned text data ready for vectorization\n",
    "    \"\"\"\n",
    "\n",
    "\n",
    "\n",
    "\n",
    "    \n",
    "    # create soup object \n",
    "    soup = BeautifulSoup(text) #YOUR CODE HERE\n",
    "    \n",
    "    # extract text from page using beautiful soup\n",
    "    # eval will strip off whatever datatype or expression that's inside of a string \n",
    "    #    see https://docs.python.org/3/library/functions.html#eval for eval docs\n",
    "    text = soup.get_text() #YOUR CODE HERE\n",
    "    \n",
    "    # if text is a byte data type, then convert to string \n",
    "    if isinstance(text, bytes):\n",
    "        \n",
    "        # convert byte data type into str\n",
    "        text = str(text) # YOUR CODE HERE\n",
    "        \n",
    "    \n",
    "    # use regex to clean your text data\n",
    "    ###BEGIN SOLUTION\n",
    "    # YOUR CODE HERE\n",
    "    ###END SOLUTION\n",
    "    \n",
    "    # case normalize and strip extra white spaces on the far left and right hand side\n",
    "    text = text.lower() # YOUR CODE HERE\n",
    "\n",
    "\n",
    "    return text"
   ]
  },
  {
   "cell_type": "code",
   "execution_count": 10,
   "metadata": {
    "id": "mEIAN-bIN_LQ"
   },
   "outputs": [],
   "source": [
    "df[\"clean_text\"] = df.description.apply(lambda text: remove_html(text))\n",
    "# would this work? df[\"clean_text\"] = df.description.apply(remove_html)"
   ]
  },
  {
   "cell_type": "code",
   "execution_count": 27,
   "metadata": {
    "id": "KD0Ea5HBN_LR",
    "outputId": "b855ae1a-b6f9-4590-dde3-2418a8ce654c"
   },
   "outputs": [
    {
     "data": {
      "text/plain": [
       "'b\"job requirements:\\\\nconceptual understanding in machine learning models like nai\\\\xc2\\\\xa8ve bayes, k-means, svm, apriori, linear/ logistic regression, neural, random forests, decision trees, k-nn along with hands-on experience in at least 2 of them\\\\nintermediate to expert level coding skills in python/r. (ability to write functions, clean and efficient data manipulation are mandatory for this role)\\\\nexposure to packages like numpy, scipy, pandas, matplotlib etc in python or ggplot2, dplyr, tidyr in r\\\\nability to communicate model findings to both technical and non-technical stake holders\\\\nhands on experience in sql/hive or similar programming language\\\\nmust show past work via github, kaggle or any other published article\\\\nmaster\\'s degree in statistics/mathematics/computer science or any other quant specific field.\\\\napply now\"'"
      ]
     },
     "execution_count": 27,
     "metadata": {},
     "output_type": "execute_result"
    }
   ],
   "source": [
    "df.clean_text[0]"
   ]
  },
  {
   "cell_type": "markdown",
   "metadata": {
    "id": "5C4xFZNtX1m2"
   },
   "source": [
    "## 2) Use Spacy to tokenize the listings \n",
    "Remove stop words, punctuation and spaces, and whatever else you want to remove"
   ]
  },
  {
   "cell_type": "code",
   "execution_count": 37,
   "metadata": {
    "id": "5WPJCxnQt2Tp"
   },
   "outputs": [],
   "source": [
    "## YOUR CODE HERE\n",
    "def tokenizer(text):\n",
    "    \"\"\"\n",
    "    Uses spaCy language model to tokenize text. \n",
    "    Token filters are used to exclude low quality tokens.\n",
    "    \n",
    "    Note\n",
    "    ----\n",
    "    Remember to check out the spacy docs to see which token flags are available for you to use\n",
    "    https://spacy.io/api/token\n",
    "    \n",
    "    Input\n",
    "    ----------\n",
    "    text: string\n",
    "        raw text document that needs to be tokenized\n",
    "        \n",
    "    Returns\n",
    "    -------\n",
    "    tokens: list of strings\n",
    "    \"\"\"\n",
    "    \n",
    "    n_regex = r\"(.\\\\n)\"\n",
    "    text = re.sub(n_regex, \" \", text)\n",
    "    \n",
    "    punct_regex = r\"[^0-9a-zA-Z\\s]\"\n",
    "    text = re.sub(punct_regex, \" \", text)\n",
    "    \n",
    "    tokens = []\n",
    "    \n",
    "    for token in nlp(text):\n",
    "        if (token.is_punct==False) & (token.is_stop==False) & (token.is_space==False) & (len(token.lemma_)>2):\n",
    "            tokens.append(token.lemma_)\n",
    "            \n",
    "    return tokens\n"
   ]
  },
  {
   "cell_type": "markdown",
   "metadata": {
    "id": "YM0TLvgknvfY"
   },
   "source": [
    "### Apply our tokenizer function via `pandas.apply()`"
   ]
  },
  {
   "cell_type": "code",
   "execution_count": 38,
   "metadata": {
    "id": "qfPD-_FvN_LT"
   },
   "outputs": [],
   "source": [
    "df[\"lemmas\"] = df.clean_text.apply(tokenizer)"
   ]
  },
  {
   "cell_type": "code",
   "execution_count": 39,
   "metadata": {
    "id": "AubGA_nbN_LT",
    "outputId": "a529c8d2-7cde-4dd2-e108-57e22f04ea78"
   },
   "outputs": [
    {
     "data": {
      "text/plain": [
       "['job',\n",
       " 'requirement',\n",
       " 'conceptual',\n",
       " 'understanding',\n",
       " 'machine',\n",
       " 'learning',\n",
       " 'model',\n",
       " 'like',\n",
       " 'nai',\n",
       " 'xc2',\n",
       " 'xa8ve',\n",
       " 'bayes',\n",
       " 'mean',\n",
       " 'svm',\n",
       " 'apriori',\n",
       " 'linear',\n",
       " 'logistic',\n",
       " 'regression',\n",
       " 'neural',\n",
       " 'random',\n",
       " 'forest',\n",
       " 'decision',\n",
       " 'tree',\n",
       " 'hand',\n",
       " 'experience',\n",
       " 'intermediate',\n",
       " 'expert',\n",
       " 'level',\n",
       " 'coding',\n",
       " 'skill',\n",
       " 'python',\n",
       " 'ability',\n",
       " 'write',\n",
       " 'function',\n",
       " 'clean',\n",
       " 'efficient',\n",
       " 'datum',\n",
       " 'manipulation',\n",
       " 'mandatory',\n",
       " 'role',\n",
       " 'exposure',\n",
       " 'package',\n",
       " 'like',\n",
       " 'numpy',\n",
       " 'scipy',\n",
       " 'pandas',\n",
       " 'matplotlib',\n",
       " 'etc',\n",
       " 'python',\n",
       " 'ggplot2',\n",
       " 'dplyr',\n",
       " 'tidyr',\n",
       " 'ability',\n",
       " 'communicate',\n",
       " 'model',\n",
       " 'finding',\n",
       " 'technical',\n",
       " 'non',\n",
       " 'technical',\n",
       " 'stake',\n",
       " 'holder',\n",
       " 'hand',\n",
       " 'experience',\n",
       " 'sql',\n",
       " 'hive',\n",
       " 'similar',\n",
       " 'programming',\n",
       " 'languag',\n",
       " 'past',\n",
       " 'work',\n",
       " 'github',\n",
       " 'kaggle',\n",
       " 'publish',\n",
       " 'articl',\n",
       " 'master',\n",
       " 'degree',\n",
       " 'statistic',\n",
       " 'mathematics',\n",
       " 'computer',\n",
       " 'science',\n",
       " 'quant',\n",
       " 'specific',\n",
       " 'field',\n",
       " 'apply']"
      ]
     },
     "execution_count": 39,
     "metadata": {},
     "output_type": "execute_result"
    }
   ],
   "source": [
    "df[\"lemmas\"][0]"
   ]
  },
  {
   "cell_type": "markdown",
   "metadata": {
    "id": "-lgCZNL_YycP"
   },
   "source": [
    "## 3) Use Scikit-Learn's CountVectorizer to get word counts for each listing.\n",
    "\n",
    "- Instantiate a `CountVectorizer` object\n",
    "- Pass the tokenizer that you created above as a parameter value into `CountVectorizer`\n",
    "- Use `CountVectorizer` to create a *document-term matrix* \n",
    "- Copy your *document-term matrix* into a `pandas` dataframe, getting the column names from the `CountVectorizer` object\n",
    "- Consider using `CountVectorizer` parameters like `stop_words` and `max_df`, `min_df` to trim your results\n",
    "    \n",
    "Once you've created your `dtm` dataframe, you might notice that some (or many) of your features result from data that still needs more cleaning. Use this as an opportunity to iteratively improve your `tokenizer` function. "
   ]
  },
  {
   "cell_type": "code",
   "execution_count": 86,
   "metadata": {
    "id": "X2PZ8Pj_YxcF",
    "nbgrader": {
     "grade": false,
     "grade_id": "cell-5e59f69ad91aed03",
     "locked": false,
     "schema_version": 3,
     "solution": true,
     "task": false
    }
   },
   "outputs": [],
   "source": [
    "###BEGIN SOLUTION\n",
    "# COMPLETE THE CODE IN THIS CELL\n",
    "vect = CountVectorizer(stop_words='english', ngram_range=(1,2), max_features=100, tokenizer=tokenizer)\n",
    "\n",
    "\n",
    "dtm_tf = vect.fit_transform(df['clean_text'])# Here, tf stands for \"term frequency, i.e. counts for each term\"\n",
    "dtm_tf = pd.DataFrame(data=dtm_tf.toarray(), columns=vect.get_feature_names())\n",
    "###END SOLUTION"
   ]
  },
  {
   "cell_type": "code",
   "execution_count": 87,
   "metadata": {
    "id": "XO3ISFiCN_LV",
    "outputId": "d0e53220-d46d-4054-99b7-52aa9bc0269d"
   },
   "outputs": [
    {
     "data": {
      "text/html": [
       "<div>\n",
       "<style scoped>\n",
       "    .dataframe tbody tr th:only-of-type {\n",
       "        vertical-align: middle;\n",
       "    }\n",
       "\n",
       "    .dataframe tbody tr th {\n",
       "        vertical-align: top;\n",
       "    }\n",
       "\n",
       "    .dataframe thead th {\n",
       "        text-align: right;\n",
       "    }\n",
       "</style>\n",
       "<table border=\"1\" class=\"dataframe\">\n",
       "  <thead>\n",
       "    <tr style=\"text-align: right;\">\n",
       "      <th></th>\n",
       "      <th>ability</th>\n",
       "      <th>advanced</th>\n",
       "      <th>algorithm</th>\n",
       "      <th>analysis</th>\n",
       "      <th>analytic</th>\n",
       "      <th>analytical</th>\n",
       "      <th>analyze</th>\n",
       "      <th>apply</th>\n",
       "      <th>base</th>\n",
       "      <th>build</th>\n",
       "      <th>...</th>\n",
       "      <th>tool</th>\n",
       "      <th>use</th>\n",
       "      <th>work</th>\n",
       "      <th>world</th>\n",
       "      <th>x80</th>\n",
       "      <th>x80 x99s</th>\n",
       "      <th>x99s</th>\n",
       "      <th>xe2</th>\n",
       "      <th>xe2 x80</th>\n",
       "      <th>year</th>\n",
       "    </tr>\n",
       "  </thead>\n",
       "  <tbody>\n",
       "    <tr>\n",
       "      <th>0</th>\n",
       "      <td>2</td>\n",
       "      <td>0</td>\n",
       "      <td>0</td>\n",
       "      <td>0</td>\n",
       "      <td>0</td>\n",
       "      <td>0</td>\n",
       "      <td>0</td>\n",
       "      <td>1</td>\n",
       "      <td>0</td>\n",
       "      <td>0</td>\n",
       "      <td>...</td>\n",
       "      <td>0</td>\n",
       "      <td>0</td>\n",
       "      <td>1</td>\n",
       "      <td>0</td>\n",
       "      <td>0</td>\n",
       "      <td>0</td>\n",
       "      <td>0</td>\n",
       "      <td>0</td>\n",
       "      <td>0</td>\n",
       "      <td>0</td>\n",
       "    </tr>\n",
       "    <tr>\n",
       "      <th>1</th>\n",
       "      <td>1</td>\n",
       "      <td>0</td>\n",
       "      <td>1</td>\n",
       "      <td>1</td>\n",
       "      <td>0</td>\n",
       "      <td>1</td>\n",
       "      <td>0</td>\n",
       "      <td>0</td>\n",
       "      <td>0</td>\n",
       "      <td>1</td>\n",
       "      <td>...</td>\n",
       "      <td>1</td>\n",
       "      <td>0</td>\n",
       "      <td>6</td>\n",
       "      <td>2</td>\n",
       "      <td>8</td>\n",
       "      <td>2</td>\n",
       "      <td>2</td>\n",
       "      <td>8</td>\n",
       "      <td>8</td>\n",
       "      <td>1</td>\n",
       "    </tr>\n",
       "    <tr>\n",
       "      <th>2</th>\n",
       "      <td>1</td>\n",
       "      <td>1</td>\n",
       "      <td>1</td>\n",
       "      <td>0</td>\n",
       "      <td>1</td>\n",
       "      <td>1</td>\n",
       "      <td>1</td>\n",
       "      <td>1</td>\n",
       "      <td>0</td>\n",
       "      <td>1</td>\n",
       "      <td>...</td>\n",
       "      <td>0</td>\n",
       "      <td>0</td>\n",
       "      <td>2</td>\n",
       "      <td>0</td>\n",
       "      <td>0</td>\n",
       "      <td>0</td>\n",
       "      <td>0</td>\n",
       "      <td>0</td>\n",
       "      <td>0</td>\n",
       "      <td>0</td>\n",
       "    </tr>\n",
       "    <tr>\n",
       "      <th>3</th>\n",
       "      <td>0</td>\n",
       "      <td>0</td>\n",
       "      <td>0</td>\n",
       "      <td>0</td>\n",
       "      <td>0</td>\n",
       "      <td>0</td>\n",
       "      <td>1</td>\n",
       "      <td>0</td>\n",
       "      <td>0</td>\n",
       "      <td>0</td>\n",
       "      <td>...</td>\n",
       "      <td>0</td>\n",
       "      <td>1</td>\n",
       "      <td>2</td>\n",
       "      <td>0</td>\n",
       "      <td>0</td>\n",
       "      <td>0</td>\n",
       "      <td>0</td>\n",
       "      <td>0</td>\n",
       "      <td>0</td>\n",
       "      <td>1</td>\n",
       "    </tr>\n",
       "    <tr>\n",
       "      <th>4</th>\n",
       "      <td>0</td>\n",
       "      <td>0</td>\n",
       "      <td>0</td>\n",
       "      <td>0</td>\n",
       "      <td>1</td>\n",
       "      <td>0</td>\n",
       "      <td>0</td>\n",
       "      <td>0</td>\n",
       "      <td>0</td>\n",
       "      <td>0</td>\n",
       "      <td>...</td>\n",
       "      <td>0</td>\n",
       "      <td>0</td>\n",
       "      <td>0</td>\n",
       "      <td>0</td>\n",
       "      <td>1</td>\n",
       "      <td>0</td>\n",
       "      <td>0</td>\n",
       "      <td>1</td>\n",
       "      <td>1</td>\n",
       "      <td>1</td>\n",
       "    </tr>\n",
       "  </tbody>\n",
       "</table>\n",
       "<p>5 rows × 100 columns</p>\n",
       "</div>"
      ],
      "text/plain": [
       "   ability  advanced  algorithm  analysis  analytic  analytical  analyze  \\\n",
       "0        2         0          0         0         0           0        0   \n",
       "1        1         0          1         1         0           1        0   \n",
       "2        1         1          1         0         1           1        1   \n",
       "3        0         0          0         0         0           0        1   \n",
       "4        0         0          0         0         1           0        0   \n",
       "\n",
       "   apply  base  build  ...  tool  use  work  world  x80  x80 x99s  x99s  xe2  \\\n",
       "0      1     0      0  ...     0    0     1      0    0         0     0    0   \n",
       "1      0     0      1  ...     1    0     6      2    8         2     2    8   \n",
       "2      1     0      1  ...     0    0     2      0    0         0     0    0   \n",
       "3      0     0      0  ...     0    1     2      0    0         0     0    0   \n",
       "4      0     0      0  ...     0    0     0      0    1         0     0    1   \n",
       "\n",
       "   xe2 x80  year  \n",
       "0        0     0  \n",
       "1        8     1  \n",
       "2        0     0  \n",
       "3        0     1  \n",
       "4        1     1  \n",
       "\n",
       "[5 rows x 100 columns]"
      ]
     },
     "execution_count": 87,
     "metadata": {},
     "output_type": "execute_result"
    }
   ],
   "source": [
    "dtm_tf.head()"
   ]
  },
  {
   "cell_type": "markdown",
   "metadata": {
    "id": "Zo1iH_UeY7_n"
   },
   "source": [
    "## 4) Visualize the most common word counts in a barplot"
   ]
  },
  {
   "cell_type": "code",
   "execution_count": 88,
   "metadata": {
    "id": "zTO2axiBN_LV",
    "nbgrader": {
     "grade": false,
     "grade_id": "cell-28e6e72be885c0d4",
     "locked": false,
     "schema_version": 3,
     "solution": true,
     "task": false
    },
    "outputId": "cd7f35d0-9fb4-4bdb-ebb9-890ffe9f01cf"
   },
   "outputs": [
    {
     "data": {
      "image/png": "[encoded data removed]",
      "text/plain": [
       "<Figure size 1080x360 with 1 Axes>"
      ]
     },
     "metadata": {
      "needs_background": "light"
     },
     "output_type": "display_data"
    }
   ],
   "source": [
    "###BEGIN SOLUTION\n",
    "# COMPLETE THE CODE IN THIS CELL\n",
    "top_n = 20\n",
    "# sum the term counts in each column of the dtm_tf data frame and then sort in descending order\n",
    "sorted_terms = dtm_tf.sum().sort_values(ascending=False)[:20]\n",
    "\n",
    "plt.figure(figsize=(15,5))\n",
    "plt.xticks(rotation=90, fontsize=20)\n",
    "plt.bar(sorted_terms.index, sorted_terms)\n",
    "plt.title(f\"Top {top_n} Most Common Words in Tech Job Listings\", fontsize=14);\n",
    "###END SOLUTION"
   ]
  },
  {
   "cell_type": "markdown",
   "metadata": {
    "id": "bwFsTqrVZMYi"
   },
   "source": [
    "## 5) Use Scikit-Learn's `TfidfVectorizer` to get a TF-IDF feature matrix\n",
    "\n",
    "- Instantiate a `TfidfVectorizer` object\n",
    "- Pass the tokenizer that you created above as a parameter value into `TfidfVectorizer`\n",
    "- Use `TfidfVectorizer` to create a *document-term matrix* \n",
    "- Copy your *document-term matrix* into a `pandas` dataframe, getting the column names from the `TfidfVectorizer` object\n"
   ]
  },
  {
   "cell_type": "code",
   "execution_count": 113,
   "metadata": {
    "id": "-gx2gZCbl5Np",
    "nbgrader": {
     "grade": false,
     "grade_id": "cell-91b92ce728d8f3eb",
     "locked": false,
     "schema_version": 3,
     "solution": true,
     "task": false
    }
   },
   "outputs": [],
   "source": [
    "###BEGIN SOLUTION\n",
    "tfidf_vect = TfidfVectorizer(stop_words='english', ngram_range=(1,2), max_features=100, tokenizer=tokenizer)\n",
    "\n",
    "\n",
    "dtm_tfidf = tfidf_vect.fit_transform(df['clean_text'])\n",
    "dtm_tfidf = pd.DataFrame(data=dtm_tfidf.toarray(), columns=tfidf_vect.get_feature_names())\n",
    "###END SOLUTION"
   ]
  },
  {
   "cell_type": "code",
   "execution_count": 114,
   "metadata": {
    "id": "0Um4GYV2N_LY",
    "outputId": "42d374d0-82ef-4282-a201-10971a652b38"
   },
   "outputs": [
    {
     "data": {
      "text/html": [
       "<div>\n",
       "<style scoped>\n",
       "    .dataframe tbody tr th:only-of-type {\n",
       "        vertical-align: middle;\n",
       "    }\n",
       "\n",
       "    .dataframe tbody tr th {\n",
       "        vertical-align: top;\n",
       "    }\n",
       "\n",
       "    .dataframe thead th {\n",
       "        text-align: right;\n",
       "    }\n",
       "</style>\n",
       "<table border=\"1\" class=\"dataframe\">\n",
       "  <thead>\n",
       "    <tr style=\"text-align: right;\">\n",
       "      <th></th>\n",
       "      <th>ability</th>\n",
       "      <th>advanced</th>\n",
       "      <th>algorithm</th>\n",
       "      <th>analysis</th>\n",
       "      <th>analytic</th>\n",
       "      <th>analytical</th>\n",
       "      <th>analyze</th>\n",
       "      <th>apply</th>\n",
       "      <th>base</th>\n",
       "      <th>build</th>\n",
       "      <th>...</th>\n",
       "      <th>tool</th>\n",
       "      <th>use</th>\n",
       "      <th>work</th>\n",
       "      <th>world</th>\n",
       "      <th>x80</th>\n",
       "      <th>x80 x99s</th>\n",
       "      <th>x99s</th>\n",
       "      <th>xe2</th>\n",
       "      <th>xe2 x80</th>\n",
       "      <th>year</th>\n",
       "    </tr>\n",
       "  </thead>\n",
       "  <tbody>\n",
       "    <tr>\n",
       "      <th>0</th>\n",
       "      <td>0.360821</td>\n",
       "      <td>0.000000</td>\n",
       "      <td>0.000000</td>\n",
       "      <td>0.000000</td>\n",
       "      <td>0.000000</td>\n",
       "      <td>0.000000</td>\n",
       "      <td>0.000000</td>\n",
       "      <td>0.189656</td>\n",
       "      <td>0.000000</td>\n",
       "      <td>0.000000</td>\n",
       "      <td>...</td>\n",
       "      <td>0.000000</td>\n",
       "      <td>0.000000</td>\n",
       "      <td>0.130689</td>\n",
       "      <td>0.000000</td>\n",
       "      <td>0.000000</td>\n",
       "      <td>0.000000</td>\n",
       "      <td>0.000000</td>\n",
       "      <td>0.000000</td>\n",
       "      <td>0.000000</td>\n",
       "      <td>0.000000</td>\n",
       "    </tr>\n",
       "    <tr>\n",
       "      <th>1</th>\n",
       "      <td>0.049399</td>\n",
       "      <td>0.000000</td>\n",
       "      <td>0.061912</td>\n",
       "      <td>0.044090</td>\n",
       "      <td>0.000000</td>\n",
       "      <td>0.058685</td>\n",
       "      <td>0.000000</td>\n",
       "      <td>0.000000</td>\n",
       "      <td>0.000000</td>\n",
       "      <td>0.045995</td>\n",
       "      <td>...</td>\n",
       "      <td>0.047896</td>\n",
       "      <td>0.000000</td>\n",
       "      <td>0.214706</td>\n",
       "      <td>0.110879</td>\n",
       "      <td>0.338331</td>\n",
       "      <td>0.099831</td>\n",
       "      <td>0.099831</td>\n",
       "      <td>0.337509</td>\n",
       "      <td>0.338331</td>\n",
       "      <td>0.042189</td>\n",
       "    </tr>\n",
       "    <tr>\n",
       "      <th>2</th>\n",
       "      <td>0.136842</td>\n",
       "      <td>0.172556</td>\n",
       "      <td>0.171506</td>\n",
       "      <td>0.000000</td>\n",
       "      <td>0.134390</td>\n",
       "      <td>0.162565</td>\n",
       "      <td>0.173086</td>\n",
       "      <td>0.143855</td>\n",
       "      <td>0.000000</td>\n",
       "      <td>0.127413</td>\n",
       "      <td>...</td>\n",
       "      <td>0.000000</td>\n",
       "      <td>0.000000</td>\n",
       "      <td>0.198255</td>\n",
       "      <td>0.000000</td>\n",
       "      <td>0.000000</td>\n",
       "      <td>0.000000</td>\n",
       "      <td>0.000000</td>\n",
       "      <td>0.000000</td>\n",
       "      <td>0.000000</td>\n",
       "      <td>0.000000</td>\n",
       "    </tr>\n",
       "    <tr>\n",
       "      <th>3</th>\n",
       "      <td>0.000000</td>\n",
       "      <td>0.000000</td>\n",
       "      <td>0.000000</td>\n",
       "      <td>0.000000</td>\n",
       "      <td>0.000000</td>\n",
       "      <td>0.000000</td>\n",
       "      <td>0.194788</td>\n",
       "      <td>0.000000</td>\n",
       "      <td>0.000000</td>\n",
       "      <td>0.000000</td>\n",
       "      <td>...</td>\n",
       "      <td>0.000000</td>\n",
       "      <td>0.187296</td>\n",
       "      <td>0.223113</td>\n",
       "      <td>0.000000</td>\n",
       "      <td>0.000000</td>\n",
       "      <td>0.000000</td>\n",
       "      <td>0.000000</td>\n",
       "      <td>0.000000</td>\n",
       "      <td>0.000000</td>\n",
       "      <td>0.131522</td>\n",
       "    </tr>\n",
       "    <tr>\n",
       "      <th>4</th>\n",
       "      <td>0.000000</td>\n",
       "      <td>0.000000</td>\n",
       "      <td>0.000000</td>\n",
       "      <td>0.000000</td>\n",
       "      <td>0.328001</td>\n",
       "      <td>0.000000</td>\n",
       "      <td>0.000000</td>\n",
       "      <td>0.000000</td>\n",
       "      <td>0.000000</td>\n",
       "      <td>0.000000</td>\n",
       "      <td>...</td>\n",
       "      <td>0.000000</td>\n",
       "      <td>0.000000</td>\n",
       "      <td>0.000000</td>\n",
       "      <td>0.000000</td>\n",
       "      <td>0.285932</td>\n",
       "      <td>0.000000</td>\n",
       "      <td>0.000000</td>\n",
       "      <td>0.285237</td>\n",
       "      <td>0.285932</td>\n",
       "      <td>0.285237</td>\n",
       "    </tr>\n",
       "    <tr>\n",
       "      <th>...</th>\n",
       "      <td>...</td>\n",
       "      <td>...</td>\n",
       "      <td>...</td>\n",
       "      <td>...</td>\n",
       "      <td>...</td>\n",
       "      <td>...</td>\n",
       "      <td>...</td>\n",
       "      <td>...</td>\n",
       "      <td>...</td>\n",
       "      <td>...</td>\n",
       "      <td>...</td>\n",
       "      <td>...</td>\n",
       "      <td>...</td>\n",
       "      <td>...</td>\n",
       "      <td>...</td>\n",
       "      <td>...</td>\n",
       "      <td>...</td>\n",
       "      <td>...</td>\n",
       "      <td>...</td>\n",
       "      <td>...</td>\n",
       "      <td>...</td>\n",
       "    </tr>\n",
       "    <tr>\n",
       "      <th>421</th>\n",
       "      <td>0.089196</td>\n",
       "      <td>0.000000</td>\n",
       "      <td>0.000000</td>\n",
       "      <td>0.000000</td>\n",
       "      <td>0.000000</td>\n",
       "      <td>0.000000</td>\n",
       "      <td>0.169231</td>\n",
       "      <td>0.140650</td>\n",
       "      <td>0.218257</td>\n",
       "      <td>0.083050</td>\n",
       "      <td>...</td>\n",
       "      <td>0.043241</td>\n",
       "      <td>0.000000</td>\n",
       "      <td>0.032307</td>\n",
       "      <td>0.000000</td>\n",
       "      <td>0.152725</td>\n",
       "      <td>0.090129</td>\n",
       "      <td>0.090129</td>\n",
       "      <td>0.152354</td>\n",
       "      <td>0.152725</td>\n",
       "      <td>0.152354</td>\n",
       "    </tr>\n",
       "    <tr>\n",
       "      <th>422</th>\n",
       "      <td>0.000000</td>\n",
       "      <td>0.000000</td>\n",
       "      <td>0.095622</td>\n",
       "      <td>0.068097</td>\n",
       "      <td>0.000000</td>\n",
       "      <td>0.000000</td>\n",
       "      <td>0.000000</td>\n",
       "      <td>0.000000</td>\n",
       "      <td>0.000000</td>\n",
       "      <td>0.142077</td>\n",
       "      <td>...</td>\n",
       "      <td>0.073975</td>\n",
       "      <td>0.092792</td>\n",
       "      <td>0.165804</td>\n",
       "      <td>0.256875</td>\n",
       "      <td>0.065318</td>\n",
       "      <td>0.077094</td>\n",
       "      <td>0.077094</td>\n",
       "      <td>0.065159</td>\n",
       "      <td>0.065318</td>\n",
       "      <td>0.000000</td>\n",
       "    </tr>\n",
       "    <tr>\n",
       "      <th>423</th>\n",
       "      <td>0.000000</td>\n",
       "      <td>0.215319</td>\n",
       "      <td>0.000000</td>\n",
       "      <td>0.000000</td>\n",
       "      <td>0.000000</td>\n",
       "      <td>0.000000</td>\n",
       "      <td>0.000000</td>\n",
       "      <td>0.000000</td>\n",
       "      <td>0.000000</td>\n",
       "      <td>0.238483</td>\n",
       "      <td>...</td>\n",
       "      <td>0.165560</td>\n",
       "      <td>0.103837</td>\n",
       "      <td>0.000000</td>\n",
       "      <td>0.287451</td>\n",
       "      <td>0.073093</td>\n",
       "      <td>0.086270</td>\n",
       "      <td>0.086270</td>\n",
       "      <td>0.072915</td>\n",
       "      <td>0.073093</td>\n",
       "      <td>0.072915</td>\n",
       "    </tr>\n",
       "    <tr>\n",
       "      <th>424</th>\n",
       "      <td>0.000000</td>\n",
       "      <td>0.000000</td>\n",
       "      <td>0.000000</td>\n",
       "      <td>0.091855</td>\n",
       "      <td>0.000000</td>\n",
       "      <td>0.000000</td>\n",
       "      <td>0.130173</td>\n",
       "      <td>0.162283</td>\n",
       "      <td>0.062956</td>\n",
       "      <td>0.000000</td>\n",
       "      <td>...</td>\n",
       "      <td>0.000000</td>\n",
       "      <td>0.000000</td>\n",
       "      <td>0.186377</td>\n",
       "      <td>0.057750</td>\n",
       "      <td>0.088107</td>\n",
       "      <td>0.051996</td>\n",
       "      <td>0.051996</td>\n",
       "      <td>0.087893</td>\n",
       "      <td>0.088107</td>\n",
       "      <td>0.043947</td>\n",
       "    </tr>\n",
       "    <tr>\n",
       "      <th>425</th>\n",
       "      <td>0.000000</td>\n",
       "      <td>0.057241</td>\n",
       "      <td>0.113785</td>\n",
       "      <td>0.081031</td>\n",
       "      <td>0.133742</td>\n",
       "      <td>0.053927</td>\n",
       "      <td>0.000000</td>\n",
       "      <td>0.190880</td>\n",
       "      <td>0.111076</td>\n",
       "      <td>0.000000</td>\n",
       "      <td>...</td>\n",
       "      <td>0.044013</td>\n",
       "      <td>0.000000</td>\n",
       "      <td>0.295947</td>\n",
       "      <td>0.000000</td>\n",
       "      <td>0.194313</td>\n",
       "      <td>0.137606</td>\n",
       "      <td>0.137606</td>\n",
       "      <td>0.193841</td>\n",
       "      <td>0.194313</td>\n",
       "      <td>0.077536</td>\n",
       "    </tr>\n",
       "  </tbody>\n",
       "</table>\n",
       "<p>426 rows × 100 columns</p>\n",
       "</div>"
      ],
      "text/plain": [
       "      ability  advanced  algorithm  analysis  analytic  analytical   analyze  \\\n",
       "0    0.360821  0.000000   0.000000  0.000000  0.000000    0.000000  0.000000   \n",
       "1    0.049399  0.000000   0.061912  0.044090  0.000000    0.058685  0.000000   \n",
       "2    0.136842  0.172556   0.171506  0.000000  0.134390    0.162565  0.173086   \n",
       "3    0.000000  0.000000   0.000000  0.000000  0.000000    0.000000  0.194788   \n",
       "4    0.000000  0.000000   0.000000  0.000000  0.328001    0.000000  0.000000   \n",
       "..        ...       ...        ...       ...       ...         ...       ...   \n",
       "421  0.089196  0.000000   0.000000  0.000000  0.000000    0.000000  0.169231   \n",
       "422  0.000000  0.000000   0.095622  0.068097  0.000000    0.000000  0.000000   \n",
       "423  0.000000  0.215319   0.000000  0.000000  0.000000    0.000000  0.000000   \n",
       "424  0.000000  0.000000   0.000000  0.091855  0.000000    0.000000  0.130173   \n",
       "425  0.000000  0.057241   0.113785  0.081031  0.133742    0.053927  0.000000   \n",
       "\n",
       "        apply      base     build  ...      tool       use      work  \\\n",
       "0    0.189656  0.000000  0.000000  ...  0.000000  0.000000  0.130689   \n",
       "1    0.000000  0.000000  0.045995  ...  0.047896  0.000000  0.214706   \n",
       "2    0.143855  0.000000  0.127413  ...  0.000000  0.000000  0.198255   \n",
       "3    0.000000  0.000000  0.000000  ...  0.000000  0.187296  0.223113   \n",
       "4    0.000000  0.000000  0.000000  ...  0.000000  0.000000  0.000000   \n",
       "..        ...       ...       ...  ...       ...       ...       ...   \n",
       "421  0.140650  0.218257  0.083050  ...  0.043241  0.000000  0.032307   \n",
       "422  0.000000  0.000000  0.142077  ...  0.073975  0.092792  0.165804   \n",
       "423  0.000000  0.000000  0.238483  ...  0.165560  0.103837  0.000000   \n",
       "424  0.162283  0.062956  0.000000  ...  0.000000  0.000000  0.186377   \n",
       "425  0.190880  0.111076  0.000000  ...  0.044013  0.000000  0.295947   \n",
       "\n",
       "        world       x80  x80 x99s      x99s       xe2   xe2 x80      year  \n",
       "0    0.000000  0.000000  0.000000  0.000000  0.000000  0.000000  0.000000  \n",
       "1    0.110879  0.338331  0.099831  0.099831  0.337509  0.338331  0.042189  \n",
       "2    0.000000  0.000000  0.000000  0.000000  0.000000  0.000000  0.000000  \n",
       "3    0.000000  0.000000  0.000000  0.000000  0.000000  0.000000  0.131522  \n",
       "4    0.000000  0.285932  0.000000  0.000000  0.285237  0.285932  0.285237  \n",
       "..        ...       ...       ...       ...       ...       ...       ...  \n",
       "421  0.000000  0.152725  0.090129  0.090129  0.152354  0.152725  0.152354  \n",
       "422  0.256875  0.065318  0.077094  0.077094  0.065159  0.065318  0.000000  \n",
       "423  0.287451  0.073093  0.086270  0.086270  0.072915  0.073093  0.072915  \n",
       "424  0.057750  0.088107  0.051996  0.051996  0.087893  0.088107  0.043947  \n",
       "425  0.000000  0.194313  0.137606  0.137606  0.193841  0.194313  0.077536  \n",
       "\n",
       "[426 rows x 100 columns]"
      ]
     },
     "execution_count": 114,
     "metadata": {},
     "output_type": "execute_result"
    }
   ],
   "source": [
    "dtm_tfidf "
   ]
  },
  {
   "cell_type": "markdown",
   "metadata": {
    "id": "Sfy_WGLrQl_T"
   },
   "source": [
    "Stretch: see if you can make a visualization of this TF-IDF Document-Term  matrix, as you did in Part 3 for the CountVectorizer Document-Term matrix, i.e. using a barplot."
   ]
  },
  {
   "cell_type": "markdown",
   "metadata": {
    "id": "MPGAFniRN_LY"
   },
   "source": [
    "## 6) Create a `NearestNeighbor` Model for the Data Science job listings\n",
    "Write a some text that describes your ideal Data Science job, and query the model to identify jobs with similar descriptions!"
   ]
  },
  {
   "cell_type": "code",
   "execution_count": 115,
   "metadata": {
    "collapsed": false,
    "id": "Jr152QRrN_LZ",
    "inputHidden": false,
    "jupyter": {
     "outputs_hidden": false
    },
    "outputHidden": false
   },
   "outputs": [],
   "source": [
    "ideal_ds_job_query=['''100k for an entry level data scientist with more than 1 year of experience,\n",
    "                    flexible schedule, work from home, full cover insurance including dental, holidays bonus,\n",
    "                    grow in the field, unlimited time off''']"
   ]
  },
  {
   "cell_type": "code",
   "execution_count": 141,
   "metadata": {
    "id": "Zdwl_7BFibnk"
   },
   "outputs": [],
   "source": [
    "# vectorize your ideal job description using your fitted tfidf vectorizer \n",
    "ideal_job_vector = tfidf_vect.transform(ideal_ds_job_query).toarray()\n",
    "\n",
    "# fit NearestNeighbors model to the Indeed reviews document-term matrix that you created\n",
    "nn = NearestNeighbors(n_neighbors=5, algorithm='kd_tree')\n",
    "nn.fit(dtm_tfidf)\n",
    "\n",
    "# get top_n_neigh distances and review indices for reviews that are closest to your ideal job\n",
    "n_dist, n_ind = nn.kneighbors(ideal_job_vector)\n",
    "\n",
    "# look at a few of the most similar job descriptions to your ideal job\n",
    "# Did your query find good matches?\n",
    "# YOUR CODE HERE\n"
   ]
  },
  {
   "cell_type": "code",
   "execution_count": 142,
   "metadata": {},
   "outputs": [
    {
     "data": {
      "text/plain": [
       "array([[149, 343,  84,  29, 160]], dtype=int64)"
      ]
     },
     "execution_count": 142,
     "metadata": {},
     "output_type": "execute_result"
    }
   ],
   "source": [
    "n_ind"
   ]
  },
  {
   "cell_type": "code",
   "execution_count": 143,
   "metadata": {},
   "outputs": [
    {
     "data": {
      "text/plain": [
       "array([[0.98920499, 0.98920499, 1.0042408 , 1.04254388, 1.04403609]])"
      ]
     },
     "execution_count": 143,
     "metadata": {},
     "output_type": "execute_result"
    }
   ],
   "source": [
    "n_dist"
   ]
  },
  {
   "cell_type": "markdown",
   "metadata": {
    "id": "FiDfTWceoRkH"
   },
   "source": [
    "## Stretch Goals: do one of more of these that strike your fancy!\n",
    "\n",
    " - Repeat Part 6, but this time using spacy's word embeddings to represent documents as vectors. Remember, to form a document vector from spacy word embeddings, you average together the word embedding vectors of all the words in the document, so the document vector will have the same dimensionality as the word embeddings, namely 300 dimensions. Do you notice any difference in the results?\n",
    " - Watch Josh Starmer's video [StatQuest: Principal Component Analysis (PCA), Step-by-Step](https://www.youtube.com/watch?v=FgakZw6K1QQ). Or read [Daniela Witten's tweetstorm](https://twitter.com/womeninstat/status/1285610321747611653?lang=en) on Singular Value Decomposition (SVD). Now go back and review the section \"Can we visualize word vectors?\" from the [lecture video](https://drive.google.com/file/d/1QuwkO2Uj5sONFtqCk0_d2zrks2I6stkN/view?usp=sharing). Write a brief description of your understanding of Principal Components Analysis, and how it was used to visualize word vectors. Do your own experiments to explore relationships of words in two dimensions. Write a summary of what you discovered.\n",
    "\n",
    " - Try different visualizations for words and frequencies - what story do you want to tell with the data?\n",
    " - Scrape Job Listings for the job title \"Data Analyst\". How do these differ from Data Scientist Job Listings?\n",
    " - Try and identify requirements for experience specific technologies that are asked for in the job listings. Hint: compose a query that references a number of tech stack items. How are those items distributed among the job listings?\n",
    " - Use a clustering algorithm to cluster documents by their most important terms. Do the clusters reveal any common themes?\n",
    "  - **Hint:** K-means might not be the best algorithm for this; algorithms that depend on Euclidean distance break down with high dimensional data. Do a bit of research to see if you can identify a suitable clustering algorithm.\n",
    " - Create a labeled dataset - which jobs will you apply for? Train a model to select the jobs you are most likely to apply for."
   ]
  }
 ],
 "metadata": {
  "celltoolbar": "Create Assignment",
  "colab": {
   "collapsed_sections": [],
   "name": "DS_412_Vector_Representations_Assignment.ipynb",
   "provenance": [
    {
     "file_id": "1sxgAXwvl89oagqI4FSPWjDTVah_OQOmx",
     "timestamp": 1630433091283
    },
    {
     "file_id": "1tb5SPpx4C4Mh_EPA8QaJuLjo_9Qw05A0",
     "timestamp": 1630098577459
    },
    {
     "file_id": "1edJOyMpQnmYjtu5Bguqh1D9IVTxkz_Ug",
     "timestamp": 1629924143599
    }
   ]
  },
  "kernel_info": {
   "name": "python3"
  },
  "kernelspec": {
   "display_name": "U4-S1-NLP (Python3)",
   "language": "python",
   "name": "u4-s1-nlp"
  },
  "language_info": {
   "codemirror_mode": {
    "name": "ipython",
    "version": 3
   },
   "file_extension": ".py",
   "mimetype": "text/x-python",
   "name": "python",
   "nbconvert_exporter": "python",
   "pygments_lexer": "ipython3",
   "version": "3.7.0"
  },
  "nteract": {
   "version": "0.14.3"
  }
 },
 "nbformat": 4,
 "nbformat_minor": 4
}
