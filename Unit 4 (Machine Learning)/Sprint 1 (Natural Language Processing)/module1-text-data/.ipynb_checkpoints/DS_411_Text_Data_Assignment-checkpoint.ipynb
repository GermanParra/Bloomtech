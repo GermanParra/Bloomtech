{
 "cells": [
  {
   "cell_type": "markdown",
   "metadata": {
    "id": "XLVEUBHAszyf"
   },
   "source": [
    "\n",
    "\n",
    "# Natural Language Processing (NLP)\n",
    "## *Data Science Unit 4 Sprint 1 Assignment 1*\n",
    "\n",
    "Your goal in this assignment: find the attributes of the best & worst coffee shops in the dataset. The text is fairly raw: dates in the review, extra words in the `star_rating` column, etc. You'll probably want to clean that stuff up for a better analysis. \n",
    "\n",
    "Analyze the corpus of text using text visualizations of token frequency. Try cleaning the data as much as possible. Try the following techniques: \n",
    "- Lemmatization\n",
    "- Custom stopword removal\n",
    "\n",
    "Keep in mind the attributes of good tokens. Once you have a solid baseline, layer in the star rating in your visualization(s). Key part of this assignment - produce a write-up of the attributes of the best and worst coffee shops. Based on your analysis, what makes the best the best and the worst the worst. Use graphs and numbesr from your analysis to support your conclusions. There should be plenty of markdown cells! :coffee:"
   ]
  },
  {
   "cell_type": "code",
   "execution_count": 1,
   "metadata": {
    "colab": {
     "base_uri": "https://localhost:8080/",
     "height": 322
    },
    "executionInfo": {
     "elapsed": 157,
     "status": "ok",
     "timestamp": 1629922511462,
     "user": {
      "displayName": "Ryan Allred",
      "photoUrl": "",
      "userId": "04031804316926795705"
     },
     "user_tz": 360
    },
    "id": "WVikJqB6szyi",
    "outputId": "01cdfbb2-fc1f-42b1-9836-bd5ad8c25940"
   },
   "outputs": [
    {
     "data": {
      "image/jpeg": "[encoded data removed]",
      "text/html": [
       "\n",
       "        <iframe\n",
       "            width=\"400\"\n",
       "            height=\"300\"\n",
       "            src=\"https://www.youtube.com/embed/Jml7NVYm8cs\"\n",
       "            frameborder=\"0\"\n",
       "            allowfullscreen\n",
       "            \n",
       "        ></iframe>\n",
       "        "
      ],
      "text/plain": [
       "<IPython.lib.display.YouTubeVideo at 0x1e9f57af2b0>"
      ]
     },
     "execution_count": 1,
     "metadata": {},
     "output_type": "execute_result"
    }
   ],
   "source": [
    "from IPython.display import YouTubeVideo\n",
    "YouTubeVideo('Jml7NVYm8cs')"
   ]
  },
  {
   "cell_type": "markdown",
   "metadata": {
    "id": "Zwv93p0nw4y7"
   },
   "source": [
    "#0. Prepare"
   ]
  },
  {
   "cell_type": "markdown",
   "metadata": {
    "id": "NznKZiH9wpvW"
   },
   "source": [
    "## 0.1 Get spacy"
   ]
  },
  {
   "cell_type": "code",
   "execution_count": 2,
   "metadata": {
    "colab": {
     "base_uri": "https://localhost:8080/"
    },
    "executionInfo": {
     "elapsed": 44956,
     "status": "ok",
     "timestamp": 1638224220453,
     "user": {
      "displayName": "Joseph catanzarite",
      "photoUrl": "https://lh3.googleusercontent.com/a-/AOh14GgmMRaw8NgoEDqzevEZ6b18iOYdEH9nWTZeaFBW=s64",
      "userId": "16649206137414945374"
     },
     "user_tz": 480
    },
    "id": "jOfpgOqSyX4p",
    "outputId": "cc49e053-d958-419a-d8b3-7604be5d97c5"
   },
   "outputs": [
    {
     "name": "stderr",
     "output_type": "stream",
     "text": [
      "C:\\Users\\GPARR\\anaconda3\\python.exe: No module named spacy\n"
     ]
    }
   ],
   "source": [
    "# Locally (or on colab) let's use en_core_web_lg \n",
    "!python -m spacy download en_core_web_md # Can do lg, takes awhile\n",
    "# Also on Colab, need to restart runtime after this step!"
   ]
  },
  {
   "cell_type": "markdown",
   "metadata": {
    "id": "S34mj-a5wwfa"
   },
   "source": [
    "## 0.2 Restart runtime!"
   ]
  },
  {
   "cell_type": "markdown",
   "metadata": {
    "id": "j7nBZY8Z0I4W"
   },
   "source": [
    "## 0.3 Install packages and do imports"
   ]
  },
  {
   "cell_type": "code",
   "execution_count": 3,
   "metadata": {
    "colab": {
     "base_uri": "https://localhost:8080/"
    },
    "executionInfo": {
     "elapsed": 3351,
     "status": "ok",
     "timestamp": 1638224236936,
     "user": {
      "displayName": "Joseph catanzarite",
      "photoUrl": "https://lh3.googleusercontent.com/a-/AOh14GgmMRaw8NgoEDqzevEZ6b18iOYdEH9nWTZeaFBW=s64",
      "userId": "16649206137414945374"
     },
     "user_tz": 480
    },
    "id": "gQuk1Tmf28gG",
    "outputId": "9e729ecf-3f24-4916-87c8-6f2e89c6eafd"
   },
   "outputs": [
    {
     "name": "stdout",
     "output_type": "stream",
     "text": [
      "Collecting squarify\n",
      "  Using cached squarify-0.4.3-py3-none-any.whl (4.3 kB)\n",
      "Installing collected packages: squarify\n",
      "Successfully installed squarify-0.4.3\n"
     ]
    }
   ],
   "source": [
    "!pip install squarify"
   ]
  },
  {
   "cell_type": "code",
   "execution_count": 4,
   "metadata": {
    "executionInfo": {
     "elapsed": 362,
     "status": "ok",
     "timestamp": 1638224237634,
     "user": {
      "displayName": "Joseph catanzarite",
      "photoUrl": "https://lh3.googleusercontent.com/a-/AOh14GgmMRaw8NgoEDqzevEZ6b18iOYdEH9nWTZeaFBW=s64",
      "userId": "16649206137414945374"
     },
     "user_tz": 480
    },
    "id": "IIyTZrE3-fNd"
   },
   "outputs": [],
   "source": [
    "import pandas as pd\n",
    "import matplotlib.pyplot as plt\n",
    "%matplotlib inline\n",
    "import seaborn as sns"
   ]
  },
  {
   "cell_type": "markdown",
   "metadata": {
    "id": "H9x5mry3szyk"
   },
   "source": [
    "-----"
   ]
  },
  {
   "cell_type": "markdown",
   "metadata": {
    "id": "xFOEkbR40TZf"
   },
   "source": [
    "## 0.4 Get data"
   ]
  },
  {
   "cell_type": "code",
   "execution_count": 5,
   "metadata": {
    "colab": {
     "base_uri": "https://localhost:8080/",
     "height": 206
    },
    "executionInfo": {
     "elapsed": 3825,
     "status": "ok",
     "timestamp": 1638224243352,
     "user": {
      "displayName": "Joseph catanzarite",
      "photoUrl": "https://lh3.googleusercontent.com/a-/AOh14GgmMRaw8NgoEDqzevEZ6b18iOYdEH9nWTZeaFBW=s64",
      "userId": "16649206137414945374"
     },
     "user_tz": 480
    },
    "id": "NXNgjaqaszyk",
    "outputId": "b18b1208-5d8b-4757-e865-7e407f4e732b"
   },
   "outputs": [
    {
     "data": {
      "text/html": [
       "<div>\n",
       "<style scoped>\n",
       "    .dataframe tbody tr th:only-of-type {\n",
       "        vertical-align: middle;\n",
       "    }\n",
       "\n",
       "    .dataframe tbody tr th {\n",
       "        vertical-align: top;\n",
       "    }\n",
       "\n",
       "    .dataframe thead th {\n",
       "        text-align: right;\n",
       "    }\n",
       "</style>\n",
       "<table border=\"1\" class=\"dataframe\">\n",
       "  <thead>\n",
       "    <tr style=\"text-align: right;\">\n",
       "      <th></th>\n",
       "      <th>coffee_shop_name</th>\n",
       "      <th>full_review_text</th>\n",
       "      <th>star_rating</th>\n",
       "    </tr>\n",
       "  </thead>\n",
       "  <tbody>\n",
       "    <tr>\n",
       "      <th>0</th>\n",
       "      <td>The Factory - Cafe With a Soul</td>\n",
       "      <td>11/25/2016 1 check-in Love love loved the atm...</td>\n",
       "      <td>5.0 star rating</td>\n",
       "    </tr>\n",
       "    <tr>\n",
       "      <th>1</th>\n",
       "      <td>The Factory - Cafe With a Soul</td>\n",
       "      <td>12/2/2016 Listed in Date Night: Austin, Ambia...</td>\n",
       "      <td>4.0 star rating</td>\n",
       "    </tr>\n",
       "    <tr>\n",
       "      <th>2</th>\n",
       "      <td>The Factory - Cafe With a Soul</td>\n",
       "      <td>11/30/2016 1 check-in Listed in Brunch Spots ...</td>\n",
       "      <td>4.0 star rating</td>\n",
       "    </tr>\n",
       "    <tr>\n",
       "      <th>3</th>\n",
       "      <td>The Factory - Cafe With a Soul</td>\n",
       "      <td>11/25/2016 Very cool decor! Good drinks Nice ...</td>\n",
       "      <td>2.0 star rating</td>\n",
       "    </tr>\n",
       "    <tr>\n",
       "      <th>4</th>\n",
       "      <td>The Factory - Cafe With a Soul</td>\n",
       "      <td>12/3/2016 1 check-in They are located within ...</td>\n",
       "      <td>4.0 star rating</td>\n",
       "    </tr>\n",
       "  </tbody>\n",
       "</table>\n",
       "</div>"
      ],
      "text/plain": [
       "                  coffee_shop_name  \\\n",
       "0  The Factory - Cafe With a Soul    \n",
       "1  The Factory - Cafe With a Soul    \n",
       "2  The Factory - Cafe With a Soul    \n",
       "3  The Factory - Cafe With a Soul    \n",
       "4  The Factory - Cafe With a Soul    \n",
       "\n",
       "                                    full_review_text        star_rating  \n",
       "0   11/25/2016 1 check-in Love love loved the atm...   5.0 star rating   \n",
       "1   12/2/2016 Listed in Date Night: Austin, Ambia...   4.0 star rating   \n",
       "2   11/30/2016 1 check-in Listed in Brunch Spots ...   4.0 star rating   \n",
       "3   11/25/2016 Very cool decor! Good drinks Nice ...   2.0 star rating   \n",
       "4   12/3/2016 1 check-in They are located within ...   4.0 star rating   "
      ]
     },
     "execution_count": 5,
     "metadata": {},
     "output_type": "execute_result"
    }
   ],
   "source": [
    "url = \"https://raw.githubusercontent.com/LambdaSchool/DS-Unit-4-Sprint-1-NLP/main/module1-text-data/data/yelp_coffeeshop_review_data.csv\"\n",
    "\n",
    "df = pd.read_csv(url)\n",
    "df.head()"
   ]
  },
  {
   "cell_type": "code",
   "execution_count": 6,
   "metadata": {
    "colab": {
     "base_uri": "https://localhost:8080/",
     "height": 73
    },
    "executionInfo": {
     "elapsed": 138,
     "status": "ok",
     "timestamp": 1638224246631,
     "user": {
      "displayName": "Joseph catanzarite",
      "photoUrl": "https://lh3.googleusercontent.com/a-/AOh14GgmMRaw8NgoEDqzevEZ6b18iOYdEH9nWTZeaFBW=s64",
      "userId": "16649206137414945374"
     },
     "user_tz": 480
    },
    "id": "6fDPYtqqszyl",
    "outputId": "de1fd92d-5177-4302-f0b7-179d76e7d759"
   },
   "outputs": [
    {
     "data": {
      "text/plain": [
       "' 11/25/2016 1 check-in Love love loved the atmosphere! Every corner of the coffee shop had its own style, and there were swings!!! I ordered the matcha latte, and it was muy fantastico! Ordering and getting my drink were pretty streamlined. I ordered on an iPad, which included all beverage selections that ranged from coffee to wine, desired level of sweetness, and a checkout system. I got my latte within minutes!  I was hoping for a typical heart or feather on my latte, but found myself listing out all the possibilities of what the art may be. Any ideas? '"
      ]
     },
     "execution_count": 6,
     "metadata": {},
     "output_type": "execute_result"
    }
   ],
   "source": [
    "df['full_review_text'][0]"
   ]
  },
  {
   "cell_type": "markdown",
   "metadata": {
    "id": "qDezrvTjxA1G"
   },
   "source": [
    "# 1 Practice: Clean, tokenize, remove stop words, lemmatize"
   ]
  },
  {
   "cell_type": "markdown",
   "metadata": {
    "id": "KXrDeo0Gt257"
   },
   "source": [
    "## 1.0 Save Dates for later use (optional)\n",
    "Each Review starts with a date, we could grab this date and add it as a new column on our dataframe if we want. This could be a valuable feature later on. This isn't absolutely necessary, but might be a good idea. Otherwise we might just be throwing away this useful information when we clean the text.\n",
    "\n"
   ]
  },
  {
   "cell_type": "code",
   "execution_count": 8,
   "metadata": {
    "executionInfo": {
     "elapsed": 137,
     "status": "ok",
     "timestamp": 1638224251186,
     "user": {
      "displayName": "Joseph catanzarite",
      "photoUrl": "https://lh3.googleusercontent.com/a-/AOh14GgmMRaw8NgoEDqzevEZ6b18iOYdEH9nWTZeaFBW=s64",
      "userId": "16649206137414945374"
     },
     "user_tz": 480
    },
    "id": "VelUfzqOuF2r"
   },
   "outputs": [],
   "source": [
    "# grab date from the beginning of the review text\n",
    "def get_date(text):\n",
    "  return text.split(' ')[1]\n",
    "\n",
    "df['date'] = df['full_review_text'].apply(get_date)"
   ]
  },
  {
   "cell_type": "code",
   "execution_count": 9,
   "metadata": {
    "colab": {
     "base_uri": "https://localhost:8080/",
     "height": 424
    },
    "executionInfo": {
     "elapsed": 142,
     "status": "ok",
     "timestamp": 1638224254553,
     "user": {
      "displayName": "Joseph catanzarite",
      "photoUrl": "https://lh3.googleusercontent.com/a-/AOh14GgmMRaw8NgoEDqzevEZ6b18iOYdEH9nWTZeaFBW=s64",
      "userId": "16649206137414945374"
     },
     "user_tz": 480
    },
    "id": "5AMm7yNGN83Z",
    "outputId": "d86b5cb0-800f-407f-c82e-c1fd3c7c985f"
   },
   "outputs": [
    {
     "data": {
      "text/html": [
       "<div>\n",
       "<style scoped>\n",
       "    .dataframe tbody tr th:only-of-type {\n",
       "        vertical-align: middle;\n",
       "    }\n",
       "\n",
       "    .dataframe tbody tr th {\n",
       "        vertical-align: top;\n",
       "    }\n",
       "\n",
       "    .dataframe thead th {\n",
       "        text-align: right;\n",
       "    }\n",
       "</style>\n",
       "<table border=\"1\" class=\"dataframe\">\n",
       "  <thead>\n",
       "    <tr style=\"text-align: right;\">\n",
       "      <th></th>\n",
       "      <th>coffee_shop_name</th>\n",
       "      <th>full_review_text</th>\n",
       "      <th>star_rating</th>\n",
       "      <th>date</th>\n",
       "    </tr>\n",
       "  </thead>\n",
       "  <tbody>\n",
       "    <tr>\n",
       "      <th>0</th>\n",
       "      <td>The Factory - Cafe With a Soul</td>\n",
       "      <td>11/25/2016 1 check-in Love love loved the atm...</td>\n",
       "      <td>5.0 star rating</td>\n",
       "      <td>11/25/2016</td>\n",
       "    </tr>\n",
       "    <tr>\n",
       "      <th>1</th>\n",
       "      <td>The Factory - Cafe With a Soul</td>\n",
       "      <td>12/2/2016 Listed in Date Night: Austin, Ambia...</td>\n",
       "      <td>4.0 star rating</td>\n",
       "      <td>12/2/2016</td>\n",
       "    </tr>\n",
       "    <tr>\n",
       "      <th>2</th>\n",
       "      <td>The Factory - Cafe With a Soul</td>\n",
       "      <td>11/30/2016 1 check-in Listed in Brunch Spots ...</td>\n",
       "      <td>4.0 star rating</td>\n",
       "      <td>11/30/2016</td>\n",
       "    </tr>\n",
       "    <tr>\n",
       "      <th>3</th>\n",
       "      <td>The Factory - Cafe With a Soul</td>\n",
       "      <td>11/25/2016 Very cool decor! Good drinks Nice ...</td>\n",
       "      <td>2.0 star rating</td>\n",
       "      <td>11/25/2016</td>\n",
       "    </tr>\n",
       "    <tr>\n",
       "      <th>4</th>\n",
       "      <td>The Factory - Cafe With a Soul</td>\n",
       "      <td>12/3/2016 1 check-in They are located within ...</td>\n",
       "      <td>4.0 star rating</td>\n",
       "      <td>12/3/2016</td>\n",
       "    </tr>\n",
       "    <tr>\n",
       "      <th>...</th>\n",
       "      <td>...</td>\n",
       "      <td>...</td>\n",
       "      <td>...</td>\n",
       "      <td>...</td>\n",
       "    </tr>\n",
       "    <tr>\n",
       "      <th>7611</th>\n",
       "      <td>The Steeping Room</td>\n",
       "      <td>2/19/2015 I actually step into this restauran...</td>\n",
       "      <td>4.0 star rating</td>\n",
       "      <td>2/19/2015</td>\n",
       "    </tr>\n",
       "    <tr>\n",
       "      <th>7612</th>\n",
       "      <td>The Steeping Room</td>\n",
       "      <td>1/21/2016 Ok, The Steeping Room IS awesome. H...</td>\n",
       "      <td>5.0 star rating</td>\n",
       "      <td>1/21/2016</td>\n",
       "    </tr>\n",
       "    <tr>\n",
       "      <th>7613</th>\n",
       "      <td>The Steeping Room</td>\n",
       "      <td>4/30/2015 Loved coming here for tea, and the ...</td>\n",
       "      <td>4.0 star rating</td>\n",
       "      <td>4/30/2015</td>\n",
       "    </tr>\n",
       "    <tr>\n",
       "      <th>7614</th>\n",
       "      <td>The Steeping Room</td>\n",
       "      <td>8/2/2015 The food is just average. The booths...</td>\n",
       "      <td>3.0 star rating</td>\n",
       "      <td>8/2/2015</td>\n",
       "    </tr>\n",
       "    <tr>\n",
       "      <th>7615</th>\n",
       "      <td>The Steeping Room</td>\n",
       "      <td>5/23/2015 I finally stopped in for lunch with...</td>\n",
       "      <td>4.0 star rating</td>\n",
       "      <td>5/23/2015</td>\n",
       "    </tr>\n",
       "  </tbody>\n",
       "</table>\n",
       "<p>7616 rows × 4 columns</p>\n",
       "</div>"
      ],
      "text/plain": [
       "                     coffee_shop_name  \\\n",
       "0     The Factory - Cafe With a Soul    \n",
       "1     The Factory - Cafe With a Soul    \n",
       "2     The Factory - Cafe With a Soul    \n",
       "3     The Factory - Cafe With a Soul    \n",
       "4     The Factory - Cafe With a Soul    \n",
       "...                               ...   \n",
       "7611               The Steeping Room    \n",
       "7612               The Steeping Room    \n",
       "7613               The Steeping Room    \n",
       "7614               The Steeping Room    \n",
       "7615               The Steeping Room    \n",
       "\n",
       "                                       full_review_text        star_rating  \\\n",
       "0      11/25/2016 1 check-in Love love loved the atm...   5.0 star rating    \n",
       "1      12/2/2016 Listed in Date Night: Austin, Ambia...   4.0 star rating    \n",
       "2      11/30/2016 1 check-in Listed in Brunch Spots ...   4.0 star rating    \n",
       "3      11/25/2016 Very cool decor! Good drinks Nice ...   2.0 star rating    \n",
       "4      12/3/2016 1 check-in They are located within ...   4.0 star rating    \n",
       "...                                                 ...                ...   \n",
       "7611   2/19/2015 I actually step into this restauran...   4.0 star rating    \n",
       "7612   1/21/2016 Ok, The Steeping Room IS awesome. H...   5.0 star rating    \n",
       "7613   4/30/2015 Loved coming here for tea, and the ...   4.0 star rating    \n",
       "7614   8/2/2015 The food is just average. The booths...   3.0 star rating    \n",
       "7615   5/23/2015 I finally stopped in for lunch with...   4.0 star rating    \n",
       "\n",
       "            date  \n",
       "0     11/25/2016  \n",
       "1      12/2/2016  \n",
       "2     11/30/2016  \n",
       "3     11/25/2016  \n",
       "4      12/3/2016  \n",
       "...          ...  \n",
       "7611   2/19/2015  \n",
       "7612   1/21/2016  \n",
       "7613   4/30/2015  \n",
       "7614    8/2/2015  \n",
       "7615   5/23/2015  \n",
       "\n",
       "[7616 rows x 4 columns]"
      ]
     },
     "execution_count": 9,
     "metadata": {},
     "output_type": "execute_result"
    }
   ],
   "source": [
    "df"
   ]
  },
  {
   "cell_type": "code",
   "execution_count": 10,
   "metadata": {
    "colab": {
     "base_uri": "https://localhost:8080/",
     "height": 36
    },
    "executionInfo": {
     "elapsed": 134,
     "status": "ok",
     "timestamp": 1638225626249,
     "user": {
      "displayName": "Joseph catanzarite",
      "photoUrl": "https://lh3.googleusercontent.com/a-/AOh14GgmMRaw8NgoEDqzevEZ6b18iOYdEH9nWTZeaFBW=s64",
      "userId": "16649206137414945374"
     },
     "user_tz": 480
    },
    "id": "sHFo6eDyvJsb",
    "outputId": "bab952bb-3b76-4551-ceb5-fbe0f2965ce7"
   },
   "outputs": [
    {
     "data": {
      "text/plain": [
       "'11/25/2016'"
      ]
     },
     "execution_count": 10,
     "metadata": {},
     "output_type": "execute_result"
    }
   ],
   "source": [
    "# Another approach (we could also use regular expressions to grab the dates)\n",
    "import re\n",
    "\n",
    "def find_first_date(text):\n",
    "  #return re.findall('\\d+\\/\\d+\\/\\d+', text)[0]\n",
    "  return re.findall(r'\\d+/\\d+/\\d+', text)[0]\n",
    "\n",
    "example_text = \" 11/25/2016 1 check-in Love love loved the atmosphere! Every corner of the coffee shop had its own style, and there were swings!!! I ordered the matcha latte, and it was muy fantastico! Ordering and getting my drink were pretty streamlined. I ordered on an iPad, which included all beverage selections that ranged from coffee to wine, desired level of sweetness, and a checkout system. I got my latte within minutes!  I was hoping for a typical heart or feather on my latte, but found myself listing out all the possibilities of what the art may be. Any ideas? \"\n",
    "\n",
    "find_first_date(example_text)"
   ]
  },
  {
   "cell_type": "code",
   "execution_count": 12,
   "metadata": {
    "colab": {
     "base_uri": "https://localhost:8080/"
    },
    "executionInfo": {
     "elapsed": 141,
     "status": "ok",
     "timestamp": 1638224563731,
     "user": {
      "displayName": "Joseph catanzarite",
      "photoUrl": "https://lh3.googleusercontent.com/a-/AOh14GgmMRaw8NgoEDqzevEZ6b18iOYdEH9nWTZeaFBW=s64",
      "userId": "16649206137414945374"
     },
     "user_tz": 480
    },
    "id": "ebJFVk1aynMq",
    "outputId": "d499d798-2f24-4172-8285-394a0796b438"
   },
   "outputs": [
    {
     "name": "stdout",
     "output_type": "stream",
     "text": [
      "11/25/2016\n",
      "<class 'str'>\n"
     ]
    }
   ],
   "source": [
    "print(df['date'].iloc[0])\n",
    "print(type(df['date'].iloc[0]))"
   ]
  },
  {
   "cell_type": "code",
   "execution_count": 13,
   "metadata": {
    "executionInfo": {
     "elapsed": 131,
     "status": "ok",
     "timestamp": 1638224577824,
     "user": {
      "displayName": "Joseph catanzarite",
      "photoUrl": "https://lh3.googleusercontent.com/a-/AOh14GgmMRaw8NgoEDqzevEZ6b18iOYdEH9nWTZeaFBW=s64",
      "userId": "16649206137414945374"
     },
     "user_tz": 480
    },
    "id": "yeTdqBchuSad"
   },
   "outputs": [],
   "source": [
    "# turn date column strings into datetime objects\n",
    "df['date'] = pd.to_datetime(df['date'], infer_datetime_format=True)"
   ]
  },
  {
   "cell_type": "code",
   "execution_count": 14,
   "metadata": {
    "colab": {
     "base_uri": "https://localhost:8080/"
    },
    "executionInfo": {
     "elapsed": 126,
     "status": "ok",
     "timestamp": 1638224622076,
     "user": {
      "displayName": "Joseph catanzarite",
      "photoUrl": "https://lh3.googleusercontent.com/a-/AOh14GgmMRaw8NgoEDqzevEZ6b18iOYdEH9nWTZeaFBW=s64",
      "userId": "16649206137414945374"
     },
     "user_tz": 480
    },
    "id": "JeRhPmpsy1_i",
    "outputId": "ea63385a-28cf-4272-c027-f6a0f8b9ea4a"
   },
   "outputs": [
    {
     "name": "stdout",
     "output_type": "stream",
     "text": [
      "<class 'pandas._libs.tslibs.timestamps.Timestamp'>\n",
      "2016-11-25 00:00:00\n"
     ]
    }
   ],
   "source": [
    "print(type(df['date'][0]))\n",
    "print(df['date'].iloc[0])"
   ]
  },
  {
   "cell_type": "code",
   "execution_count": 15,
   "metadata": {
    "colab": {
     "base_uri": "https://localhost:8080/"
    },
    "executionInfo": {
     "elapsed": 132,
     "status": "ok",
     "timestamp": 1638224681251,
     "user": {
      "displayName": "Joseph catanzarite",
      "photoUrl": "https://lh3.googleusercontent.com/a-/AOh14GgmMRaw8NgoEDqzevEZ6b18iOYdEH9nWTZeaFBW=s64",
      "userId": "16649206137414945374"
     },
     "user_tz": 480
    },
    "id": "Z09gKsu9zIWG",
    "outputId": "3d4503f2-021f-4503-8dc0-690fc04f9bd6"
   },
   "outputs": [
    {
     "data": {
      "text/plain": [
       "['__add__',\n",
       " '__array_priority__',\n",
       " '__class__',\n",
       " '__delattr__',\n",
       " '__dict__',\n",
       " '__dir__',\n",
       " '__doc__',\n",
       " '__eq__',\n",
       " '__format__',\n",
       " '__ge__',\n",
       " '__getattribute__',\n",
       " '__gt__',\n",
       " '__hash__',\n",
       " '__init__',\n",
       " '__init_subclass__',\n",
       " '__le__',\n",
       " '__lt__',\n",
       " '__module__',\n",
       " '__ne__',\n",
       " '__new__',\n",
       " '__pyx_vtable__',\n",
       " '__radd__',\n",
       " '__reduce__',\n",
       " '__reduce_cython__',\n",
       " '__reduce_ex__',\n",
       " '__repr__',\n",
       " '__rsub__',\n",
       " '__setattr__',\n",
       " '__setstate__',\n",
       " '__setstate_cython__',\n",
       " '__sizeof__',\n",
       " '__str__',\n",
       " '__sub__',\n",
       " '__subclasshook__',\n",
       " '__weakref__',\n",
       " '_date_repr',\n",
       " '_repr_base',\n",
       " '_round',\n",
       " '_short_repr',\n",
       " '_time_repr',\n",
       " 'asm8',\n",
       " 'astimezone',\n",
       " 'ceil',\n",
       " 'combine',\n",
       " 'ctime',\n",
       " 'date',\n",
       " 'day',\n",
       " 'day_name',\n",
       " 'dayofweek',\n",
       " 'dayofyear',\n",
       " 'days_in_month',\n",
       " 'daysinmonth',\n",
       " 'dst',\n",
       " 'floor',\n",
       " 'fold',\n",
       " 'freq',\n",
       " 'freqstr',\n",
       " 'fromisoformat',\n",
       " 'fromordinal',\n",
       " 'fromtimestamp',\n",
       " 'hour',\n",
       " 'is_leap_year',\n",
       " 'is_month_end',\n",
       " 'is_month_start',\n",
       " 'is_quarter_end',\n",
       " 'is_quarter_start',\n",
       " 'is_year_end',\n",
       " 'is_year_start',\n",
       " 'isocalendar',\n",
       " 'isoformat',\n",
       " 'isoweekday',\n",
       " 'max',\n",
       " 'microsecond',\n",
       " 'min',\n",
       " 'minute',\n",
       " 'month',\n",
       " 'month_name',\n",
       " 'nanosecond',\n",
       " 'normalize',\n",
       " 'now',\n",
       " 'quarter',\n",
       " 'replace',\n",
       " 'resolution',\n",
       " 'round',\n",
       " 'second',\n",
       " 'strftime',\n",
       " 'strptime',\n",
       " 'time',\n",
       " 'timestamp',\n",
       " 'timetuple',\n",
       " 'timetz',\n",
       " 'to_datetime64',\n",
       " 'to_julian_date',\n",
       " 'to_numpy',\n",
       " 'to_period',\n",
       " 'to_pydatetime',\n",
       " 'today',\n",
       " 'toordinal',\n",
       " 'tz',\n",
       " 'tz_convert',\n",
       " 'tz_localize',\n",
       " 'tzinfo',\n",
       " 'tzname',\n",
       " 'utcfromtimestamp',\n",
       " 'utcnow',\n",
       " 'utcoffset',\n",
       " 'utctimetuple',\n",
       " 'value',\n",
       " 'week',\n",
       " 'weekday',\n",
       " 'weekofyear',\n",
       " 'year']"
      ]
     },
     "execution_count": 15,
     "metadata": {},
     "output_type": "execute_result"
    }
   ],
   "source": [
    "dir(df['date'].iloc[0])"
   ]
  },
  {
   "cell_type": "code",
   "execution_count": 16,
   "metadata": {
    "colab": {
     "base_uri": "https://localhost:8080/",
     "height": 36
    },
    "executionInfo": {
     "elapsed": 124,
     "status": "ok",
     "timestamp": 1638224835922,
     "user": {
      "displayName": "Joseph catanzarite",
      "photoUrl": "https://lh3.googleusercontent.com/a-/AOh14GgmMRaw8NgoEDqzevEZ6b18iOYdEH9nWTZeaFBW=s64",
      "userId": "16649206137414945374"
     },
     "user_tz": 480
    },
    "id": "cKV6JkwUzVnJ",
    "outputId": "550ddb1b-5c5a-4a88-90b1-ffa2c4184a01"
   },
   "outputs": [
    {
     "data": {
      "text/plain": [
       "'Friday'"
      ]
     },
     "execution_count": 16,
     "metadata": {},
     "output_type": "execute_result"
    }
   ],
   "source": [
    "df['date'].iloc[0].day_name()"
   ]
  },
  {
   "cell_type": "code",
   "execution_count": 17,
   "metadata": {
    "colab": {
     "base_uri": "https://localhost:8080/",
     "height": 206
    },
    "executionInfo": {
     "elapsed": 158,
     "status": "ok",
     "timestamp": 1632779274422,
     "user": {
      "displayName": "Joseph catanzarite",
      "photoUrl": "https://lh3.googleusercontent.com/a-/AOh14GgmMRaw8NgoEDqzevEZ6b18iOYdEH9nWTZeaFBW=s64",
      "userId": "16649206137414945374"
     },
     "user_tz": 420
    },
    "id": "cuxXAcl8uIsn",
    "outputId": "f32e37c6-6b6f-4741-9384-d503bd8e67d0"
   },
   "outputs": [
    {
     "data": {
      "text/html": [
       "<div>\n",
       "<style scoped>\n",
       "    .dataframe tbody tr th:only-of-type {\n",
       "        vertical-align: middle;\n",
       "    }\n",
       "\n",
       "    .dataframe tbody tr th {\n",
       "        vertical-align: top;\n",
       "    }\n",
       "\n",
       "    .dataframe thead th {\n",
       "        text-align: right;\n",
       "    }\n",
       "</style>\n",
       "<table border=\"1\" class=\"dataframe\">\n",
       "  <thead>\n",
       "    <tr style=\"text-align: right;\">\n",
       "      <th></th>\n",
       "      <th>coffee_shop_name</th>\n",
       "      <th>full_review_text</th>\n",
       "      <th>star_rating</th>\n",
       "      <th>date</th>\n",
       "    </tr>\n",
       "  </thead>\n",
       "  <tbody>\n",
       "    <tr>\n",
       "      <th>0</th>\n",
       "      <td>The Factory - Cafe With a Soul</td>\n",
       "      <td>11/25/2016 1 check-in Love love loved the atm...</td>\n",
       "      <td>5.0 star rating</td>\n",
       "      <td>2016-11-25</td>\n",
       "    </tr>\n",
       "    <tr>\n",
       "      <th>1</th>\n",
       "      <td>The Factory - Cafe With a Soul</td>\n",
       "      <td>12/2/2016 Listed in Date Night: Austin, Ambia...</td>\n",
       "      <td>4.0 star rating</td>\n",
       "      <td>2016-12-02</td>\n",
       "    </tr>\n",
       "    <tr>\n",
       "      <th>2</th>\n",
       "      <td>The Factory - Cafe With a Soul</td>\n",
       "      <td>11/30/2016 1 check-in Listed in Brunch Spots ...</td>\n",
       "      <td>4.0 star rating</td>\n",
       "      <td>2016-11-30</td>\n",
       "    </tr>\n",
       "    <tr>\n",
       "      <th>3</th>\n",
       "      <td>The Factory - Cafe With a Soul</td>\n",
       "      <td>11/25/2016 Very cool decor! Good drinks Nice ...</td>\n",
       "      <td>2.0 star rating</td>\n",
       "      <td>2016-11-25</td>\n",
       "    </tr>\n",
       "    <tr>\n",
       "      <th>4</th>\n",
       "      <td>The Factory - Cafe With a Soul</td>\n",
       "      <td>12/3/2016 1 check-in They are located within ...</td>\n",
       "      <td>4.0 star rating</td>\n",
       "      <td>2016-12-03</td>\n",
       "    </tr>\n",
       "  </tbody>\n",
       "</table>\n",
       "</div>"
      ],
      "text/plain": [
       "                  coffee_shop_name  \\\n",
       "0  The Factory - Cafe With a Soul    \n",
       "1  The Factory - Cafe With a Soul    \n",
       "2  The Factory - Cafe With a Soul    \n",
       "3  The Factory - Cafe With a Soul    \n",
       "4  The Factory - Cafe With a Soul    \n",
       "\n",
       "                                    full_review_text        star_rating  \\\n",
       "0   11/25/2016 1 check-in Love love loved the atm...   5.0 star rating    \n",
       "1   12/2/2016 Listed in Date Night: Austin, Ambia...   4.0 star rating    \n",
       "2   11/30/2016 1 check-in Listed in Brunch Spots ...   4.0 star rating    \n",
       "3   11/25/2016 Very cool decor! Good drinks Nice ...   2.0 star rating    \n",
       "4   12/3/2016 1 check-in They are located within ...   4.0 star rating    \n",
       "\n",
       "        date  \n",
       "0 2016-11-25  \n",
       "1 2016-12-02  \n",
       "2 2016-11-30  \n",
       "3 2016-11-25  \n",
       "4 2016-12-03  "
      ]
     },
     "execution_count": 17,
     "metadata": {},
     "output_type": "execute_result"
    }
   ],
   "source": [
    "df.head()"
   ]
  },
  {
   "cell_type": "code",
   "execution_count": 18,
   "metadata": {
    "colab": {
     "base_uri": "https://localhost:8080/"
    },
    "executionInfo": {
     "elapsed": 129,
     "status": "ok",
     "timestamp": 1638224966452,
     "user": {
      "displayName": "Joseph catanzarite",
      "photoUrl": "https://lh3.googleusercontent.com/a-/AOh14GgmMRaw8NgoEDqzevEZ6b18iOYdEH9nWTZeaFBW=s64",
      "userId": "16649206137414945374"
     },
     "user_tz": 480
    },
    "id": "5OdgeYLv0PU5",
    "outputId": "181edd2f-c6ab-4b5f-b809-df9407382a72"
   },
   "outputs": [
    {
     "data": {
      "text/plain": [
       "array([' 5.0 star rating ', ' 4.0 star rating ', ' 2.0 star rating ',\n",
       "       ' 3.0 star rating ', ' 1.0 star rating '], dtype=object)"
      ]
     },
     "execution_count": 18,
     "metadata": {},
     "output_type": "execute_result"
    }
   ],
   "source": [
    "df['star_rating'].unique()"
   ]
  },
  {
   "cell_type": "code",
   "execution_count": 19,
   "metadata": {
    "colab": {
     "base_uri": "https://localhost:8080/"
    },
    "executionInfo": {
     "elapsed": 169,
     "status": "ok",
     "timestamp": 1638224934218,
     "user": {
      "displayName": "Joseph catanzarite",
      "photoUrl": "https://lh3.googleusercontent.com/a-/AOh14GgmMRaw8NgoEDqzevEZ6b18iOYdEH9nWTZeaFBW=s64",
      "userId": "16649206137414945374"
     },
     "user_tz": 480
    },
    "id": "L7Nt13a_0FU8",
    "outputId": "55e8ca2c-bfe2-4c4c-cde5-e417f64afb48"
   },
   "outputs": [
    {
     "data": {
      "text/plain": [
       " 5.0 star rating     3780\n",
       " 4.0 star rating     2360\n",
       " 3.0 star rating      738\n",
       " 2.0 star rating      460\n",
       " 1.0 star rating      278\n",
       "Name: star_rating, dtype: int64"
      ]
     },
     "execution_count": 19,
     "metadata": {},
     "output_type": "execute_result"
    }
   ],
   "source": [
    "df['star_rating'].value_counts()"
   ]
  },
  {
   "cell_type": "code",
   "execution_count": 20,
   "metadata": {
    "colab": {
     "base_uri": "https://localhost:8080/"
    },
    "executionInfo": {
     "elapsed": 146,
     "status": "ok",
     "timestamp": 1632779296457,
     "user": {
      "displayName": "Joseph catanzarite",
      "photoUrl": "https://lh3.googleusercontent.com/a-/AOh14GgmMRaw8NgoEDqzevEZ6b18iOYdEH9nWTZeaFBW=s64",
      "userId": "16649206137414945374"
     },
     "user_tz": 420
    },
    "id": "KvuvWTk4uLhJ",
    "outputId": "79dc7fcc-745d-4c5a-ed63-ae330732a893"
   },
   "outputs": [
    {
     "data": {
      "text/plain": [
       "2016-10-09    31\n",
       "2016-09-18    30\n",
       "2016-11-02    27\n",
       "2016-11-20    27\n",
       "2016-12-02    26\n",
       "              ..\n",
       "2014-10-03     1\n",
       "2010-09-05     1\n",
       "2012-11-15     1\n",
       "2007-12-10     1\n",
       "2009-09-18     1\n",
       "Name: date, Length: 1592, dtype: int64"
      ]
     },
     "execution_count": 20,
     "metadata": {},
     "output_type": "execute_result"
    }
   ],
   "source": [
    "# looks like most dates are in late 2016\n",
    "df['date'].value_counts()"
   ]
  },
  {
   "cell_type": "code",
   "execution_count": 21,
   "metadata": {
    "colab": {
     "base_uri": "https://localhost:8080/",
     "height": 265
    },
    "executionInfo": {
     "elapsed": 427,
     "status": "ok",
     "timestamp": 1632779314019,
     "user": {
      "displayName": "Joseph catanzarite",
      "photoUrl": "https://lh3.googleusercontent.com/a-/AOh14GgmMRaw8NgoEDqzevEZ6b18iOYdEH9nWTZeaFBW=s64",
      "userId": "16649206137414945374"
     },
     "user_tz": 420
    },
    "id": "qEqwsjWFucJb",
    "outputId": "cf98a66b-79f5-4099-a2ea-7e2b1a5c9d61"
   },
   "outputs": [
    {
     "data": {
      "image/png": "[encoded data removed]",
      "text/plain": [
       "<Figure size 432x288 with 1 Axes>"
      ]
     },
     "metadata": {
      "needs_background": "light"
     },
     "output_type": "display_data"
    }
   ],
   "source": [
    "# histogram of review dates to see when most reviews were left\n",
    "# just a little EDA\n",
    "df['date'].hist(bins=20);"
   ]
  },
  {
   "cell_type": "markdown",
   "metadata": {
    "id": "1zbOpqPEusdt"
   },
   "source": [
    "## 1.1 Clean Review Text (with Regular Expressions `regex`)\n",
    "dataquest has a good [regex reference](https://www.dataquest.io/wp-content/uploads/2019/03/python-regular-expressions-cheat-sheet.pdf\n",
    ")\n",
    "\n",
    "It looks like the reviews have the following characteristics\n",
    "\n",
    "- Date at the beginning \n",
    "- Lots of punctuation \n",
    "- Use special characters like $ (as well as dollar amounts)\n",
    "- Upper and lower case words"
   ]
  },
  {
   "cell_type": "code",
   "execution_count": 42,
   "metadata": {
    "id": "386V8zRuszyp"
   },
   "outputs": [],
   "source": [
    "import re\n",
    "# considering using regex to remove dates\n",
    "# you can create and test regular expressions on this online regex editor: https://regex101.com/\n",
    "    \n",
    "def clean_data(text):\n",
    "    \"\"\"\n",
    "    Accepts a single text document and performs several regex substitutions in order to clean the document. \n",
    "    \n",
    "    Parameters\n",
    "    ----------\n",
    "    text: string or object \n",
    "    \n",
    "    Returns\n",
    "    -------\n",
    "    text: string or object\n",
    "    \"\"\"\n",
    "    \n",
    "    # order of operations - apply the expression from top to bottom\n",
    "    date_regex = r\"\\d+/\\d+/\\d+\"\n",
    "    punct_regex = r\"[^0-9a-zA-Z\\s]\" # any non-alphanumeric chars\n",
    "    special_chars_regex = r\"[\\$\\%\\&\\@+]\" \n",
    "    numerical_regex =  r\"\\d\"  # match one or more digits\n",
    "    \n",
    "    # Replace any strings matching the above regex patterns with blank strings\n",
    "    # (effectively removing them from the text)\n",
    "    text = re.sub(date_regex, \"\", text)\n",
    "    text = re.sub(punct_regex, \"\", text)\n",
    "    text = re.sub(special_chars_regex, \"\", text)\n",
    "    text = re.sub(numerical_regex, \"\", text)\n",
    "\n",
    "    # match one or more whitespace chars\n",
    "    whitespace_regex = r\"\\s+\" \n",
    "    # replace one or more whitespace characters with a single white space char\n",
    "    #    not a blank string!\n",
    "    text = re.sub(whitespace_regex, \" \", text)\n",
    "\n",
    "\n",
    "    # apply case normalization\n",
    "    text = text.lower().strip()\n",
    "    return text"
   ]
  },
  {
   "cell_type": "code",
   "execution_count": 45,
   "metadata": {
    "colab": {
     "base_uri": "https://localhost:8080/",
     "height": 87
    },
    "executionInfo": {
     "elapsed": 514,
     "status": "ok",
     "timestamp": 1629922516131,
     "user": {
      "displayName": "Ryan Allred",
      "photoUrl": "",
      "userId": "04031804316926795705"
     },
     "user_tz": 360
    },
    "id": "GpKDTXfRszyp",
    "outputId": "0cb6a0a1-07de-44cd-d42d-7a5b025a7a38"
   },
   "outputs": [
    {
     "data": {
      "text/plain": [
       "'checkin love love loved the atmosphere every corner of the coffee shop had its own style and there were swings i ordered the matcha latte and it was muy fantastico ordering and getting my drink were pretty streamlined i ordered on an ipad which included all beverage selections that ranged from coffee to wine desired level of sweetness and a checkout system i got my latte within minutes i was hoping for a typical heart or feather on my latte but found myself listing out all the possibilities of what the art may be any ideas'"
      ]
     },
     "execution_count": 45,
     "metadata": {},
     "output_type": "execute_result"
    }
   ],
   "source": [
    "df['cleaned_review'] = df['full_review_text'].apply(clean_data)\n",
    "\n",
    "df['cleaned_review'][0]"
   ]
  },
  {
   "cell_type": "markdown",
   "metadata": {
    "id": "jYZSZec_szyr"
   },
   "source": [
    "## 1.2. Tokenize the cleaned up reviews"
   ]
  },
  {
   "cell_type": "code",
   "execution_count": 46,
   "metadata": {
    "colab": {
     "base_uri": "https://localhost:8080/",
     "height": 205
    },
    "executionInfo": {
     "elapsed": 6,
     "status": "ok",
     "timestamp": 1629922516131,
     "user": {
      "displayName": "Ryan Allred",
      "photoUrl": "",
      "userId": "04031804316926795705"
     },
     "user_tz": 360
    },
    "id": "KtzqhppBxUke",
    "outputId": "76bd5d29-500a-446f-fc96-bd34842367f0"
   },
   "outputs": [
    {
     "data": {
      "text/html": [
       "<div>\n",
       "<style scoped>\n",
       "    .dataframe tbody tr th:only-of-type {\n",
       "        vertical-align: middle;\n",
       "    }\n",
       "\n",
       "    .dataframe tbody tr th {\n",
       "        vertical-align: top;\n",
       "    }\n",
       "\n",
       "    .dataframe thead th {\n",
       "        text-align: right;\n",
       "    }\n",
       "</style>\n",
       "<table border=\"1\" class=\"dataframe\">\n",
       "  <thead>\n",
       "    <tr style=\"text-align: right;\">\n",
       "      <th></th>\n",
       "      <th>coffee_shop_name</th>\n",
       "      <th>full_review_text</th>\n",
       "      <th>star_rating</th>\n",
       "      <th>date</th>\n",
       "      <th>cleaned_review</th>\n",
       "      <th>tokens</th>\n",
       "    </tr>\n",
       "  </thead>\n",
       "  <tbody>\n",
       "    <tr>\n",
       "      <th>0</th>\n",
       "      <td>The Factory - Cafe With a Soul</td>\n",
       "      <td>11/25/2016 1 check-in Love love loved the atm...</td>\n",
       "      <td>5.0 star rating</td>\n",
       "      <td>2016-11-25</td>\n",
       "      <td>checkin love love loved the atmosphere every c...</td>\n",
       "      <td>[checkin, love, love, loved, the, atmosphere, ...</td>\n",
       "    </tr>\n",
       "    <tr>\n",
       "      <th>1</th>\n",
       "      <td>The Factory - Cafe With a Soul</td>\n",
       "      <td>12/2/2016 Listed in Date Night: Austin, Ambia...</td>\n",
       "      <td>4.0 star rating</td>\n",
       "      <td>2016-12-02</td>\n",
       "      <td>listed in date night austin ambiance in austin...</td>\n",
       "      <td>[listed, in, date, night, austin, ambiance, in...</td>\n",
       "    </tr>\n",
       "    <tr>\n",
       "      <th>2</th>\n",
       "      <td>The Factory - Cafe With a Soul</td>\n",
       "      <td>11/30/2016 1 check-in Listed in Brunch Spots ...</td>\n",
       "      <td>4.0 star rating</td>\n",
       "      <td>2016-11-30</td>\n",
       "      <td>checkin listed in brunch spots i loved the ecl...</td>\n",
       "      <td>[checkin, listed, in, brunch, spots, i, loved,...</td>\n",
       "    </tr>\n",
       "    <tr>\n",
       "      <th>3</th>\n",
       "      <td>The Factory - Cafe With a Soul</td>\n",
       "      <td>11/25/2016 Very cool decor! Good drinks Nice ...</td>\n",
       "      <td>2.0 star rating</td>\n",
       "      <td>2016-11-25</td>\n",
       "      <td>very cool decor good drinks nice seating howev...</td>\n",
       "      <td>[very, cool, decor, good, drinks, nice, seatin...</td>\n",
       "    </tr>\n",
       "    <tr>\n",
       "      <th>4</th>\n",
       "      <td>The Factory - Cafe With a Soul</td>\n",
       "      <td>12/3/2016 1 check-in They are located within ...</td>\n",
       "      <td>4.0 star rating</td>\n",
       "      <td>2016-12-03</td>\n",
       "      <td>checkin they are located within the northcross...</td>\n",
       "      <td>[checkin, they, are, located, within, the, nor...</td>\n",
       "    </tr>\n",
       "  </tbody>\n",
       "</table>\n",
       "</div>"
      ],
      "text/plain": [
       "                  coffee_shop_name  \\\n",
       "0  The Factory - Cafe With a Soul    \n",
       "1  The Factory - Cafe With a Soul    \n",
       "2  The Factory - Cafe With a Soul    \n",
       "3  The Factory - Cafe With a Soul    \n",
       "4  The Factory - Cafe With a Soul    \n",
       "\n",
       "                                    full_review_text        star_rating  \\\n",
       "0   11/25/2016 1 check-in Love love loved the atm...   5.0 star rating    \n",
       "1   12/2/2016 Listed in Date Night: Austin, Ambia...   4.0 star rating    \n",
       "2   11/30/2016 1 check-in Listed in Brunch Spots ...   4.0 star rating    \n",
       "3   11/25/2016 Very cool decor! Good drinks Nice ...   2.0 star rating    \n",
       "4   12/3/2016 1 check-in They are located within ...   4.0 star rating    \n",
       "\n",
       "        date                                     cleaned_review  \\\n",
       "0 2016-11-25  checkin love love loved the atmosphere every c...   \n",
       "1 2016-12-02  listed in date night austin ambiance in austin...   \n",
       "2 2016-11-30  checkin listed in brunch spots i loved the ecl...   \n",
       "3 2016-11-25  very cool decor good drinks nice seating howev...   \n",
       "4 2016-12-03  checkin they are located within the northcross...   \n",
       "\n",
       "                                              tokens  \n",
       "0  [checkin, love, love, loved, the, atmosphere, ...  \n",
       "1  [listed, in, date, night, austin, ambiance, in...  \n",
       "2  [checkin, listed, in, brunch, spots, i, loved,...  \n",
       "3  [very, cool, decor, good, drinks, nice, seatin...  \n",
       "4  [checkin, they, are, located, within, the, nor...  "
      ]
     },
     "execution_count": 46,
     "metadata": {},
     "output_type": "execute_result"
    }
   ],
   "source": [
    "# with a for loop\n",
    "tokens = []\n",
    "for review in df['cleaned_review']:\n",
    "  tokens.append(review.split())\n",
    "\n",
    "df['tokens'] = tokens\n",
    "\n",
    "df.head()"
   ]
  },
  {
   "cell_type": "code",
   "execution_count": 48,
   "metadata": {
    "colab": {
     "base_uri": "https://localhost:8080/"
    },
    "executionInfo": {
     "elapsed": 215,
     "status": "ok",
     "timestamp": 1632779705066,
     "user": {
      "displayName": "Joseph catanzarite",
      "photoUrl": "https://lh3.googleusercontent.com/a-/AOh14GgmMRaw8NgoEDqzevEZ6b18iOYdEH9nWTZeaFBW=s64",
      "userId": "16649206137414945374"
     },
     "user_tz": 420
    },
    "id": "YwpERv5xQQMS",
    "outputId": "2966d3d8-1356-418f-dd5e-e8d6c0e5da70"
   },
   "outputs": [
    {
     "name": "stdout",
     "output_type": "stream",
     "text": [
      "<class 'pandas.core.frame.DataFrame'>\n",
      "RangeIndex: 7616 entries, 0 to 7615\n",
      "Data columns (total 6 columns):\n",
      " #   Column            Non-Null Count  Dtype         \n",
      "---  ------            --------------  -----         \n",
      " 0   coffee_shop_name  7616 non-null   object        \n",
      " 1   full_review_text  7616 non-null   object        \n",
      " 2   star_rating       7616 non-null   object        \n",
      " 3   date              7616 non-null   datetime64[ns]\n",
      " 4   cleaned_review    7616 non-null   object        \n",
      " 5   tokens            7616 non-null   object        \n",
      "dtypes: datetime64[ns](1), object(5)\n",
      "memory usage: 357.1+ KB\n"
     ]
    }
   ],
   "source": [
    "df.info()"
   ]
  },
  {
   "cell_type": "code",
   "execution_count": 49,
   "metadata": {
    "colab": {
     "base_uri": "https://localhost:8080/",
     "height": 205
    },
    "executionInfo": {
     "elapsed": 161,
     "status": "ok",
     "timestamp": 1629922516287,
     "user": {
      "displayName": "Ryan Allred",
      "photoUrl": "",
      "userId": "04031804316926795705"
     },
     "user_tz": 360
    },
    "id": "7BIHIfFyxycq",
    "outputId": "c87caa67-5a2e-4b07-d342-fab65c03e59b"
   },
   "outputs": [
    {
     "data": {
      "text/html": [
       "<div>\n",
       "<style scoped>\n",
       "    .dataframe tbody tr th:only-of-type {\n",
       "        vertical-align: middle;\n",
       "    }\n",
       "\n",
       "    .dataframe tbody tr th {\n",
       "        vertical-align: top;\n",
       "    }\n",
       "\n",
       "    .dataframe thead th {\n",
       "        text-align: right;\n",
       "    }\n",
       "</style>\n",
       "<table border=\"1\" class=\"dataframe\">\n",
       "  <thead>\n",
       "    <tr style=\"text-align: right;\">\n",
       "      <th></th>\n",
       "      <th>coffee_shop_name</th>\n",
       "      <th>full_review_text</th>\n",
       "      <th>star_rating</th>\n",
       "      <th>date</th>\n",
       "      <th>cleaned_review</th>\n",
       "      <th>tokens</th>\n",
       "    </tr>\n",
       "  </thead>\n",
       "  <tbody>\n",
       "    <tr>\n",
       "      <th>0</th>\n",
       "      <td>The Factory - Cafe With a Soul</td>\n",
       "      <td>11/25/2016 1 check-in Love love loved the atm...</td>\n",
       "      <td>5.0 star rating</td>\n",
       "      <td>2016-11-25</td>\n",
       "      <td>checkin love love loved the atmosphere every c...</td>\n",
       "      <td>[checkin, love, love, loved, the, atmosphere, ...</td>\n",
       "    </tr>\n",
       "    <tr>\n",
       "      <th>1</th>\n",
       "      <td>The Factory - Cafe With a Soul</td>\n",
       "      <td>12/2/2016 Listed in Date Night: Austin, Ambia...</td>\n",
       "      <td>4.0 star rating</td>\n",
       "      <td>2016-12-02</td>\n",
       "      <td>listed in date night austin ambiance in austin...</td>\n",
       "      <td>[listed, in, date, night, austin, ambiance, in...</td>\n",
       "    </tr>\n",
       "    <tr>\n",
       "      <th>2</th>\n",
       "      <td>The Factory - Cafe With a Soul</td>\n",
       "      <td>11/30/2016 1 check-in Listed in Brunch Spots ...</td>\n",
       "      <td>4.0 star rating</td>\n",
       "      <td>2016-11-30</td>\n",
       "      <td>checkin listed in brunch spots i loved the ecl...</td>\n",
       "      <td>[checkin, listed, in, brunch, spots, i, loved,...</td>\n",
       "    </tr>\n",
       "    <tr>\n",
       "      <th>3</th>\n",
       "      <td>The Factory - Cafe With a Soul</td>\n",
       "      <td>11/25/2016 Very cool decor! Good drinks Nice ...</td>\n",
       "      <td>2.0 star rating</td>\n",
       "      <td>2016-11-25</td>\n",
       "      <td>very cool decor good drinks nice seating howev...</td>\n",
       "      <td>[very, cool, decor, good, drinks, nice, seatin...</td>\n",
       "    </tr>\n",
       "    <tr>\n",
       "      <th>4</th>\n",
       "      <td>The Factory - Cafe With a Soul</td>\n",
       "      <td>12/3/2016 1 check-in They are located within ...</td>\n",
       "      <td>4.0 star rating</td>\n",
       "      <td>2016-12-03</td>\n",
       "      <td>checkin they are located within the northcross...</td>\n",
       "      <td>[checkin, they, are, located, within, the, nor...</td>\n",
       "    </tr>\n",
       "  </tbody>\n",
       "</table>\n",
       "</div>"
      ],
      "text/plain": [
       "                  coffee_shop_name  \\\n",
       "0  The Factory - Cafe With a Soul    \n",
       "1  The Factory - Cafe With a Soul    \n",
       "2  The Factory - Cafe With a Soul    \n",
       "3  The Factory - Cafe With a Soul    \n",
       "4  The Factory - Cafe With a Soul    \n",
       "\n",
       "                                    full_review_text        star_rating  \\\n",
       "0   11/25/2016 1 check-in Love love loved the atm...   5.0 star rating    \n",
       "1   12/2/2016 Listed in Date Night: Austin, Ambia...   4.0 star rating    \n",
       "2   11/30/2016 1 check-in Listed in Brunch Spots ...   4.0 star rating    \n",
       "3   11/25/2016 Very cool decor! Good drinks Nice ...   2.0 star rating    \n",
       "4   12/3/2016 1 check-in They are located within ...   4.0 star rating    \n",
       "\n",
       "        date                                     cleaned_review  \\\n",
       "0 2016-11-25  checkin love love loved the atmosphere every c...   \n",
       "1 2016-12-02  listed in date night austin ambiance in austin...   \n",
       "2 2016-11-30  checkin listed in brunch spots i loved the ecl...   \n",
       "3 2016-11-25  very cool decor good drinks nice seating howev...   \n",
       "4 2016-12-03  checkin they are located within the northcross...   \n",
       "\n",
       "                                              tokens  \n",
       "0  [checkin, love, love, loved, the, atmosphere, ...  \n",
       "1  [listed, in, date, night, austin, ambiance, in...  \n",
       "2  [checkin, listed, in, brunch, spots, i, loved,...  \n",
       "3  [very, cool, decor, good, drinks, nice, seatin...  \n",
       "4  [checkin, they, are, located, within, the, nor...  "
      ]
     },
     "execution_count": 49,
     "metadata": {},
     "output_type": "execute_result"
    }
   ],
   "source": [
    "# with a list comprehension\n",
    "df['tokens'] = [text.split() for text in df['cleaned_review']]\n",
    "df.head()"
   ]
  },
  {
   "cell_type": "markdown",
   "metadata": {
    "id": "ct0RJaQQ2FoX"
   },
   "source": [
    "### 1.3 Visualize the most common tokens\n",
    "Below is the `count()` function that we used in the lecture."
   ]
  },
  {
   "cell_type": "code",
   "execution_count": 50,
   "metadata": {
    "id": "ypyH-_x1GErX"
   },
   "outputs": [],
   "source": [
    "from collections import Counter\n",
    "\n",
    "def count(token_lists):\n",
    "    \"\"\"\n",
    "    Calculates some basic statistics about tokens in our corpus (i.e. corpus means collections text data)\n",
    "    \"\"\"\n",
    "    # stores the count of each token\n",
    "    word_counts = Counter()\n",
    "    \n",
    "    # stores the number of docs that each token appears in \n",
    "    appears_in_docs = Counter()\n",
    "\n",
    "    total_docs = len(token_lists)\n",
    "\n",
    "    for token_list in token_lists:\n",
    "        # stores count of every appearance of a token \n",
    "        word_counts.update(token_list)\n",
    "        \n",
    "        # use set() in order to not count duplicates, thereby count the num of docs that each token appears in\n",
    "        appears_in_docs.update(set(token_list))\n",
    "\n",
    "    # build word count dataframe\n",
    "    word_count_dict = zip(word_counts.keys(), word_counts.values())\n",
    "    wc = pd.DataFrame(word_count_dict, columns = ['word', 'count'])\n",
    "\n",
    "    # rank the the word counts\n",
    "    wc['rank'] = wc['count'].rank(method='first', ascending=False)\n",
    "    total = wc['count'].sum()\n",
    "\n",
    "    # calculate the percent total of each token\n",
    "    wc['fraction_of_total'] = wc['count'].apply(lambda token_count: token_count / total)\n",
    "\n",
    "    # calculate the cumulative percent total of word counts \n",
    "    wc = wc.sort_values(by='rank')\n",
    "    wc['cumulative_fraction_of_total'] = wc['fraction_of_total'].cumsum()\n",
    "\n",
    "    # create dataframe for document stats\n",
    "    t2 = zip(appears_in_docs.keys(), appears_in_docs.values())\n",
    "    ac = pd.DataFrame(t2, columns=['word', 'appears_in_docs'])\n",
    "    \n",
    "    # merge word count stats with doc stats\n",
    "    wc = ac.merge(wc, on='word')\n",
    "\n",
    "    wc['appears_in_fraction_of_docs'] = wc['appears_in_docs'].apply(lambda x: x / total_docs)\n",
    "\n",
    "    return wc.sort_values(by='rank')"
   ]
  },
  {
   "cell_type": "markdown",
   "metadata": {
    "id": "cBoda7E4S5K_"
   },
   "source": [
    "#### Summary of the descriptive token statistics \n",
    "\n",
    "`word` The specific token that is being analyzed\n",
    "\n",
    "`appears_in_docs` Number of documents that the word/token appears in\n",
    "\n",
    "`count` The total number of appearances of that token within the corpus \n",
    "\n",
    "`rank` Ranking of tokens by count \n",
    "\n",
    "`fraction_of_total` Fraction of the total tokens that this token makes up\n",
    "\n",
    "`cumulative_fraction_of_total` Sum of fractional total of ranked tokens, down to and including this token. \n",
    "\n",
    "`appears_in_fraction_of_docs` Fraction of documents that token appears in "
   ]
  },
  {
   "cell_type": "code",
   "execution_count": 56,
   "metadata": {
    "colab": {
     "base_uri": "https://localhost:8080/",
     "height": 248
    },
    "executionInfo": {
     "elapsed": 453,
     "status": "ok",
     "timestamp": 1629922516964,
     "user": {
      "displayName": "Ryan Allred",
      "photoUrl": "",
      "userId": "04031804316926795705"
     },
     "user_tz": 360
    },
    "id": "JWIXe-TK2zhU",
    "outputId": "375832e9-41eb-431d-b48a-27b491523594"
   },
   "outputs": [
    {
     "data": {
      "image/png": "[encoded data removed]",
      "text/plain": [
       "<Figure size 432x288 with 1 Axes>"
      ]
     },
     "metadata": {
      "needs_background": "light"
     },
     "output_type": "display_data"
    }
   ],
   "source": [
    "# visualize the 20 most common tokens with squarify\n",
    "# Lots of stopwords!\n",
    "\n",
    "#YOUR CODE HERE\n",
    "import squarify\n",
    "import matplotlib.pyplot as plt\n",
    "\n",
    "wc = count(df['tokens'])\n",
    "wc_top20 = wc[wc['rank']<=20] \n",
    "\n",
    "\n",
    "squarify.plot(sizes=wc_top20['fraction_of_total'], label=wc_top20['word'], alpha=.8 )\n",
    "#\n",
    "plt.axis('off')\n",
    "plt.show()"
   ]
  },
  {
   "cell_type": "markdown",
   "metadata": {
    "id": "wbB72j8YyNYB"
   },
   "source": [
    "## 1.4 Clean, tokenize, remove stopwords, and lemmatize the reviews (with Spacy)\n",
    "\n",
    "We can do all of the above with Spacy, but Spacy has the added benefit of making it easy to lemmatize tokens and remove stop words as well! Let's write a tokenize function with Spacy. "
   ]
  },
  {
   "cell_type": "code",
   "execution_count": 60,
   "metadata": {
    "id": "0j3WsTt4szyr"
   },
   "outputs": [],
   "source": [
    "import spacy\n",
    "# import the large version of the pre-trained model\n",
    "# depending on your computational resources/limitations, you might need to download and load in a smaller version of the model \n",
    "# see the spaCy docs: https://spacy.io/models/en\n",
    "nlp = spacy.load('en_core_web_lg')"
   ]
  },
  {
   "cell_type": "code",
   "execution_count": 107,
   "metadata": {},
   "outputs": [],
   "source": [
    "STOPS = nlp.Defaults.stop_words.union(['coffee', 'be', 'get', 'come', 'place', 'austin',\n",
    "                                       'food', 'time', 'shop', 'checkin', 'drink', 'have',\n",
    "                                       'come', 'latte', '-PRON-', 'order', 'tea', 's', 'people',\n",
    "                                      'staff', 'service', 'want', 'try', 'work',\n",
    "                                       'taste', 'flavor', 'find', 'spot', 'table', 'think',\n",
    "                                      'know', 'day', 'look', 'barista', 'milk', 'parking', 'breakfast',\n",
    "                                      'thing', 'atmosphere', 'seating', 'cup', 'sit'])"
   ]
  },
  {
   "cell_type": "markdown",
   "metadata": {
    "id": "GiXS6ZOT02vN"
   },
   "source": [
    "## Remove stop word, punctuation and whitespace from each token"
   ]
  },
  {
   "cell_type": "code",
   "execution_count": 108,
   "metadata": {
    "id": "YXgZXLPEszyr"
   },
   "outputs": [],
   "source": [
    "# this will take longer to run than a regex method because Spacy is doing a fair amount\n",
    "# of extra stuff under the hood in creating the token attributes and everything.\n",
    "\n",
    "def spacy_tokenizer(text):\n",
    "    \"\"\"\n",
    "    Use the pre-trained model from Space to tokenize our text into lemmas \n",
    "    \n",
    "    Notes\n",
    "    -----\n",
    "    Rememeber that the pre-trained spaCy model has a lot of built in flags for what kind of token each token is\n",
    "    so we can use that functionality to create filters for stop words, white spaces, punctuation, and so on!\n",
    "    \n",
    "    See list of flags here: https://spacy.io/api/token#attributes\n",
    "    \n",
    "    Parameter\n",
    "    ---------\n",
    "    text: string\n",
    "        Full text article/document that needs to be tokenized \n",
    "    \"\"\"\n",
    "    tokens = []\n",
    "    for token in nlp(text):\n",
    "        # if statement will filter out stopwords, punctuation, and whitespace\n",
    "        # COMPLETE THE CODE HERE\n",
    "        if (token.lemma_ not in STOPS) & (token.is_punct==False):\n",
    "            # Now lemmatize!\n",
    "            tokens.append(token.lemma_)\n",
    "    \n",
    "    return tokens"
   ]
  },
  {
   "cell_type": "code",
   "execution_count": 109,
   "metadata": {
    "colab": {
     "base_uri": "https://localhost:8080/",
     "height": 127
    },
    "executionInfo": {
     "elapsed": 140,
     "status": "ok",
     "timestamp": 1630359619800,
     "user": {
      "displayName": "Joseph catanzarite",
      "photoUrl": "https://lh3.googleusercontent.com/a-/AOh14GgmMRaw8NgoEDqzevEZ6b18iOYdEH9nWTZeaFBW=s64",
      "userId": "16649206137414945374"
     },
     "user_tz": 420
    },
    "id": "7fMRJMoZ_5Aq",
    "outputId": "84949d10-b6b2-4c65-9fb3-e94b92d53bae"
   },
   "outputs": [
    {
     "data": {
      "text/plain": [
       "'checkin listed in americano this is not your average cute study spot cafe location atmosphere easy parking at the lot cute and classy interior decor plenty of seats available couches swings high chairs etc games like chess tic tac toe available no sign of outlets charging port on the walls no wifi available not a study cafe unless you have all your papers printed out and dont need the internet service o you order by yourself using an ipad up at the counter there are ipads available making lines go by faster you can request them to text you upon your order being ready when i told one of the baristas that the fork bin was empty he kindly brought it over to our table along with a couple of knives there was no option to make drinks half sweetened less ice on the ipad screen food prices highly recommend the matcha latte it was thick and made to perfection the chicken and waffle was well seasoned aesthetically super cute i didnt enjoy the milk tea as much it was way too sweet for me and had a super unique taste to it snack size portions price tag of a meal the sides of corn coleslaw came out in a tiny cup it was for a cup of milk tea and for the snack sized chicken and waffle we were still pretty hungry after and even considered driving over to tarka for some real food id come here again to socialize when im less busy with schoolwork but really only for the matcha latte the classy atmosphere if you havent had lunch dinner dont come here to fill your tummy up o matcha latte chicken waffle nutella waffle and hot milk tea matcha latte chicken waffle nutella waffle and hot milk tea'"
      ]
     },
     "execution_count": 109,
     "metadata": {},
     "output_type": "execute_result"
    }
   ],
   "source": [
    "df['cleaned_review'][10]"
   ]
  },
  {
   "cell_type": "code",
   "execution_count": 110,
   "metadata": {
    "colab": {
     "base_uri": "https://localhost:8080/"
    },
    "executionInfo": {
     "elapsed": 198752,
     "status": "ok",
     "timestamp": 1629922928876,
     "user": {
      "displayName": "Ryan Allred",
      "photoUrl": "",
      "userId": "04031804316926795705"
     },
     "user_tz": 360
    },
    "id": "SAuDB46Fszys",
    "outputId": "18731d37-72f1-42f7-884c-bc46a4e98215"
   },
   "outputs": [],
   "source": [
    "# This code cell takes ~ 3 minutes on Google Colab\n",
    "#%%time \n",
    "# YOUR CODE HERE\n",
    "df['spacy_tokens'] = df['cleaned_review'].apply(spacy_tokenizer)"
   ]
  },
  {
   "cell_type": "code",
   "execution_count": 111,
   "metadata": {
    "colab": {
     "base_uri": "https://localhost:8080/",
     "height": 292
    },
    "executionInfo": {
     "elapsed": 153,
     "status": "ok",
     "timestamp": 1629922937494,
     "user": {
      "displayName": "Ryan Allred",
      "photoUrl": "",
      "userId": "04031804316926795705"
     },
     "user_tz": 360
    },
    "id": "o6ERmwRL1_xX",
    "outputId": "48e98d29-7411-4d86-e75e-e14001b7bb65"
   },
   "outputs": [
    {
     "data": {
      "text/html": [
       "<div>\n",
       "<style scoped>\n",
       "    .dataframe tbody tr th:only-of-type {\n",
       "        vertical-align: middle;\n",
       "    }\n",
       "\n",
       "    .dataframe tbody tr th {\n",
       "        vertical-align: top;\n",
       "    }\n",
       "\n",
       "    .dataframe thead th {\n",
       "        text-align: right;\n",
       "    }\n",
       "</style>\n",
       "<table border=\"1\" class=\"dataframe\">\n",
       "  <thead>\n",
       "    <tr style=\"text-align: right;\">\n",
       "      <th></th>\n",
       "      <th>coffee_shop_name</th>\n",
       "      <th>full_review_text</th>\n",
       "      <th>star_rating</th>\n",
       "      <th>date</th>\n",
       "      <th>cleaned_review</th>\n",
       "      <th>tokens</th>\n",
       "      <th>spacy_tokens</th>\n",
       "    </tr>\n",
       "  </thead>\n",
       "  <tbody>\n",
       "    <tr>\n",
       "      <th>0</th>\n",
       "      <td>The Factory - Cafe With a Soul</td>\n",
       "      <td>11/25/2016 1 check-in Love love loved the atm...</td>\n",
       "      <td>5.0 star rating</td>\n",
       "      <td>2016-11-25</td>\n",
       "      <td>checkin love love loved the atmosphere every c...</td>\n",
       "      <td>[checkin, love, love, loved, the, atmosphere, ...</td>\n",
       "      <td>[love, love, love, corner, style, swing, match...</td>\n",
       "    </tr>\n",
       "    <tr>\n",
       "      <th>1</th>\n",
       "      <td>The Factory - Cafe With a Soul</td>\n",
       "      <td>12/2/2016 Listed in Date Night: Austin, Ambia...</td>\n",
       "      <td>4.0 star rating</td>\n",
       "      <td>2016-12-02</td>\n",
       "      <td>listed in date night austin ambiance in austin...</td>\n",
       "      <td>[listed, in, date, night, austin, ambiance, in...</td>\n",
       "      <td>[list, date, night, ambiance, beautiful, love,...</td>\n",
       "    </tr>\n",
       "    <tr>\n",
       "      <th>2</th>\n",
       "      <td>The Factory - Cafe With a Soul</td>\n",
       "      <td>11/30/2016 1 check-in Listed in Brunch Spots ...</td>\n",
       "      <td>4.0 star rating</td>\n",
       "      <td>2016-11-30</td>\n",
       "      <td>checkin listed in brunch spots i loved the ecl...</td>\n",
       "      <td>[checkin, listed, in, brunch, spots, i, loved,...</td>\n",
       "      <td>[list, brunch, love, eclectic, homey, plush, d...</td>\n",
       "    </tr>\n",
       "    <tr>\n",
       "      <th>3</th>\n",
       "      <td>The Factory - Cafe With a Soul</td>\n",
       "      <td>11/25/2016 Very cool decor! Good drinks Nice ...</td>\n",
       "      <td>2.0 star rating</td>\n",
       "      <td>2016-11-25</td>\n",
       "      <td>very cool decor good drinks nice seating howev...</td>\n",
       "      <td>[very, cool, decor, good, drinks, nice, seatin...</td>\n",
       "      <td>[cool, decor, good, nice, overprice, extra, ou...</td>\n",
       "    </tr>\n",
       "    <tr>\n",
       "      <th>4</th>\n",
       "      <td>The Factory - Cafe With a Soul</td>\n",
       "      <td>12/3/2016 1 check-in They are located within ...</td>\n",
       "      <td>4.0 star rating</td>\n",
       "      <td>2016-12-03</td>\n",
       "      <td>checkin they are located within the northcross...</td>\n",
       "      <td>[checkin, they, are, located, within, the, nor...</td>\n",
       "      <td>[locate, northcross, mall, shopping, center, f...</td>\n",
       "    </tr>\n",
       "  </tbody>\n",
       "</table>\n",
       "</div>"
      ],
      "text/plain": [
       "                  coffee_shop_name  \\\n",
       "0  The Factory - Cafe With a Soul    \n",
       "1  The Factory - Cafe With a Soul    \n",
       "2  The Factory - Cafe With a Soul    \n",
       "3  The Factory - Cafe With a Soul    \n",
       "4  The Factory - Cafe With a Soul    \n",
       "\n",
       "                                    full_review_text        star_rating  \\\n",
       "0   11/25/2016 1 check-in Love love loved the atm...   5.0 star rating    \n",
       "1   12/2/2016 Listed in Date Night: Austin, Ambia...   4.0 star rating    \n",
       "2   11/30/2016 1 check-in Listed in Brunch Spots ...   4.0 star rating    \n",
       "3   11/25/2016 Very cool decor! Good drinks Nice ...   2.0 star rating    \n",
       "4   12/3/2016 1 check-in They are located within ...   4.0 star rating    \n",
       "\n",
       "        date                                     cleaned_review  \\\n",
       "0 2016-11-25  checkin love love loved the atmosphere every c...   \n",
       "1 2016-12-02  listed in date night austin ambiance in austin...   \n",
       "2 2016-11-30  checkin listed in brunch spots i loved the ecl...   \n",
       "3 2016-11-25  very cool decor good drinks nice seating howev...   \n",
       "4 2016-12-03  checkin they are located within the northcross...   \n",
       "\n",
       "                                              tokens  \\\n",
       "0  [checkin, love, love, loved, the, atmosphere, ...   \n",
       "1  [listed, in, date, night, austin, ambiance, in...   \n",
       "2  [checkin, listed, in, brunch, spots, i, loved,...   \n",
       "3  [very, cool, decor, good, drinks, nice, seatin...   \n",
       "4  [checkin, they, are, located, within, the, nor...   \n",
       "\n",
       "                                        spacy_tokens  \n",
       "0  [love, love, love, corner, style, swing, match...  \n",
       "1  [list, date, night, ambiance, beautiful, love,...  \n",
       "2  [list, brunch, love, eclectic, homey, plush, d...  \n",
       "3  [cool, decor, good, nice, overprice, extra, ou...  \n",
       "4  [locate, northcross, mall, shopping, center, f...  "
      ]
     },
     "execution_count": 111,
     "metadata": {},
     "output_type": "execute_result"
    }
   ],
   "source": [
    "df.head()"
   ]
  },
  {
   "cell_type": "markdown",
   "metadata": {
    "id": "enAfqOhN3SNc"
   },
   "source": [
    "##1.5 Visualize the Spacy Tokens"
   ]
  },
  {
   "cell_type": "code",
   "execution_count": 112,
   "metadata": {
    "colab": {
     "base_uri": "https://localhost:8080/",
     "height": 248
    },
    "executionInfo": {
     "elapsed": 796,
     "status": "ok",
     "timestamp": 1629922940438,
     "user": {
      "displayName": "Ryan Allred",
      "photoUrl": "",
      "userId": "04031804316926795705"
     },
     "user_tz": 360
    },
    "id": "Rk-50jGh3Rxu",
    "outputId": "1778d80f-886f-4615-a9b3-1cf746398353"
   },
   "outputs": [
    {
     "data": {
      "image/png": "[encoded data removed]",
      "text/plain": [
       "<Figure size 432x288 with 1 Axes>"
      ]
     },
     "metadata": {
      "needs_background": "light"
     },
     "output_type": "display_data"
    }
   ],
   "source": [
    "wc = count(df['spacy_tokens'])\n",
    "\n",
    "wc_top20 = wc[wc['rank'] <= 20]\n",
    "\n",
    "squarify.plot(sizes=wc_top20['fraction_of_total'], label=wc_top20['word'], alpha=.8 )\n",
    "plt.axis('off')\n",
    "plt.show()"
   ]
  },
  {
   "cell_type": "markdown",
   "metadata": {
    "id": "qGzScOL73rFn"
   },
   "source": [
    "# 2. Compare High and Low Coffeeshop reviews!\n",
    "\n",
    "- We'll say that a \"good\" rating is 4 or 5 stars\n",
    "- a \"bad\" rating is 3 stars or less"
   ]
  },
  {
   "cell_type": "markdown",
   "metadata": {
    "id": "bOSuAA-G37e3"
   },
   "source": [
    "## 2.1 Create a numeric version of the star rating"
   ]
  },
  {
   "cell_type": "code",
   "execution_count": 113,
   "metadata": {
    "colab": {
     "base_uri": "https://localhost:8080/",
     "height": 292
    },
    "executionInfo": {
     "elapsed": 152,
     "status": "ok",
     "timestamp": 1629922946341,
     "user": {
      "displayName": "Ryan Allred",
      "photoUrl": "",
      "userId": "04031804316926795705"
     },
     "user_tz": 360
    },
    "id": "CM-bcjks4HMM",
    "outputId": "9ffe6777-d3ef-4aa0-9202-ba3d88243578"
   },
   "outputs": [
    {
     "data": {
      "text/html": [
       "<div>\n",
       "<style scoped>\n",
       "    .dataframe tbody tr th:only-of-type {\n",
       "        vertical-align: middle;\n",
       "    }\n",
       "\n",
       "    .dataframe tbody tr th {\n",
       "        vertical-align: top;\n",
       "    }\n",
       "\n",
       "    .dataframe thead th {\n",
       "        text-align: right;\n",
       "    }\n",
       "</style>\n",
       "<table border=\"1\" class=\"dataframe\">\n",
       "  <thead>\n",
       "    <tr style=\"text-align: right;\">\n",
       "      <th></th>\n",
       "      <th>coffee_shop_name</th>\n",
       "      <th>full_review_text</th>\n",
       "      <th>star_rating</th>\n",
       "      <th>date</th>\n",
       "      <th>cleaned_review</th>\n",
       "      <th>tokens</th>\n",
       "      <th>spacy_tokens</th>\n",
       "    </tr>\n",
       "  </thead>\n",
       "  <tbody>\n",
       "    <tr>\n",
       "      <th>0</th>\n",
       "      <td>The Factory - Cafe With a Soul</td>\n",
       "      <td>11/25/2016 1 check-in Love love loved the atm...</td>\n",
       "      <td>5.0 star rating</td>\n",
       "      <td>2016-11-25</td>\n",
       "      <td>checkin love love loved the atmosphere every c...</td>\n",
       "      <td>[checkin, love, love, loved, the, atmosphere, ...</td>\n",
       "      <td>[love, love, love, corner, style, swing, match...</td>\n",
       "    </tr>\n",
       "    <tr>\n",
       "      <th>1</th>\n",
       "      <td>The Factory - Cafe With a Soul</td>\n",
       "      <td>12/2/2016 Listed in Date Night: Austin, Ambia...</td>\n",
       "      <td>4.0 star rating</td>\n",
       "      <td>2016-12-02</td>\n",
       "      <td>listed in date night austin ambiance in austin...</td>\n",
       "      <td>[listed, in, date, night, austin, ambiance, in...</td>\n",
       "      <td>[list, date, night, ambiance, beautiful, love,...</td>\n",
       "    </tr>\n",
       "    <tr>\n",
       "      <th>2</th>\n",
       "      <td>The Factory - Cafe With a Soul</td>\n",
       "      <td>11/30/2016 1 check-in Listed in Brunch Spots ...</td>\n",
       "      <td>4.0 star rating</td>\n",
       "      <td>2016-11-30</td>\n",
       "      <td>checkin listed in brunch spots i loved the ecl...</td>\n",
       "      <td>[checkin, listed, in, brunch, spots, i, loved,...</td>\n",
       "      <td>[list, brunch, love, eclectic, homey, plush, d...</td>\n",
       "    </tr>\n",
       "    <tr>\n",
       "      <th>3</th>\n",
       "      <td>The Factory - Cafe With a Soul</td>\n",
       "      <td>11/25/2016 Very cool decor! Good drinks Nice ...</td>\n",
       "      <td>2.0 star rating</td>\n",
       "      <td>2016-11-25</td>\n",
       "      <td>very cool decor good drinks nice seating howev...</td>\n",
       "      <td>[very, cool, decor, good, drinks, nice, seatin...</td>\n",
       "      <td>[cool, decor, good, nice, overprice, extra, ou...</td>\n",
       "    </tr>\n",
       "    <tr>\n",
       "      <th>4</th>\n",
       "      <td>The Factory - Cafe With a Soul</td>\n",
       "      <td>12/3/2016 1 check-in They are located within ...</td>\n",
       "      <td>4.0 star rating</td>\n",
       "      <td>2016-12-03</td>\n",
       "      <td>checkin they are located within the northcross...</td>\n",
       "      <td>[checkin, they, are, located, within, the, nor...</td>\n",
       "      <td>[locate, northcross, mall, shopping, center, f...</td>\n",
       "    </tr>\n",
       "  </tbody>\n",
       "</table>\n",
       "</div>"
      ],
      "text/plain": [
       "                  coffee_shop_name  \\\n",
       "0  The Factory - Cafe With a Soul    \n",
       "1  The Factory - Cafe With a Soul    \n",
       "2  The Factory - Cafe With a Soul    \n",
       "3  The Factory - Cafe With a Soul    \n",
       "4  The Factory - Cafe With a Soul    \n",
       "\n",
       "                                    full_review_text        star_rating  \\\n",
       "0   11/25/2016 1 check-in Love love loved the atm...   5.0 star rating    \n",
       "1   12/2/2016 Listed in Date Night: Austin, Ambia...   4.0 star rating    \n",
       "2   11/30/2016 1 check-in Listed in Brunch Spots ...   4.0 star rating    \n",
       "3   11/25/2016 Very cool decor! Good drinks Nice ...   2.0 star rating    \n",
       "4   12/3/2016 1 check-in They are located within ...   4.0 star rating    \n",
       "\n",
       "        date                                     cleaned_review  \\\n",
       "0 2016-11-25  checkin love love loved the atmosphere every c...   \n",
       "1 2016-12-02  listed in date night austin ambiance in austin...   \n",
       "2 2016-11-30  checkin listed in brunch spots i loved the ecl...   \n",
       "3 2016-11-25  very cool decor good drinks nice seating howev...   \n",
       "4 2016-12-03  checkin they are located within the northcross...   \n",
       "\n",
       "                                              tokens  \\\n",
       "0  [checkin, love, love, loved, the, atmosphere, ...   \n",
       "1  [listed, in, date, night, austin, ambiance, in...   \n",
       "2  [checkin, listed, in, brunch, spots, i, loved,...   \n",
       "3  [very, cool, decor, good, drinks, nice, seatin...   \n",
       "4  [checkin, they, are, located, within, the, nor...   \n",
       "\n",
       "                                        spacy_tokens  \n",
       "0  [love, love, love, corner, style, swing, match...  \n",
       "1  [list, date, night, ambiance, beautiful, love,...  \n",
       "2  [list, brunch, love, eclectic, homey, plush, d...  \n",
       "3  [cool, decor, good, nice, overprice, extra, ou...  \n",
       "4  [locate, northcross, mall, shopping, center, f...  "
      ]
     },
     "execution_count": 113,
     "metadata": {},
     "output_type": "execute_result"
    }
   ],
   "source": [
    "df.head()"
   ]
  },
  {
   "cell_type": "code",
   "execution_count": 114,
   "metadata": {
    "colab": {
     "base_uri": "https://localhost:8080/"
    },
    "executionInfo": {
     "elapsed": 140,
     "status": "ok",
     "timestamp": 1630359818616,
     "user": {
      "displayName": "Joseph catanzarite",
      "photoUrl": "https://lh3.googleusercontent.com/a-/AOh14GgmMRaw8NgoEDqzevEZ6b18iOYdEH9nWTZeaFBW=s64",
      "userId": "16649206137414945374"
     },
     "user_tz": 420
    },
    "id": "OG3x8rdiBCNO",
    "outputId": "788cf327-d18a-4ca1-abe1-0a3652ac5d1b"
   },
   "outputs": [
    {
     "data": {
      "text/plain": [
       "array([' 5.0 star rating ', ' 4.0 star rating ', ' 2.0 star rating ',\n",
       "       ' 3.0 star rating ', ' 1.0 star rating '], dtype=object)"
      ]
     },
     "execution_count": 114,
     "metadata": {},
     "output_type": "execute_result"
    }
   ],
   "source": [
    "df['star_rating'].unique()"
   ]
  },
  {
   "cell_type": "markdown",
   "metadata": {
    "id": "OLkuO5fBBUVG"
   },
   "source": [
    "Let's write a `regex` to extract only the numerical value of the rating from this text string<br>\n",
    "Reference: [Easiest way to remember Regular Expressions](https://towardsdatascience.com/easiest-way-to-remember-regular-expressions-regex-178ba518bebd)"
   ]
  },
  {
   "cell_type": "code",
   "execution_count": 123,
   "metadata": {
    "colab": {
     "base_uri": "https://localhost:8080/",
     "height": 424
    },
    "executionInfo": {
     "elapsed": 151,
     "status": "ok",
     "timestamp": 1630360087428,
     "user": {
      "displayName": "Joseph catanzarite",
      "photoUrl": "https://lh3.googleusercontent.com/a-/AOh14GgmMRaw8NgoEDqzevEZ6b18iOYdEH9nWTZeaFBW=s64",
      "userId": "16649206137414945374"
     },
     "user_tz": 420
    },
    "id": "XWRZejBCBaPI",
    "outputId": "e85ef1cd-05f4-498d-d232-da79619ffde6"
   },
   "outputs": [],
   "source": [
    "df['stars'] = df['star_rating'].str.extract('(\\d)').astype(int) # COMPLETE THE CODE"
   ]
  },
  {
   "cell_type": "code",
   "execution_count": 124,
   "metadata": {
    "colab": {
     "base_uri": "https://localhost:8080/"
    },
    "executionInfo": {
     "elapsed": 137,
     "status": "ok",
     "timestamp": 1630360130526,
     "user": {
      "displayName": "Joseph catanzarite",
      "photoUrl": "https://lh3.googleusercontent.com/a-/AOh14GgmMRaw8NgoEDqzevEZ6b18iOYdEH9nWTZeaFBW=s64",
      "userId": "16649206137414945374"
     },
     "user_tz": 420
    },
    "id": "5oWq_lTIB4gP",
    "outputId": "e2a0a949-c05c-4373-8a74-78e7ae01015e"
   },
   "outputs": [
    {
     "data": {
      "text/plain": [
       "numpy.int32"
      ]
     },
     "execution_count": 124,
     "metadata": {},
     "output_type": "execute_result"
    }
   ],
   "source": [
    "type(df['stars'][0])"
   ]
  },
  {
   "cell_type": "code",
   "execution_count": 125,
   "metadata": {
    "colab": {
     "base_uri": "https://localhost:8080/",
     "height": 206
    },
    "executionInfo": {
     "elapsed": 141,
     "status": "ok",
     "timestamp": 1630360162663,
     "user": {
      "displayName": "Joseph catanzarite",
      "photoUrl": "https://lh3.googleusercontent.com/a-/AOh14GgmMRaw8NgoEDqzevEZ6b18iOYdEH9nWTZeaFBW=s64",
      "userId": "16649206137414945374"
     },
     "user_tz": 420
    },
    "id": "Ug2Ym8GEBScT",
    "outputId": "f9fb61cc-6360-4a45-f3d1-eead92b34fa6"
   },
   "outputs": [
    {
     "data": {
      "text/html": [
       "<div>\n",
       "<style scoped>\n",
       "    .dataframe tbody tr th:only-of-type {\n",
       "        vertical-align: middle;\n",
       "    }\n",
       "\n",
       "    .dataframe tbody tr th {\n",
       "        vertical-align: top;\n",
       "    }\n",
       "\n",
       "    .dataframe thead th {\n",
       "        text-align: right;\n",
       "    }\n",
       "</style>\n",
       "<table border=\"1\" class=\"dataframe\">\n",
       "  <thead>\n",
       "    <tr style=\"text-align: right;\">\n",
       "      <th></th>\n",
       "      <th>coffee_shop_name</th>\n",
       "      <th>full_review_text</th>\n",
       "      <th>star_rating</th>\n",
       "      <th>date</th>\n",
       "      <th>cleaned_review</th>\n",
       "      <th>tokens</th>\n",
       "      <th>spacy_tokens</th>\n",
       "      <th>stars</th>\n",
       "    </tr>\n",
       "  </thead>\n",
       "  <tbody>\n",
       "    <tr>\n",
       "      <th>0</th>\n",
       "      <td>The Factory - Cafe With a Soul</td>\n",
       "      <td>11/25/2016 1 check-in Love love loved the atm...</td>\n",
       "      <td>5.0 star rating</td>\n",
       "      <td>2016-11-25</td>\n",
       "      <td>checkin love love loved the atmosphere every c...</td>\n",
       "      <td>[checkin, love, love, loved, the, atmosphere, ...</td>\n",
       "      <td>[love, love, love, corner, style, swing, match...</td>\n",
       "      <td>5</td>\n",
       "    </tr>\n",
       "    <tr>\n",
       "      <th>1</th>\n",
       "      <td>The Factory - Cafe With a Soul</td>\n",
       "      <td>12/2/2016 Listed in Date Night: Austin, Ambia...</td>\n",
       "      <td>4.0 star rating</td>\n",
       "      <td>2016-12-02</td>\n",
       "      <td>listed in date night austin ambiance in austin...</td>\n",
       "      <td>[listed, in, date, night, austin, ambiance, in...</td>\n",
       "      <td>[list, date, night, ambiance, beautiful, love,...</td>\n",
       "      <td>4</td>\n",
       "    </tr>\n",
       "    <tr>\n",
       "      <th>2</th>\n",
       "      <td>The Factory - Cafe With a Soul</td>\n",
       "      <td>11/30/2016 1 check-in Listed in Brunch Spots ...</td>\n",
       "      <td>4.0 star rating</td>\n",
       "      <td>2016-11-30</td>\n",
       "      <td>checkin listed in brunch spots i loved the ecl...</td>\n",
       "      <td>[checkin, listed, in, brunch, spots, i, loved,...</td>\n",
       "      <td>[list, brunch, love, eclectic, homey, plush, d...</td>\n",
       "      <td>4</td>\n",
       "    </tr>\n",
       "    <tr>\n",
       "      <th>3</th>\n",
       "      <td>The Factory - Cafe With a Soul</td>\n",
       "      <td>11/25/2016 Very cool decor! Good drinks Nice ...</td>\n",
       "      <td>2.0 star rating</td>\n",
       "      <td>2016-11-25</td>\n",
       "      <td>very cool decor good drinks nice seating howev...</td>\n",
       "      <td>[very, cool, decor, good, drinks, nice, seatin...</td>\n",
       "      <td>[cool, decor, good, nice, overprice, extra, ou...</td>\n",
       "      <td>2</td>\n",
       "    </tr>\n",
       "    <tr>\n",
       "      <th>4</th>\n",
       "      <td>The Factory - Cafe With a Soul</td>\n",
       "      <td>12/3/2016 1 check-in They are located within ...</td>\n",
       "      <td>4.0 star rating</td>\n",
       "      <td>2016-12-03</td>\n",
       "      <td>checkin they are located within the northcross...</td>\n",
       "      <td>[checkin, they, are, located, within, the, nor...</td>\n",
       "      <td>[locate, northcross, mall, shopping, center, f...</td>\n",
       "      <td>4</td>\n",
       "    </tr>\n",
       "  </tbody>\n",
       "</table>\n",
       "</div>"
      ],
      "text/plain": [
       "                  coffee_shop_name  \\\n",
       "0  The Factory - Cafe With a Soul    \n",
       "1  The Factory - Cafe With a Soul    \n",
       "2  The Factory - Cafe With a Soul    \n",
       "3  The Factory - Cafe With a Soul    \n",
       "4  The Factory - Cafe With a Soul    \n",
       "\n",
       "                                    full_review_text        star_rating  \\\n",
       "0   11/25/2016 1 check-in Love love loved the atm...   5.0 star rating    \n",
       "1   12/2/2016 Listed in Date Night: Austin, Ambia...   4.0 star rating    \n",
       "2   11/30/2016 1 check-in Listed in Brunch Spots ...   4.0 star rating    \n",
       "3   11/25/2016 Very cool decor! Good drinks Nice ...   2.0 star rating    \n",
       "4   12/3/2016 1 check-in They are located within ...   4.0 star rating    \n",
       "\n",
       "        date                                     cleaned_review  \\\n",
       "0 2016-11-25  checkin love love loved the atmosphere every c...   \n",
       "1 2016-12-02  listed in date night austin ambiance in austin...   \n",
       "2 2016-11-30  checkin listed in brunch spots i loved the ecl...   \n",
       "3 2016-11-25  very cool decor good drinks nice seating howev...   \n",
       "4 2016-12-03  checkin they are located within the northcross...   \n",
       "\n",
       "                                              tokens  \\\n",
       "0  [checkin, love, love, loved, the, atmosphere, ...   \n",
       "1  [listed, in, date, night, austin, ambiance, in...   \n",
       "2  [checkin, listed, in, brunch, spots, i, loved,...   \n",
       "3  [very, cool, decor, good, drinks, nice, seatin...   \n",
       "4  [checkin, they, are, located, within, the, nor...   \n",
       "\n",
       "                                        spacy_tokens  stars  \n",
       "0  [love, love, love, corner, style, swing, match...      5  \n",
       "1  [list, date, night, ambiance, beautiful, love,...      4  \n",
       "2  [list, brunch, love, eclectic, homey, plush, d...      4  \n",
       "3  [cool, decor, good, nice, overprice, extra, ou...      2  \n",
       "4  [locate, northcross, mall, shopping, center, f...      4  "
      ]
     },
     "execution_count": 125,
     "metadata": {},
     "output_type": "execute_result"
    }
   ],
   "source": [
    "df.head()"
   ]
  },
  {
   "cell_type": "code",
   "execution_count": 126,
   "metadata": {
    "colab": {
     "base_uri": "https://localhost:8080/",
     "height": 292
    },
    "executionInfo": {
     "elapsed": 179,
     "status": "ok",
     "timestamp": 1629922955665,
     "user": {
      "displayName": "Ryan Allred",
      "photoUrl": "",
      "userId": "04031804316926795705"
     },
     "user_tz": 360
    },
    "id": "55Qc1RPa4JD-",
    "outputId": "fe02bca8-0bfb-4a24-db2a-dc35131fd499"
   },
   "outputs": [
    {
     "data": {
      "text/html": [
       "<div>\n",
       "<style scoped>\n",
       "    .dataframe tbody tr th:only-of-type {\n",
       "        vertical-align: middle;\n",
       "    }\n",
       "\n",
       "    .dataframe tbody tr th {\n",
       "        vertical-align: top;\n",
       "    }\n",
       "\n",
       "    .dataframe thead th {\n",
       "        text-align: right;\n",
       "    }\n",
       "</style>\n",
       "<table border=\"1\" class=\"dataframe\">\n",
       "  <thead>\n",
       "    <tr style=\"text-align: right;\">\n",
       "      <th></th>\n",
       "      <th>coffee_shop_name</th>\n",
       "      <th>full_review_text</th>\n",
       "      <th>star_rating</th>\n",
       "      <th>date</th>\n",
       "      <th>cleaned_review</th>\n",
       "      <th>tokens</th>\n",
       "      <th>spacy_tokens</th>\n",
       "      <th>stars</th>\n",
       "    </tr>\n",
       "  </thead>\n",
       "  <tbody>\n",
       "    <tr>\n",
       "      <th>0</th>\n",
       "      <td>The Factory - Cafe With a Soul</td>\n",
       "      <td>11/25/2016 1 check-in Love love loved the atm...</td>\n",
       "      <td>5.0</td>\n",
       "      <td>2016-11-25</td>\n",
       "      <td>checkin love love loved the atmosphere every c...</td>\n",
       "      <td>[checkin, love, love, loved, the, atmosphere, ...</td>\n",
       "      <td>[love, love, love, corner, style, swing, match...</td>\n",
       "      <td>5</td>\n",
       "    </tr>\n",
       "    <tr>\n",
       "      <th>1</th>\n",
       "      <td>The Factory - Cafe With a Soul</td>\n",
       "      <td>12/2/2016 Listed in Date Night: Austin, Ambia...</td>\n",
       "      <td>4.0</td>\n",
       "      <td>2016-12-02</td>\n",
       "      <td>listed in date night austin ambiance in austin...</td>\n",
       "      <td>[listed, in, date, night, austin, ambiance, in...</td>\n",
       "      <td>[list, date, night, ambiance, beautiful, love,...</td>\n",
       "      <td>4</td>\n",
       "    </tr>\n",
       "    <tr>\n",
       "      <th>2</th>\n",
       "      <td>The Factory - Cafe With a Soul</td>\n",
       "      <td>11/30/2016 1 check-in Listed in Brunch Spots ...</td>\n",
       "      <td>4.0</td>\n",
       "      <td>2016-11-30</td>\n",
       "      <td>checkin listed in brunch spots i loved the ecl...</td>\n",
       "      <td>[checkin, listed, in, brunch, spots, i, loved,...</td>\n",
       "      <td>[list, brunch, love, eclectic, homey, plush, d...</td>\n",
       "      <td>4</td>\n",
       "    </tr>\n",
       "    <tr>\n",
       "      <th>3</th>\n",
       "      <td>The Factory - Cafe With a Soul</td>\n",
       "      <td>11/25/2016 Very cool decor! Good drinks Nice ...</td>\n",
       "      <td>2.0</td>\n",
       "      <td>2016-11-25</td>\n",
       "      <td>very cool decor good drinks nice seating howev...</td>\n",
       "      <td>[very, cool, decor, good, drinks, nice, seatin...</td>\n",
       "      <td>[cool, decor, good, nice, overprice, extra, ou...</td>\n",
       "      <td>2</td>\n",
       "    </tr>\n",
       "    <tr>\n",
       "      <th>4</th>\n",
       "      <td>The Factory - Cafe With a Soul</td>\n",
       "      <td>12/3/2016 1 check-in They are located within ...</td>\n",
       "      <td>4.0</td>\n",
       "      <td>2016-12-03</td>\n",
       "      <td>checkin they are located within the northcross...</td>\n",
       "      <td>[checkin, they, are, located, within, the, nor...</td>\n",
       "      <td>[locate, northcross, mall, shopping, center, f...</td>\n",
       "      <td>4</td>\n",
       "    </tr>\n",
       "  </tbody>\n",
       "</table>\n",
       "</div>"
      ],
      "text/plain": [
       "                  coffee_shop_name  \\\n",
       "0  The Factory - Cafe With a Soul    \n",
       "1  The Factory - Cafe With a Soul    \n",
       "2  The Factory - Cafe With a Soul    \n",
       "3  The Factory - Cafe With a Soul    \n",
       "4  The Factory - Cafe With a Soul    \n",
       "\n",
       "                                    full_review_text  star_rating       date  \\\n",
       "0   11/25/2016 1 check-in Love love loved the atm...          5.0 2016-11-25   \n",
       "1   12/2/2016 Listed in Date Night: Austin, Ambia...          4.0 2016-12-02   \n",
       "2   11/30/2016 1 check-in Listed in Brunch Spots ...          4.0 2016-11-30   \n",
       "3   11/25/2016 Very cool decor! Good drinks Nice ...          2.0 2016-11-25   \n",
       "4   12/3/2016 1 check-in They are located within ...          4.0 2016-12-03   \n",
       "\n",
       "                                      cleaned_review  \\\n",
       "0  checkin love love loved the atmosphere every c...   \n",
       "1  listed in date night austin ambiance in austin...   \n",
       "2  checkin listed in brunch spots i loved the ecl...   \n",
       "3  very cool decor good drinks nice seating howev...   \n",
       "4  checkin they are located within the northcross...   \n",
       "\n",
       "                                              tokens  \\\n",
       "0  [checkin, love, love, loved, the, atmosphere, ...   \n",
       "1  [listed, in, date, night, austin, ambiance, in...   \n",
       "2  [checkin, listed, in, brunch, spots, i, loved,...   \n",
       "3  [very, cool, decor, good, drinks, nice, seatin...   \n",
       "4  [checkin, they, are, located, within, the, nor...   \n",
       "\n",
       "                                        spacy_tokens  stars  \n",
       "0  [love, love, love, corner, style, swing, match...      5  \n",
       "1  [list, date, night, ambiance, beautiful, love,...      4  \n",
       "2  [list, brunch, love, eclectic, homey, plush, d...      4  \n",
       "3  [cool, decor, good, nice, overprice, extra, ou...      2  \n",
       "4  [locate, northcross, mall, shopping, center, f...      4  "
      ]
     },
     "execution_count": 126,
     "metadata": {},
     "output_type": "execute_result"
    }
   ],
   "source": [
    "# COMPLETE CODE HERE\n",
    "def star_rating_numeric(rating_string):\n",
    "  return float(rating_string.split()[0])\n",
    "\n",
    "df['star_rating'] = df['star_rating'].apply(star_rating_numeric)\n",
    "\n",
    "df.head()"
   ]
  },
  {
   "cell_type": "code",
   "execution_count": null,
   "metadata": {
    "id": "sY-vLc_WwUNA"
   },
   "outputs": [],
   "source": [
    "# most coffee shops get 4 or 5 star ratings.\n",
    "bin_edges = [0.5, 1.5, 2.5, 3.5, 4.5, 5.5]\n",
    "df['stars'].hist(bins=bin_edges);"
   ]
  },
  {
   "cell_type": "markdown",
   "metadata": {
    "id": "eCrNUerr4kKG"
   },
   "source": [
    "##2.2 Split into two dataframes based on star rating\n",
    "good: ratings 4 and 5 <br>\n",
    "bad: ratings <4"
   ]
  },
  {
   "cell_type": "code",
   "execution_count": 127,
   "metadata": {
    "id": "d-ErzFog4pgM"
   },
   "outputs": [],
   "source": [
    "# Complete code here\n",
    "good = df[df['stars']>=4]\n",
    "bad = df[df['stars']<4]"
   ]
  },
  {
   "cell_type": "code",
   "execution_count": 128,
   "metadata": {
    "id": "y9ahpHof4yiV"
   },
   "outputs": [],
   "source": [
    "# make sure that all reviews are accounted for in one of the two groups\n",
    "assert df.shape[0] == good.shape[0] + bad.shape[0]"
   ]
  },
  {
   "cell_type": "markdown",
   "metadata": {
    "id": "6HzFcfdkNZv3"
   },
   "source": [
    "#### Summary of the descriptive token statistics \n",
    "\n",
    "`word` The specific token that is being analyzed\n",
    "\n",
    "`appears_in_docs` Number of documents that the word/token appears in\n",
    "\n",
    "`count` The total number of appearances of that token within the corpus \n",
    "\n",
    "`rank` Ranking of tokens by count \n",
    "\n",
    "`fraction_of_total` Fraction of the total tokens that this token makes up\n",
    "\n",
    "`cumulative_fraction_of_total` Sum of fractional total of ranked tokens, down to and including this token. \n",
    "\n",
    "`appears_in_fraction_of_docs` Fraction of documents that token appears in "
   ]
  },
  {
   "cell_type": "code",
   "execution_count": 129,
   "metadata": {
    "colab": {
     "base_uri": "https://localhost:8080/",
     "height": 362
    },
    "executionInfo": {
     "elapsed": 345,
     "status": "ok",
     "timestamp": 1629922992199,
     "user": {
      "displayName": "Ryan Allred",
      "photoUrl": "",
      "userId": "04031804316926795705"
     },
     "user_tz": 360
    },
    "id": "V4aKjuS8szyw",
    "outputId": "a1b69fb1-1c9f-44a4-d36f-907801a732b1"
   },
   "outputs": [
    {
     "data": {
      "text/html": [
       "<div>\n",
       "<style scoped>\n",
       "    .dataframe tbody tr th:only-of-type {\n",
       "        vertical-align: middle;\n",
       "    }\n",
       "\n",
       "    .dataframe tbody tr th {\n",
       "        vertical-align: top;\n",
       "    }\n",
       "\n",
       "    .dataframe thead th {\n",
       "        text-align: right;\n",
       "    }\n",
       "</style>\n",
       "<table border=\"1\" class=\"dataframe\">\n",
       "  <thead>\n",
       "    <tr style=\"text-align: right;\">\n",
       "      <th></th>\n",
       "      <th>word</th>\n",
       "      <th>appears_in_docs</th>\n",
       "      <th>count</th>\n",
       "      <th>rank</th>\n",
       "      <th>fraction_of_total</th>\n",
       "      <th>cumulative_fraction_of_total</th>\n",
       "      <th>appears_in_fraction_of_docs</th>\n",
       "    </tr>\n",
       "  </thead>\n",
       "  <tbody>\n",
       "    <tr>\n",
       "      <th>154</th>\n",
       "      <td>good</td>\n",
       "      <td>2940</td>\n",
       "      <td>4383</td>\n",
       "      <td>1.0</td>\n",
       "      <td>0.020422</td>\n",
       "      <td>0.020422</td>\n",
       "      <td>0.478827</td>\n",
       "    </tr>\n",
       "    <tr>\n",
       "      <th>69</th>\n",
       "      <td>great</td>\n",
       "      <td>2505</td>\n",
       "      <td>3474</td>\n",
       "      <td>2.0</td>\n",
       "      <td>0.016186</td>\n",
       "      <td>0.036608</td>\n",
       "      <td>0.407980</td>\n",
       "    </tr>\n",
       "    <tr>\n",
       "      <th>148</th>\n",
       "      <td>like</td>\n",
       "      <td>1668</td>\n",
       "      <td>2414</td>\n",
       "      <td>3.0</td>\n",
       "      <td>0.011248</td>\n",
       "      <td>0.047856</td>\n",
       "      <td>0.271661</td>\n",
       "    </tr>\n",
       "    <tr>\n",
       "      <th>25</th>\n",
       "      <td>love</td>\n",
       "      <td>1608</td>\n",
       "      <td>2121</td>\n",
       "      <td>4.0</td>\n",
       "      <td>0.009882</td>\n",
       "      <td>0.057738</td>\n",
       "      <td>0.261889</td>\n",
       "    </tr>\n",
       "    <tr>\n",
       "      <th>122</th>\n",
       "      <td>friendly</td>\n",
       "      <td>1418</td>\n",
       "      <td>1484</td>\n",
       "      <td>5.0</td>\n",
       "      <td>0.006914</td>\n",
       "      <td>0.064653</td>\n",
       "      <td>0.230945</td>\n",
       "    </tr>\n",
       "    <tr>\n",
       "      <th>30</th>\n",
       "      <td>nice</td>\n",
       "      <td>1210</td>\n",
       "      <td>1434</td>\n",
       "      <td>6.0</td>\n",
       "      <td>0.006681</td>\n",
       "      <td>0.071334</td>\n",
       "      <td>0.197068</td>\n",
       "    </tr>\n",
       "    <tr>\n",
       "      <th>518</th>\n",
       "      <td>delicious</td>\n",
       "      <td>1178</td>\n",
       "      <td>1314</td>\n",
       "      <td>7.0</td>\n",
       "      <td>0.006122</td>\n",
       "      <td>0.077456</td>\n",
       "      <td>0.191857</td>\n",
       "    </tr>\n",
       "    <tr>\n",
       "      <th>402</th>\n",
       "      <td>little</td>\n",
       "      <td>1035</td>\n",
       "      <td>1250</td>\n",
       "      <td>8.0</td>\n",
       "      <td>0.005824</td>\n",
       "      <td>0.083281</td>\n",
       "      <td>0.168567</td>\n",
       "    </tr>\n",
       "    <tr>\n",
       "      <th>90</th>\n",
       "      <td>lot</td>\n",
       "      <td>906</td>\n",
       "      <td>1080</td>\n",
       "      <td>9.0</td>\n",
       "      <td>0.005032</td>\n",
       "      <td>0.088313</td>\n",
       "      <td>0.147557</td>\n",
       "    </tr>\n",
       "    <tr>\n",
       "      <th>31</th>\n",
       "      <td>definitely</td>\n",
       "      <td>891</td>\n",
       "      <td>1004</td>\n",
       "      <td>10.0</td>\n",
       "      <td>0.004678</td>\n",
       "      <td>0.092991</td>\n",
       "      <td>0.145114</td>\n",
       "    </tr>\n",
       "  </tbody>\n",
       "</table>\n",
       "</div>"
      ],
      "text/plain": [
       "           word  appears_in_docs  count  rank  fraction_of_total  \\\n",
       "154        good             2940   4383   1.0           0.020422   \n",
       "69        great             2505   3474   2.0           0.016186   \n",
       "148        like             1668   2414   3.0           0.011248   \n",
       "25         love             1608   2121   4.0           0.009882   \n",
       "122    friendly             1418   1484   5.0           0.006914   \n",
       "30         nice             1210   1434   6.0           0.006681   \n",
       "518   delicious             1178   1314   7.0           0.006122   \n",
       "402      little             1035   1250   8.0           0.005824   \n",
       "90          lot              906   1080   9.0           0.005032   \n",
       "31   definitely              891   1004  10.0           0.004678   \n",
       "\n",
       "     cumulative_fraction_of_total  appears_in_fraction_of_docs  \n",
       "154                      0.020422                     0.478827  \n",
       "69                       0.036608                     0.407980  \n",
       "148                      0.047856                     0.271661  \n",
       "25                       0.057738                     0.261889  \n",
       "122                      0.064653                     0.230945  \n",
       "30                       0.071334                     0.197068  \n",
       "518                      0.077456                     0.191857  \n",
       "402                      0.083281                     0.168567  \n",
       "90                       0.088313                     0.147557  \n",
       "31                       0.092991                     0.145114  "
      ]
     },
     "execution_count": 129,
     "metadata": {},
     "output_type": "execute_result"
    }
   ],
   "source": [
    "good_wc = count(good[\"spacy_tokens\"])\n",
    "good_wc.head(10)"
   ]
  },
  {
   "cell_type": "code",
   "execution_count": 130,
   "metadata": {
    "colab": {
     "base_uri": "https://localhost:8080/",
     "height": 362
    },
    "executionInfo": {
     "elapsed": 154,
     "status": "ok",
     "timestamp": 1629922993418,
     "user": {
      "displayName": "Ryan Allred",
      "photoUrl": "",
      "userId": "04031804316926795705"
     },
     "user_tz": 360
    },
    "id": "VVPvC0Bk5wty",
    "outputId": "5fb04cbb-a8be-43a1-c8ca-348a46e1ad71"
   },
   "outputs": [
    {
     "data": {
      "text/html": [
       "<div>\n",
       "<style scoped>\n",
       "    .dataframe tbody tr th:only-of-type {\n",
       "        vertical-align: middle;\n",
       "    }\n",
       "\n",
       "    .dataframe tbody tr th {\n",
       "        vertical-align: top;\n",
       "    }\n",
       "\n",
       "    .dataframe thead th {\n",
       "        text-align: right;\n",
       "    }\n",
       "</style>\n",
       "<table border=\"1\" class=\"dataframe\">\n",
       "  <thead>\n",
       "    <tr style=\"text-align: right;\">\n",
       "      <th></th>\n",
       "      <th>word</th>\n",
       "      <th>appears_in_docs</th>\n",
       "      <th>count</th>\n",
       "      <th>rank</th>\n",
       "      <th>fraction_of_total</th>\n",
       "      <th>cumulative_fraction_of_total</th>\n",
       "      <th>appears_in_fraction_of_docs</th>\n",
       "    </tr>\n",
       "  </thead>\n",
       "  <tbody>\n",
       "    <tr>\n",
       "      <th>14</th>\n",
       "      <td>good</td>\n",
       "      <td>647</td>\n",
       "      <td>999</td>\n",
       "      <td>1.0</td>\n",
       "      <td>0.016930</td>\n",
       "      <td>0.016930</td>\n",
       "      <td>0.438347</td>\n",
       "    </tr>\n",
       "    <tr>\n",
       "      <th>5</th>\n",
       "      <td>like</td>\n",
       "      <td>592</td>\n",
       "      <td>937</td>\n",
       "      <td>2.0</td>\n",
       "      <td>0.015879</td>\n",
       "      <td>0.032809</td>\n",
       "      <td>0.401084</td>\n",
       "    </tr>\n",
       "    <tr>\n",
       "      <th>59</th>\n",
       "      <td>great</td>\n",
       "      <td>348</td>\n",
       "      <td>472</td>\n",
       "      <td>3.0</td>\n",
       "      <td>0.007999</td>\n",
       "      <td>0.040807</td>\n",
       "      <td>0.235772</td>\n",
       "    </tr>\n",
       "    <tr>\n",
       "      <th>124</th>\n",
       "      <td>pretty</td>\n",
       "      <td>282</td>\n",
       "      <td>363</td>\n",
       "      <td>4.0</td>\n",
       "      <td>0.006152</td>\n",
       "      <td>0.046959</td>\n",
       "      <td>0.191057</td>\n",
       "    </tr>\n",
       "    <tr>\n",
       "      <th>6</th>\n",
       "      <td>nice</td>\n",
       "      <td>289</td>\n",
       "      <td>358</td>\n",
       "      <td>5.0</td>\n",
       "      <td>0.006067</td>\n",
       "      <td>0.053026</td>\n",
       "      <td>0.195799</td>\n",
       "    </tr>\n",
       "    <tr>\n",
       "      <th>682</th>\n",
       "      <td>ask</td>\n",
       "      <td>220</td>\n",
       "      <td>324</td>\n",
       "      <td>6.0</td>\n",
       "      <td>0.005491</td>\n",
       "      <td>0.058516</td>\n",
       "      <td>0.149051</td>\n",
       "    </tr>\n",
       "    <tr>\n",
       "      <th>244</th>\n",
       "      <td>customer</td>\n",
       "      <td>185</td>\n",
       "      <td>292</td>\n",
       "      <td>7.0</td>\n",
       "      <td>0.004948</td>\n",
       "      <td>0.063465</td>\n",
       "      <td>0.125339</td>\n",
       "    </tr>\n",
       "    <tr>\n",
       "      <th>85</th>\n",
       "      <td>review</td>\n",
       "      <td>223</td>\n",
       "      <td>274</td>\n",
       "      <td>8.0</td>\n",
       "      <td>0.004643</td>\n",
       "      <td>0.068108</td>\n",
       "      <td>0.151084</td>\n",
       "    </tr>\n",
       "    <tr>\n",
       "      <th>168</th>\n",
       "      <td>wait</td>\n",
       "      <td>185</td>\n",
       "      <td>270</td>\n",
       "      <td>9.0</td>\n",
       "      <td>0.004576</td>\n",
       "      <td>0.072684</td>\n",
       "      <td>0.125339</td>\n",
       "    </tr>\n",
       "    <tr>\n",
       "      <th>149</th>\n",
       "      <td>friend</td>\n",
       "      <td>189</td>\n",
       "      <td>261</td>\n",
       "      <td>10.0</td>\n",
       "      <td>0.004423</td>\n",
       "      <td>0.077107</td>\n",
       "      <td>0.128049</td>\n",
       "    </tr>\n",
       "  </tbody>\n",
       "</table>\n",
       "</div>"
      ],
      "text/plain": [
       "         word  appears_in_docs  count  rank  fraction_of_total  \\\n",
       "14       good              647    999   1.0           0.016930   \n",
       "5        like              592    937   2.0           0.015879   \n",
       "59      great              348    472   3.0           0.007999   \n",
       "124    pretty              282    363   4.0           0.006152   \n",
       "6        nice              289    358   5.0           0.006067   \n",
       "682       ask              220    324   6.0           0.005491   \n",
       "244  customer              185    292   7.0           0.004948   \n",
       "85     review              223    274   8.0           0.004643   \n",
       "168      wait              185    270   9.0           0.004576   \n",
       "149    friend              189    261  10.0           0.004423   \n",
       "\n",
       "     cumulative_fraction_of_total  appears_in_fraction_of_docs  \n",
       "14                       0.016930                     0.438347  \n",
       "5                        0.032809                     0.401084  \n",
       "59                       0.040807                     0.235772  \n",
       "124                      0.046959                     0.191057  \n",
       "6                        0.053026                     0.195799  \n",
       "682                      0.058516                     0.149051  \n",
       "244                      0.063465                     0.125339  \n",
       "85                       0.068108                     0.151084  \n",
       "168                      0.072684                     0.125339  \n",
       "149                      0.077107                     0.128049  "
      ]
     },
     "execution_count": 130,
     "metadata": {},
     "output_type": "execute_result"
    }
   ],
   "source": [
    "bad_wc = count(bad[\"spacy_tokens\"])\n",
    "bad_wc.head(10)"
   ]
  },
  {
   "cell_type": "markdown",
   "metadata": {
    "id": "w1BTCz_gszyx"
   },
   "source": [
    "##2.3 Visualize top 20 `good` and top 20 `bad` tokens using a word cloud"
   ]
  },
  {
   "cell_type": "code",
   "execution_count": 132,
   "metadata": {
    "colab": {
     "base_uri": "https://localhost:8080/",
     "height": 837
    },
    "executionInfo": {
     "elapsed": 557,
     "status": "ok",
     "timestamp": 1629923000985,
     "user": {
      "displayName": "Ryan Allred",
      "photoUrl": "",
      "userId": "04031804316926795705"
     },
     "user_tz": 360
    },
    "id": "7MWQ1BHeszyx",
    "outputId": "5a9dcca4-5398-4527-b537-4725dc16a36a"
   },
   "outputs": [
    {
     "data": {
      "image/png": "[encoded data removed]",
      "text/plain": [
       "<Figure size 720x504 with 1 Axes>"
      ]
     },
     "metadata": {
      "needs_background": "light"
     },
     "output_type": "display_data"
    },
    {
     "data": {
      "image/png": "[encoded data removed]",
      "text/plain": [
       "<Figure size 720x504 with 1 Axes>"
      ]
     },
     "metadata": {
      "needs_background": "light"
     },
     "output_type": "display_data"
    }
   ],
   "source": [
    "# COMPLETE CODE HERE\n",
    "good_top20 = good_wc[good_wc['rank'] <= 20]\n",
    "plt.figure(figsize=(10,7))\n",
    "squarify.plot(sizes=good_top20['fraction_of_total'], label=good_top20['word'], alpha=.8 )\n",
    "plt.title(\"Positive Reviews\")\n",
    "plt.axis('off')\n",
    "plt.show()\n",
    "\n",
    "bad_top20 = bad_wc[bad_wc['rank'] <= 20]\n",
    "plt.figure(figsize=(10,7))\n",
    "squarify.plot(sizes=bad_top20['fraction_of_total'], label=bad_top20['word'], alpha=.8 )\n",
    "plt.title(\"Negative Reviews\")\n",
    "plt.axis('off')\n",
    "plt.show()"
   ]
  },
  {
   "cell_type": "markdown",
   "metadata": {
    "id": "hhRS5oWkszy1"
   },
   "source": [
    "## 3. Find out which words are likely to occur in \"good\" and \"bad\" reviews\n",
    "Ok - let's do a more thorough analysis! <br>\n",
    "Looking at `df_pos_wc` and `df_neg_wc` we notice that certain words are ranked higher in one data set and lower in the other. "
   ]
  },
  {
   "cell_type": "code",
   "execution_count": 139,
   "metadata": {
    "id": "ad_p-iZaszy1"
   },
   "outputs": [],
   "source": [
    "# these are words that are ranked high in one data set but not the other\n",
    "# you might try working with two keyword lists -- one for the good reviews and one for the bad reviews \n",
    "good_key_words = ['enjoy', 'delicious', 'amazing', 'definitely', 'favorite', 'super', 'sweet']\n",
    "bad_key_words = ['ask', 'price', 'wait', 'review', 'bad', 'feel', 'customer', 'star']"
   ]
  },
  {
   "cell_type": "code",
   "execution_count": 137,
   "metadata": {
    "colab": {
     "base_uri": "https://localhost:8080/",
     "height": 205
    },
    "executionInfo": {
     "elapsed": 168,
     "status": "ok",
     "timestamp": 1629923004892,
     "user": {
      "displayName": "Ryan Allred",
      "photoUrl": "",
      "userId": "04031804316926795705"
     },
     "user_tz": 360
    },
    "id": "00yVhq9hszy1",
    "outputId": "123c19a8-25fa-429d-c8fa-ac43a84da71e"
   },
   "outputs": [
    {
     "data": {
      "text/html": [
       "<div>\n",
       "<style scoped>\n",
       "    .dataframe tbody tr th:only-of-type {\n",
       "        vertical-align: middle;\n",
       "    }\n",
       "\n",
       "    .dataframe tbody tr th {\n",
       "        vertical-align: top;\n",
       "    }\n",
       "\n",
       "    .dataframe thead th {\n",
       "        text-align: right;\n",
       "    }\n",
       "</style>\n",
       "<table border=\"1\" class=\"dataframe\">\n",
       "  <thead>\n",
       "    <tr style=\"text-align: right;\">\n",
       "      <th></th>\n",
       "      <th>word</th>\n",
       "      <th>appears_in_docs</th>\n",
       "      <th>count</th>\n",
       "      <th>rank</th>\n",
       "      <th>fraction_of_total</th>\n",
       "      <th>cumulative_fraction_of_total</th>\n",
       "      <th>appears_in_fraction_of_docs</th>\n",
       "    </tr>\n",
       "  </thead>\n",
       "  <tbody>\n",
       "    <tr>\n",
       "      <th>154</th>\n",
       "      <td>good</td>\n",
       "      <td>2940</td>\n",
       "      <td>4383</td>\n",
       "      <td>1.0</td>\n",
       "      <td>0.020422</td>\n",
       "      <td>0.020422</td>\n",
       "      <td>0.478827</td>\n",
       "    </tr>\n",
       "    <tr>\n",
       "      <th>69</th>\n",
       "      <td>great</td>\n",
       "      <td>2505</td>\n",
       "      <td>3474</td>\n",
       "      <td>2.0</td>\n",
       "      <td>0.016186</td>\n",
       "      <td>0.036608</td>\n",
       "      <td>0.407980</td>\n",
       "    </tr>\n",
       "    <tr>\n",
       "      <th>148</th>\n",
       "      <td>like</td>\n",
       "      <td>1668</td>\n",
       "      <td>2414</td>\n",
       "      <td>3.0</td>\n",
       "      <td>0.011248</td>\n",
       "      <td>0.047856</td>\n",
       "      <td>0.271661</td>\n",
       "    </tr>\n",
       "    <tr>\n",
       "      <th>25</th>\n",
       "      <td>love</td>\n",
       "      <td>1608</td>\n",
       "      <td>2121</td>\n",
       "      <td>4.0</td>\n",
       "      <td>0.009882</td>\n",
       "      <td>0.057738</td>\n",
       "      <td>0.261889</td>\n",
       "    </tr>\n",
       "    <tr>\n",
       "      <th>122</th>\n",
       "      <td>friendly</td>\n",
       "      <td>1418</td>\n",
       "      <td>1484</td>\n",
       "      <td>5.0</td>\n",
       "      <td>0.006914</td>\n",
       "      <td>0.064653</td>\n",
       "      <td>0.230945</td>\n",
       "    </tr>\n",
       "  </tbody>\n",
       "</table>\n",
       "</div>"
      ],
      "text/plain": [
       "         word  appears_in_docs  count  rank  fraction_of_total  \\\n",
       "154      good             2940   4383   1.0           0.020422   \n",
       "69      great             2505   3474   2.0           0.016186   \n",
       "148      like             1668   2414   3.0           0.011248   \n",
       "25       love             1608   2121   4.0           0.009882   \n",
       "122  friendly             1418   1484   5.0           0.006914   \n",
       "\n",
       "     cumulative_fraction_of_total  appears_in_fraction_of_docs  \n",
       "154                      0.020422                     0.478827  \n",
       "69                       0.036608                     0.407980  \n",
       "148                      0.047856                     0.271661  \n",
       "25                       0.057738                     0.261889  \n",
       "122                      0.064653                     0.230945  "
      ]
     },
     "execution_count": 137,
     "metadata": {},
     "output_type": "execute_result"
    }
   ],
   "source": [
    "good_wc.head()"
   ]
  },
  {
   "cell_type": "code",
   "execution_count": 138,
   "metadata": {
    "colab": {
     "base_uri": "https://localhost:8080/",
     "height": 205
    },
    "executionInfo": {
     "elapsed": 6,
     "status": "ok",
     "timestamp": 1629923005561,
     "user": {
      "displayName": "Ryan Allred",
      "photoUrl": "",
      "userId": "04031804316926795705"
     },
     "user_tz": 360
    },
    "id": "NuKHEw0Dszy1",
    "outputId": "06c78d3f-0cb7-426e-8177-c8cc9b4aa530"
   },
   "outputs": [
    {
     "data": {
      "text/html": [
       "<div>\n",
       "<style scoped>\n",
       "    .dataframe tbody tr th:only-of-type {\n",
       "        vertical-align: middle;\n",
       "    }\n",
       "\n",
       "    .dataframe tbody tr th {\n",
       "        vertical-align: top;\n",
       "    }\n",
       "\n",
       "    .dataframe thead th {\n",
       "        text-align: right;\n",
       "    }\n",
       "</style>\n",
       "<table border=\"1\" class=\"dataframe\">\n",
       "  <thead>\n",
       "    <tr style=\"text-align: right;\">\n",
       "      <th></th>\n",
       "      <th>word</th>\n",
       "      <th>appears_in_docs</th>\n",
       "      <th>count</th>\n",
       "      <th>rank</th>\n",
       "      <th>fraction_of_total</th>\n",
       "      <th>cumulative_fraction_of_total</th>\n",
       "      <th>appears_in_fraction_of_docs</th>\n",
       "    </tr>\n",
       "  </thead>\n",
       "  <tbody>\n",
       "    <tr>\n",
       "      <th>518</th>\n",
       "      <td>delicious</td>\n",
       "      <td>1178</td>\n",
       "      <td>1314</td>\n",
       "      <td>7.0</td>\n",
       "      <td>0.006122</td>\n",
       "      <td>0.077456</td>\n",
       "      <td>0.191857</td>\n",
       "    </tr>\n",
       "    <tr>\n",
       "      <th>31</th>\n",
       "      <td>definitely</td>\n",
       "      <td>891</td>\n",
       "      <td>1004</td>\n",
       "      <td>10.0</td>\n",
       "      <td>0.004678</td>\n",
       "      <td>0.092991</td>\n",
       "      <td>0.145114</td>\n",
       "    </tr>\n",
       "    <tr>\n",
       "      <th>89</th>\n",
       "      <td>sweet</td>\n",
       "      <td>699</td>\n",
       "      <td>880</td>\n",
       "      <td>13.0</td>\n",
       "      <td>0.004100</td>\n",
       "      <td>0.106004</td>\n",
       "      <td>0.113844</td>\n",
       "    </tr>\n",
       "    <tr>\n",
       "      <th>253</th>\n",
       "      <td>favorite</td>\n",
       "      <td>661</td>\n",
       "      <td>776</td>\n",
       "      <td>14.0</td>\n",
       "      <td>0.003616</td>\n",
       "      <td>0.109620</td>\n",
       "      <td>0.107655</td>\n",
       "    </tr>\n",
       "    <tr>\n",
       "      <th>153</th>\n",
       "      <td>super</td>\n",
       "      <td>673</td>\n",
       "      <td>769</td>\n",
       "      <td>15.0</td>\n",
       "      <td>0.003583</td>\n",
       "      <td>0.113203</td>\n",
       "      <td>0.109609</td>\n",
       "    </tr>\n",
       "  </tbody>\n",
       "</table>\n",
       "</div>"
      ],
      "text/plain": [
       "           word  appears_in_docs  count  rank  fraction_of_total  \\\n",
       "518   delicious             1178   1314   7.0           0.006122   \n",
       "31   definitely              891   1004  10.0           0.004678   \n",
       "89        sweet              699    880  13.0           0.004100   \n",
       "253    favorite              661    776  14.0           0.003616   \n",
       "153       super              673    769  15.0           0.003583   \n",
       "\n",
       "     cumulative_fraction_of_total  appears_in_fraction_of_docs  \n",
       "518                      0.077456                     0.191857  \n",
       "31                       0.092991                     0.145114  \n",
       "89                       0.106004                     0.113844  \n",
       "253                      0.109620                     0.107655  \n",
       "153                      0.113203                     0.109609  "
      ]
     },
     "execution_count": 138,
     "metadata": {},
     "output_type": "execute_result"
    }
   ],
   "source": [
    "df_pos_keywords_mask = good_wc.word.isin(good_key_words)\n",
    "df_pos_keywords = good_wc[df_pos_keywords_mask]\n",
    "df_pos_keywords.head()"
   ]
  },
  {
   "cell_type": "code",
   "execution_count": 140,
   "metadata": {
    "colab": {
     "base_uri": "https://localhost:8080/",
     "height": 205
    },
    "executionInfo": {
     "elapsed": 151,
     "status": "ok",
     "timestamp": 1629923006406,
     "user": {
      "displayName": "Ryan Allred",
      "photoUrl": "",
      "userId": "04031804316926795705"
     },
     "user_tz": 360
    },
    "id": "945bUvfmszy1",
    "outputId": "e3c4d346-9191-4ef6-d145-94e2f44b2f61"
   },
   "outputs": [
    {
     "data": {
      "text/html": [
       "<div>\n",
       "<style scoped>\n",
       "    .dataframe tbody tr th:only-of-type {\n",
       "        vertical-align: middle;\n",
       "    }\n",
       "\n",
       "    .dataframe tbody tr th {\n",
       "        vertical-align: top;\n",
       "    }\n",
       "\n",
       "    .dataframe thead th {\n",
       "        text-align: right;\n",
       "    }\n",
       "</style>\n",
       "<table border=\"1\" class=\"dataframe\">\n",
       "  <thead>\n",
       "    <tr style=\"text-align: right;\">\n",
       "      <th></th>\n",
       "      <th>word</th>\n",
       "      <th>appears_in_docs</th>\n",
       "      <th>count</th>\n",
       "      <th>rank</th>\n",
       "      <th>fraction_of_total</th>\n",
       "      <th>cumulative_fraction_of_total</th>\n",
       "      <th>appears_in_fraction_of_docs</th>\n",
       "    </tr>\n",
       "  </thead>\n",
       "  <tbody>\n",
       "    <tr>\n",
       "      <th>682</th>\n",
       "      <td>ask</td>\n",
       "      <td>220</td>\n",
       "      <td>324</td>\n",
       "      <td>6.0</td>\n",
       "      <td>0.005491</td>\n",
       "      <td>0.058516</td>\n",
       "      <td>0.149051</td>\n",
       "    </tr>\n",
       "    <tr>\n",
       "      <th>244</th>\n",
       "      <td>customer</td>\n",
       "      <td>185</td>\n",
       "      <td>292</td>\n",
       "      <td>7.0</td>\n",
       "      <td>0.004948</td>\n",
       "      <td>0.063465</td>\n",
       "      <td>0.125339</td>\n",
       "    </tr>\n",
       "    <tr>\n",
       "      <th>85</th>\n",
       "      <td>review</td>\n",
       "      <td>223</td>\n",
       "      <td>274</td>\n",
       "      <td>8.0</td>\n",
       "      <td>0.004643</td>\n",
       "      <td>0.068108</td>\n",
       "      <td>0.151084</td>\n",
       "    </tr>\n",
       "    <tr>\n",
       "      <th>168</th>\n",
       "      <td>wait</td>\n",
       "      <td>185</td>\n",
       "      <td>270</td>\n",
       "      <td>9.0</td>\n",
       "      <td>0.004576</td>\n",
       "      <td>0.072684</td>\n",
       "      <td>0.125339</td>\n",
       "    </tr>\n",
       "    <tr>\n",
       "      <th>20</th>\n",
       "      <td>feel</td>\n",
       "      <td>212</td>\n",
       "      <td>254</td>\n",
       "      <td>11.0</td>\n",
       "      <td>0.004304</td>\n",
       "      <td>0.081411</td>\n",
       "      <td>0.143631</td>\n",
       "    </tr>\n",
       "  </tbody>\n",
       "</table>\n",
       "</div>"
      ],
      "text/plain": [
       "         word  appears_in_docs  count  rank  fraction_of_total  \\\n",
       "682       ask              220    324   6.0           0.005491   \n",
       "244  customer              185    292   7.0           0.004948   \n",
       "85     review              223    274   8.0           0.004643   \n",
       "168      wait              185    270   9.0           0.004576   \n",
       "20       feel              212    254  11.0           0.004304   \n",
       "\n",
       "     cumulative_fraction_of_total  appears_in_fraction_of_docs  \n",
       "682                      0.058516                     0.149051  \n",
       "244                      0.063465                     0.125339  \n",
       "85                       0.068108                     0.151084  \n",
       "168                      0.072684                     0.125339  \n",
       "20                       0.081411                     0.143631  "
      ]
     },
     "execution_count": 140,
     "metadata": {},
     "output_type": "execute_result"
    }
   ],
   "source": [
    "df_neg_keywords_mask = bad_wc.word.isin(bad_key_words)\n",
    "df_neg_keywords = bad_wc[df_neg_keywords_mask]\n",
    "df_neg_keywords.head()"
   ]
  },
  {
   "cell_type": "code",
   "execution_count": 145,
   "metadata": {
    "id": "4m0c-J5p3O7_"
   },
   "outputs": [
    {
     "data": {
      "image/png": "[encoded data removed]",
      "text/plain": [
       "<Figure size 1080x432 with 1 Axes>"
      ]
     },
     "metadata": {
      "needs_background": "light"
     },
     "output_type": "display_data"
    },
    {
     "data": {
      "image/png": "[encoded data removed]",
      "text/plain": [
       "<Figure size 1080x432 with 1 Axes>"
      ]
     },
     "metadata": {
      "needs_background": "light"
     },
     "output_type": "display_data"
    }
   ],
   "source": [
    "import seaborn as sns\n",
    "\n",
    "plt.figure(figsize=(15,6))\n",
    "plt.title(\"4 and 5 star reviews: Percent of Documents that Keywords appear in\")\n",
    "sns.barplot(x=df_pos_keywords.word, y=df_pos_keywords.appears_in_fraction_of_docs, palette=\"rocket\", order=good_key_words);\n",
    "plt.ylim(0,.42)\n",
    "plt.show();\n",
    "\n",
    "plt.figure(figsize=(15,6))\n",
    "plt.title(\"1, 2, and 3 star reviews: Percent of Documents that Keywords appear in\")\n",
    "sns.barplot(x=df_neg_keywords.word, y=df_neg_keywords.appears_in_fraction_of_docs, palette=\"rocket\", order=bad_key_words);\n",
    "plt.ylim(0,.42)\n",
    "plt.show();"
   ]
  },
  {
   "cell_type": "code",
   "execution_count": null,
   "metadata": {},
   "outputs": [],
   "source": []
  }
 ],
 "metadata": {
  "colab": {
   "collapsed_sections": [],
   "name": "DS_411_Text_Data_Assignment.ipynb",
   "provenance": [
    {
     "file_id": "1UI9TRMnDxIuDedSUxH-Jq05eBynf1Vsm",
     "timestamp": 1630355286289
    },
    {
     "file_id": "14ltrJWbpaZwp8_2YVhCMlbOM_38O7Gl9",
     "timestamp": 1630004707795
    },
    {
     "file_id": "1tMoaGg3p4K4YbusPpibe0xrRk_hu98Bl",
     "timestamp": 1629918494288
    }
   ]
  },
  "kernelspec": {
   "display_name": "U4-S1-NLP (Python3)",
   "language": "python",
   "name": "u4-s1-nlp"
  },
  "language_info": {
   "codemirror_mode": {
    "name": "ipython",
    "version": 3
   },
   "file_extension": ".py",
   "mimetype": "text/x-python",
   "name": "python",
   "nbconvert_exporter": "python",
   "pygments_lexer": "ipython3",
   "version": "3.7.0"
  },
  "toc-autonumbering": false
 },
 "nbformat": 4,
 "nbformat_minor": 4
}
