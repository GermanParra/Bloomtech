{
 "cells": [
  {
   "cell_type": "markdown",
   "metadata": {
    "id": "5utTU63WzGd3"
   },
   "source": [
    "# Topic Modeling\n",
    "## *Data Science Unit 4 Sprint 1 Assignment 4*\n",
    "\n",
    "\n",
    "![](https://drive.google.com/uc?export=view&id=1Aze8Xe_ZZpV22IwFNUH09T2howHmF1AK)\n",
    "\n",
    "[Image Credit: slides from Ben Mabey](https://speakerdeck.com/bmabey/visualizing-topic-models)\n",
    "\n",
    "Apply Topic Modeling to Analyze a corpus of Amazon reviews\n",
    "\n",
    "- Load in the Amazon Review dataset\n",
    "- Clean the dataset \n",
    "- Vectorize the dataset \n",
    "- Fit a Gensim LDA topic model on Amazon Reviews\n",
    "- Select appropriate number of topics\n",
    "- Create some dope visualization of the topics\n",
    "- Write a few bullets on your findings in markdown at the end"
   ]
  },
  {
   "cell_type": "code",
   "execution_count": 5,
   "metadata": {
    "colab": {
     "base_uri": "https://localhost:8080/"
    },
    "executionInfo": {
     "elapsed": 3369,
     "status": "ok",
     "timestamp": 1633045683267,
     "user": {
      "displayName": "Joseph catanzarite",
      "photoUrl": "https://lh3.googleusercontent.com/a-/AOh14GgmMRaw8NgoEDqzevEZ6b18iOYdEH9nWTZeaFBW=s64",
      "userId": "16649206137414945374"
     },
     "user_tz": 420
    },
    "id": "X0x7DXmr8zYE",
    "outputId": "221278f8-7182-4ba9-b2b5-d1be90807add"
   },
   "outputs": [
    {
     "name": "stdout",
     "output_type": "stream",
     "text": [
      "Collecting pyLDAvis==3.3.1\n",
      "  Using cached pyLDAvis-3.3.1-py2.py3-none-any.whl\n",
      "Requirement already satisfied: numpy>=1.20.0 in c:\\users\\gparr\\anaconda3\\lib\\site-packages (from pyLDAvis==3.3.1) (1.20.1)\n",
      "Requirement already satisfied: funcy in c:\\users\\gparr\\anaconda3\\lib\\site-packages (from pyLDAvis==3.3.1) (1.17)\n",
      "Requirement already satisfied: scikit-learn in c:\\users\\gparr\\anaconda3\\lib\\site-packages (from pyLDAvis==3.3.1) (0.24.1)\n",
      "Requirement already satisfied: gensim in c:\\users\\gparr\\anaconda3\\lib\\site-packages (from pyLDAvis==3.3.1) (4.1.2)\n",
      "Requirement already satisfied: pandas>=1.2.0 in c:\\users\\gparr\\anaconda3\\lib\\site-packages (from pyLDAvis==3.3.1) (1.2.4)\n",
      "Requirement already satisfied: joblib in c:\\users\\gparr\\anaconda3\\lib\\site-packages (from pyLDAvis==3.3.1) (1.0.1)\n",
      "Requirement already satisfied: future in c:\\users\\gparr\\anaconda3\\lib\\site-packages (from pyLDAvis==3.3.1) (0.18.2)\n",
      "Requirement already satisfied: scipy in c:\\users\\gparr\\anaconda3\\lib\\site-packages (from pyLDAvis==3.3.1) (1.6.2)\n",
      "Requirement already satisfied: setuptools in c:\\users\\gparr\\anaconda3\\lib\\site-packages (from pyLDAvis==3.3.1) (52.0.0.post20210125)\n",
      "Requirement already satisfied: sklearn in c:\\users\\gparr\\anaconda3\\lib\\site-packages (from pyLDAvis==3.3.1) (0.0)\n",
      "Requirement already satisfied: jinja2 in c:\\users\\gparr\\anaconda3\\lib\\site-packages (from pyLDAvis==3.3.1) (2.11.3)\n",
      "Requirement already satisfied: numexpr in c:\\users\\gparr\\anaconda3\\lib\\site-packages (from pyLDAvis==3.3.1) (2.7.3)\n",
      "Requirement already satisfied: python-dateutil>=2.7.3 in c:\\users\\gparr\\anaconda3\\lib\\site-packages (from pandas>=1.2.0->pyLDAvis==3.3.1) (2.8.1)\n",
      "Requirement already satisfied: pytz>=2017.3 in c:\\users\\gparr\\anaconda3\\lib\\site-packages (from pandas>=1.2.0->pyLDAvis==3.3.1) (2021.1)\n",
      "Requirement already satisfied: six>=1.5 in c:\\users\\gparr\\anaconda3\\lib\\site-packages (from python-dateutil>=2.7.3->pandas>=1.2.0->pyLDAvis==3.3.1) (1.15.0)\n",
      "Requirement already satisfied: smart-open>=1.8.1 in c:\\users\\gparr\\anaconda3\\lib\\site-packages (from gensim->pyLDAvis==3.3.1) (5.2.1)\n",
      "Requirement already satisfied: Cython==0.29.23 in c:\\users\\gparr\\anaconda3\\lib\\site-packages (from gensim->pyLDAvis==3.3.1) (0.29.23)\n",
      "Requirement already satisfied: MarkupSafe>=0.23 in c:\\users\\gparr\\anaconda3\\lib\\site-packages (from jinja2->pyLDAvis==3.3.1) (1.1.1)\n",
      "Requirement already satisfied: threadpoolctl>=2.0.0 in c:\\users\\gparr\\anaconda3\\lib\\site-packages (from scikit-learn->pyLDAvis==3.3.1) (2.1.0)\n",
      "Installing collected packages: pyLDAvis\n",
      "  Attempting uninstall: pyLDAvis\n",
      "    Found existing installation: pyLDAvis 3.3.0\n",
      "    Uninstalling pyLDAvis-3.3.0:\n",
      "      Successfully uninstalled pyLDAvis-3.3.0\n",
      "Successfully installed pyLDAvis-3.3.1\n"
     ]
    }
   ],
   "source": [
    "!pip install pyLDAvis==3.3.1"
   ]
  },
  {
   "cell_type": "code",
   "execution_count": 2,
   "metadata": {
    "colab": {
     "base_uri": "https://localhost:8080/"
    },
    "executionInfo": {
     "elapsed": 3363,
     "status": "ok",
     "timestamp": 1633045690600,
     "user": {
      "displayName": "Joseph catanzarite",
      "photoUrl": "https://lh3.googleusercontent.com/a-/AOh14GgmMRaw8NgoEDqzevEZ6b18iOYdEH9nWTZeaFBW=s64",
      "userId": "16649206137414945374"
     },
     "user_tz": 420
    },
    "id": "uQGwb9xbFKIr",
    "outputId": "2d3e7e21-407d-4df4-848d-72ad80cfe178"
   },
   "outputs": [
    {
     "name": "stdout",
     "output_type": "stream",
     "text": [
      "Requirement already satisfied: pandarallel==1.4.1 in c:\\users\\gparr\\anaconda3\\lib\\site-packages (1.4.1)\n",
      "Requirement already satisfied: dill in c:\\users\\gparr\\anaconda3\\lib\\site-packages (from pandarallel==1.4.1) (0.3.4)\n"
     ]
    }
   ],
   "source": [
    "!pip install pandarallel==1.4.8"
   ]
  },
  {
   "cell_type": "code",
   "execution_count": 3,
   "metadata": {
    "colab": {
     "base_uri": "https://localhost:8080/"
    },
    "executionInfo": {
     "elapsed": 30550,
     "status": "ok",
     "timestamp": 1633045373118,
     "user": {
      "displayName": "Joseph catanzarite",
      "photoUrl": "https://lh3.googleusercontent.com/a-/AOh14GgmMRaw8NgoEDqzevEZ6b18iOYdEH9nWTZeaFBW=s64",
      "userId": "16649206137414945374"
     },
     "user_tz": 420
    },
    "id": "nUPIrjOB_-BR",
    "outputId": "e9986ed7-f2aa-4bc8-aea7-dae1876356dc"
   },
   "outputs": [],
   "source": [
    "# !python -m spacy download en_core_web_md"
   ]
  },
  {
   "cell_type": "markdown",
   "metadata": {
    "id": "isyLmOAZqYR0"
   },
   "source": [
    "## Restart runtime!"
   ]
  },
  {
   "cell_type": "code",
   "execution_count": 34,
   "metadata": {
    "colab": {
     "base_uri": "https://localhost:8080/"
    },
    "executionInfo": {
     "elapsed": 2104,
     "status": "ok",
     "timestamp": 1633045400428,
     "user": {
      "displayName": "Joseph catanzarite",
      "photoUrl": "https://lh3.googleusercontent.com/a-/AOh14GgmMRaw8NgoEDqzevEZ6b18iOYdEH9nWTZeaFBW=s64",
      "userId": "16649206137414945374"
     },
     "user_tz": 420
    },
    "id": "rXrXC0mrzGd5",
    "outputId": "7f868b3f-9038-442a-9861-743fc374bea6"
   },
   "outputs": [],
   "source": [
    "import re\n",
    "import pandas as pd\n",
    "import numpy as np\n",
    "import matplotlib.pyplot as plt\n",
    "from sklearn.feature_extraction.text import CountVectorizer, TfidfVectorizer\n",
    "\n",
    "import spacy\n",
    "spacy.util.fix_random_seed(0)\n",
    "\n",
    "import pyLDAvis\n",
    "import pyLDAvis.gensim\n",
    "\n",
    "import gensim\n",
    "import gensim.corpora as corpora\n",
    "from gensim.utils import simple_preprocess\n",
    "from gensim.models import CoherenceModel\n",
    "\n",
    "\n",
    "from pandarallel import pandarallel\n",
    "\n",
    "\n",
    "%matplotlib inline\n",
    "\n",
    "import warnings\n",
    "warnings.filterwarnings(\"ignore\")\n",
    "\n"
   ]
  },
  {
   "cell_type": "markdown",
   "metadata": {
    "id": "x9ph4ZzpzGd6"
   },
   "source": [
    "----\n",
    "### Load the Amazon Review corpus \n",
    "This dataset is located in the Sprint 1 Module 1 `/data` directory. \n",
    "\n",
    "If the provided relative path doesn't work for you, then you'll have to provide the file path so pandas can read in the file."
   ]
  },
  {
   "cell_type": "code",
   "execution_count": 10,
   "metadata": {
    "colab": {
     "base_uri": "https://localhost:8080/"
    },
    "executionInfo": {
     "elapsed": 5495,
     "status": "ok",
     "timestamp": 1633042539341,
     "user": {
      "displayName": "Joseph catanzarite",
      "photoUrl": "https://lh3.googleusercontent.com/a-/AOh14GgmMRaw8NgoEDqzevEZ6b18iOYdEH9nWTZeaFBW=s64",
      "userId": "16649206137414945374"
     },
     "user_tz": 420
    },
    "id": "c_L4bKk_4E84",
    "outputId": "2fd99623-3d8e-4deb-a76c-764e31fbe41c"
   },
   "outputs": [],
   "source": [
    "# # A \"brute force\" way to get the Amazon reviews dataset; just clone the Sprint 1 repo!\n",
    "# # Overkill, but it does the job!\n",
    "# !git clone https://github.com/LambdaSchool/DS-Unit-4-Sprint-1-NLP.git"
   ]
  },
  {
   "cell_type": "code",
   "execution_count": 11,
   "metadata": {
    "colab": {
     "base_uri": "https://localhost:8080/"
    },
    "executionInfo": {
     "elapsed": 85499,
     "status": "ok",
     "timestamp": 1630270078408,
     "user": {
      "displayName": "Joseph catanzarite",
      "photoUrl": "https://lh3.googleusercontent.com/a-/AOh14GgmMRaw8NgoEDqzevEZ6b18iOYdEH9nWTZeaFBW=s64",
      "userId": "16649206137414945374"
     },
     "user_tz": 420
    },
    "id": "7__zXIF_504B",
    "outputId": "f6c28e5f-7a2b-4687-9aad-534ebefbc360"
   },
   "outputs": [],
   "source": [
    "# !unzip '/content/DS-Unit-4-Sprint-1-NLP/module1-text-data/data/Datafiniti_Amazon_Consumer_Reviews_of_Amazon_Products_May19.csv.zip'"
   ]
  },
  {
   "cell_type": "code",
   "execution_count": 15,
   "metadata": {
    "id": "Ov482n4pzGd6"
   },
   "outputs": [],
   "source": [
    "data_path = \"Datafiniti_Amazon_Consumer_Reviews_of_Amazon_Products_May19.csv\"\n",
    "df = pd.read_csv(data_path)"
   ]
  },
  {
   "cell_type": "code",
   "execution_count": 16,
   "metadata": {
    "colab": {
     "base_uri": "https://localhost:8080/",
     "height": 271
    },
    "executionInfo": {
     "elapsed": 129,
     "status": "ok",
     "timestamp": 1630270167063,
     "user": {
      "displayName": "Joseph catanzarite",
      "photoUrl": "https://lh3.googleusercontent.com/a-/AOh14GgmMRaw8NgoEDqzevEZ6b18iOYdEH9nWTZeaFBW=s64",
      "userId": "16649206137414945374"
     },
     "user_tz": 420
    },
    "id": "-yZZEwZNzGd7",
    "outputId": "8e9b4d24-867c-4043-9f78-4df1548748be"
   },
   "outputs": [
    {
     "data": {
      "text/html": [
       "<div>\n",
       "<style scoped>\n",
       "    .dataframe tbody tr th:only-of-type {\n",
       "        vertical-align: middle;\n",
       "    }\n",
       "\n",
       "    .dataframe tbody tr th {\n",
       "        vertical-align: top;\n",
       "    }\n",
       "\n",
       "    .dataframe thead th {\n",
       "        text-align: right;\n",
       "    }\n",
       "</style>\n",
       "<table border=\"1\" class=\"dataframe\">\n",
       "  <thead>\n",
       "    <tr style=\"text-align: right;\">\n",
       "      <th></th>\n",
       "      <th>id</th>\n",
       "      <th>dateAdded</th>\n",
       "      <th>dateUpdated</th>\n",
       "      <th>name</th>\n",
       "      <th>asins</th>\n",
       "      <th>brand</th>\n",
       "      <th>categories</th>\n",
       "      <th>primaryCategories</th>\n",
       "      <th>imageURLs</th>\n",
       "      <th>keys</th>\n",
       "      <th>...</th>\n",
       "      <th>reviews.didPurchase</th>\n",
       "      <th>reviews.doRecommend</th>\n",
       "      <th>reviews.id</th>\n",
       "      <th>reviews.numHelpful</th>\n",
       "      <th>reviews.rating</th>\n",
       "      <th>reviews.sourceURLs</th>\n",
       "      <th>reviews.text</th>\n",
       "      <th>reviews.title</th>\n",
       "      <th>reviews.username</th>\n",
       "      <th>sourceURLs</th>\n",
       "    </tr>\n",
       "  </thead>\n",
       "  <tbody>\n",
       "    <tr>\n",
       "      <th>0</th>\n",
       "      <td>AVpgNzjwLJeJML43Kpxn</td>\n",
       "      <td>2015-10-30T08:59:32Z</td>\n",
       "      <td>2019-04-25T09:08:16Z</td>\n",
       "      <td>AmazonBasics AAA Performance Alkaline Batterie...</td>\n",
       "      <td>B00QWO9P0O,B00LH3DMUO</td>\n",
       "      <td>Amazonbasics</td>\n",
       "      <td>AA,AAA,Health,Electronics,Health &amp; Household,C...</td>\n",
       "      <td>Health &amp; Beauty</td>\n",
       "      <td>https://images-na.ssl-images-amazon.com/images...</td>\n",
       "      <td>amazonbasics/hl002619,amazonbasicsaaaperforman...</td>\n",
       "      <td>...</td>\n",
       "      <td>NaN</td>\n",
       "      <td>NaN</td>\n",
       "      <td>NaN</td>\n",
       "      <td>NaN</td>\n",
       "      <td>3</td>\n",
       "      <td>https://www.amazon.com/product-reviews/B00QWO9...</td>\n",
       "      <td>I order 3 of them and one of the item is bad q...</td>\n",
       "      <td>... 3 of them and one of the item is bad quali...</td>\n",
       "      <td>Byger yang</td>\n",
       "      <td>https://www.barcodable.com/upc/841710106442,ht...</td>\n",
       "    </tr>\n",
       "    <tr>\n",
       "      <th>1</th>\n",
       "      <td>AVpgNzjwLJeJML43Kpxn</td>\n",
       "      <td>2015-10-30T08:59:32Z</td>\n",
       "      <td>2019-04-25T09:08:16Z</td>\n",
       "      <td>AmazonBasics AAA Performance Alkaline Batterie...</td>\n",
       "      <td>B00QWO9P0O,B00LH3DMUO</td>\n",
       "      <td>Amazonbasics</td>\n",
       "      <td>AA,AAA,Health,Electronics,Health &amp; Household,C...</td>\n",
       "      <td>Health &amp; Beauty</td>\n",
       "      <td>https://images-na.ssl-images-amazon.com/images...</td>\n",
       "      <td>amazonbasics/hl002619,amazonbasicsaaaperforman...</td>\n",
       "      <td>...</td>\n",
       "      <td>NaN</td>\n",
       "      <td>NaN</td>\n",
       "      <td>NaN</td>\n",
       "      <td>NaN</td>\n",
       "      <td>4</td>\n",
       "      <td>https://www.amazon.com/product-reviews/B00QWO9...</td>\n",
       "      <td>Bulk is always the less expensive way to go fo...</td>\n",
       "      <td>... always the less expensive way to go for pr...</td>\n",
       "      <td>ByMG</td>\n",
       "      <td>https://www.barcodable.com/upc/841710106442,ht...</td>\n",
       "    </tr>\n",
       "  </tbody>\n",
       "</table>\n",
       "<p>2 rows × 24 columns</p>\n",
       "</div>"
      ],
      "text/plain": [
       "                     id             dateAdded           dateUpdated  \\\n",
       "0  AVpgNzjwLJeJML43Kpxn  2015-10-30T08:59:32Z  2019-04-25T09:08:16Z   \n",
       "1  AVpgNzjwLJeJML43Kpxn  2015-10-30T08:59:32Z  2019-04-25T09:08:16Z   \n",
       "\n",
       "                                                name                  asins  \\\n",
       "0  AmazonBasics AAA Performance Alkaline Batterie...  B00QWO9P0O,B00LH3DMUO   \n",
       "1  AmazonBasics AAA Performance Alkaline Batterie...  B00QWO9P0O,B00LH3DMUO   \n",
       "\n",
       "          brand                                         categories  \\\n",
       "0  Amazonbasics  AA,AAA,Health,Electronics,Health & Household,C...   \n",
       "1  Amazonbasics  AA,AAA,Health,Electronics,Health & Household,C...   \n",
       "\n",
       "  primaryCategories                                          imageURLs  \\\n",
       "0   Health & Beauty  https://images-na.ssl-images-amazon.com/images...   \n",
       "1   Health & Beauty  https://images-na.ssl-images-amazon.com/images...   \n",
       "\n",
       "                                                keys  ... reviews.didPurchase  \\\n",
       "0  amazonbasics/hl002619,amazonbasicsaaaperforman...  ...                 NaN   \n",
       "1  amazonbasics/hl002619,amazonbasicsaaaperforman...  ...                 NaN   \n",
       "\n",
       "  reviews.doRecommend reviews.id reviews.numHelpful reviews.rating  \\\n",
       "0                 NaN        NaN                NaN              3   \n",
       "1                 NaN        NaN                NaN              4   \n",
       "\n",
       "                                  reviews.sourceURLs  \\\n",
       "0  https://www.amazon.com/product-reviews/B00QWO9...   \n",
       "1  https://www.amazon.com/product-reviews/B00QWO9...   \n",
       "\n",
       "                                        reviews.text  \\\n",
       "0  I order 3 of them and one of the item is bad q...   \n",
       "1  Bulk is always the less expensive way to go fo...   \n",
       "\n",
       "                                       reviews.title  reviews.username  \\\n",
       "0  ... 3 of them and one of the item is bad quali...        Byger yang   \n",
       "1  ... always the less expensive way to go for pr...              ByMG   \n",
       "\n",
       "                                          sourceURLs  \n",
       "0  https://www.barcodable.com/upc/841710106442,ht...  \n",
       "1  https://www.barcodable.com/upc/841710106442,ht...  \n",
       "\n",
       "[2 rows x 24 columns]"
      ]
     },
     "execution_count": 16,
     "metadata": {},
     "output_type": "execute_result"
    }
   ],
   "source": [
    "df.head(2)"
   ]
  },
  {
   "cell_type": "markdown",
   "metadata": {
    "id": "kdwr6x8PzGd7"
   },
   "source": [
    "----\n",
    "\n",
    "### Clean data\n",
    "\n",
    "- Create a function called `clean_data` that uses regex expressions to clean your data in preparation for the vectorizer. \n",
    "\n",
    "- Save the clean text data to a column in your dataframe named `clean_text`\n",
    "\n",
    "- Feel free to re-use old code that you have written in previous modules  "
   ]
  },
  {
   "cell_type": "code",
   "execution_count": 17,
   "metadata": {
    "colab": {
     "base_uri": "https://localhost:8080/"
    },
    "executionInfo": {
     "elapsed": 123,
     "status": "ok",
     "timestamp": 1630270170899,
     "user": {
      "displayName": "Joseph catanzarite",
      "photoUrl": "https://lh3.googleusercontent.com/a-/AOh14GgmMRaw8NgoEDqzevEZ6b18iOYdEH9nWTZeaFBW=s64",
      "userId": "16649206137414945374"
     },
     "user_tz": 420
    },
    "id": "g5cL1Amq8iT_",
    "outputId": "5e1e4f93-dccc-4f41-fea4-03c0bd421965"
   },
   "outputs": [
    {
     "data": {
      "text/plain": [
       "(28332, 24)"
      ]
     },
     "execution_count": 17,
     "metadata": {},
     "output_type": "execute_result"
    }
   ],
   "source": [
    "df.shape"
   ]
  },
  {
   "cell_type": "code",
   "execution_count": 19,
   "metadata": {
    "colab": {
     "base_uri": "https://localhost:8080/",
     "height": 36
    },
    "executionInfo": {
     "elapsed": 132,
     "status": "ok",
     "timestamp": 1630270172642,
     "user": {
      "displayName": "Joseph catanzarite",
      "photoUrl": "https://lh3.googleusercontent.com/a-/AOh14GgmMRaw8NgoEDqzevEZ6b18iOYdEH9nWTZeaFBW=s64",
      "userId": "16649206137414945374"
     },
     "user_tz": 420
    },
    "id": "dgW6kglx8T_l",
    "outputId": "cd6a2c7d-62e6-46c6-b999-57c07438db84"
   },
   "outputs": [
    {
     "data": {
      "text/plain": [
       "\"Bought a lot of batteries for Christmas and the AmazonBasics Cell have been good. I haven't noticed a difference between the brand name batteries and the Amazon Basic brand. Just a lot easier to purchase and have arrive at the house and have on hand. Will buy again.\""
      ]
     },
     "execution_count": 19,
     "metadata": {},
     "output_type": "execute_result"
    }
   ],
   "source": [
    "df['reviews.text'][5]"
   ]
  },
  {
   "cell_type": "code",
   "execution_count": 26,
   "metadata": {
    "deletable": false,
    "id": "4xo_hkHKzGd7",
    "nbgrader": {
     "cell_type": "code",
     "checksum": "a2513c0ebd04cf8645fe0a1feb1e1a36",
     "grade": false,
     "grade_id": "cell-fa0950cfe5ef7725",
     "locked": false,
     "schema_version": 3,
     "solution": true,
     "task": false
    }
   },
   "outputs": [],
   "source": [
    "def clean_data(text):\n",
    "    \"\"\"\n",
    "    Cleans data to remove unwanted characters and punctuation.\n",
    "    \"\"\"\n",
    "    # order of operations - apply the expression from top to bottom\n",
    "    date_regex = r\"\\d+/\\d+/\\d+\"\n",
    "    punct_regex = r\"[^0-9a-zA-Z\\s]\" # any non-alphanumeric chars\n",
    "    special_chars_regex = r\"[\\$\\%\\&\\@+]\" \n",
    "    numerical_regex =  r\"\\d\"  # match one or more digits\n",
    "    \n",
    "    # Replace any strings matching the above regex patterns with blank strings\n",
    "    # (effectively removing them from the text)\n",
    "    text = re.sub(date_regex, \"\", text)\n",
    "    text = re.sub(special_chars_regex, \"\", text)\n",
    "    text = re.sub(numerical_regex, \"\", text)\n",
    "    text = re.sub(punct_regex, \"\", text)\n",
    "\n",
    "    # match one or more whitespace chars\n",
    "    whitespace_regex = r\"\\s+\" \n",
    "    # replace one or more whitespace characters with a single white space char\n",
    "    #    not a blank string!\n",
    "    text = re.sub(whitespace_regex, \" \", text)\n",
    "\n",
    "\n",
    "    # apply case normalization\n",
    "    text = text.lower().strip()\n",
    "    \n",
    "    return text\n",
    " # YOUR CODE HERE\n"
   ]
  },
  {
   "cell_type": "code",
   "execution_count": 27,
   "metadata": {
    "deletable": false,
    "id": "H693L3fJzGd8",
    "nbgrader": {
     "cell_type": "code",
     "checksum": "a6ceefe5476e71efcb3d36c3e203616f",
     "grade": false,
     "grade_id": "cell-5b8e2bc0f9a745f3",
     "locked": false,
     "schema_version": 3,
     "solution": true,
     "task": false
    }
   },
   "outputs": [],
   "source": [
    "# create a clean_text column by applying  clean_data to your text\n",
    "df['clean_text'] = df['reviews.text'].apply(clean_data)"
   ]
  },
  {
   "cell_type": "code",
   "execution_count": 29,
   "metadata": {},
   "outputs": [
    {
     "data": {
      "text/plain": [
       "'bought a lot of batteries for christmas and the amazonbasics cell have been good i havent noticed a difference between the brand name batteries and the amazon basic brand just a lot easier to purchase and have arrive at the house and have on hand will buy again'"
      ]
     },
     "execution_count": 29,
     "metadata": {},
     "output_type": "execute_result"
    }
   ],
   "source": [
    "df['clean_text'][5]"
   ]
  },
  {
   "cell_type": "code",
   "execution_count": 30,
   "metadata": {
    "id": "5FMvAhkBzGd8"
   },
   "outputs": [],
   "source": [
    "alphebetical_chars = [\"ABCDEFGHIJKLMNOP\"]\n",
    "# check if any of these alphabetical chars exist in your clean chars\n",
    "assert df.clean_text.isin(alphebetical_chars).sum() == 0, \"Did you case normalize your text inside of your clean_data function?\""
   ]
  },
  {
   "cell_type": "markdown",
   "metadata": {
    "id": "kzqt1ainzGd8"
   },
   "source": [
    "------\n",
    "\n",
    "## Determine number of topics\n",
    "\n",
    "We are going to run an experiment to determine how many topics exists within the `primaryCategories` of `Electronics`. This is the largest primary category containing nearly 14K documents, so we should have plenty of data. \n",
    "\n",
    "Just as we did in the guided project, we'll be running a gridseach over the number of topics and scoring each model using the Coherence metric to determine which number of topics we should use. \n"
   ]
  },
  {
   "cell_type": "code",
   "execution_count": 31,
   "metadata": {
    "id": "3jrHewGbzGd9"
   },
   "outputs": [],
   "source": [
    "# create a mask for docs that are in the Electronics primaryCategories - save result to `electronics_mask`\n",
    "electronics_mask = df.primaryCategories.isin([\"Electronics\"])\n",
    "\n",
    "# use mask to select all the documents in the Electronics primaryCategories - save result to `df_electronics`\n",
    "df_electronics = df[electronics_mask]"
   ]
  },
  {
   "cell_type": "code",
   "execution_count": 32,
   "metadata": {
    "colab": {
     "base_uri": "https://localhost:8080/",
     "height": 372
    },
    "executionInfo": {
     "elapsed": 210,
     "status": "ok",
     "timestamp": 1630270183672,
     "user": {
      "displayName": "Joseph catanzarite",
      "photoUrl": "https://lh3.googleusercontent.com/a-/AOh14GgmMRaw8NgoEDqzevEZ6b18iOYdEH9nWTZeaFBW=s64",
      "userId": "16649206137414945374"
     },
     "user_tz": 420
    },
    "id": "peb18zW3zGd9",
    "outputId": "a3978c32-5d74-4361-e642-76dc927f65e9"
   },
   "outputs": [
    {
     "data": {
      "text/html": [
       "<div>\n",
       "<style scoped>\n",
       "    .dataframe tbody tr th:only-of-type {\n",
       "        vertical-align: middle;\n",
       "    }\n",
       "\n",
       "    .dataframe tbody tr th {\n",
       "        vertical-align: top;\n",
       "    }\n",
       "\n",
       "    .dataframe thead th {\n",
       "        text-align: right;\n",
       "    }\n",
       "</style>\n",
       "<table border=\"1\" class=\"dataframe\">\n",
       "  <thead>\n",
       "    <tr style=\"text-align: right;\">\n",
       "      <th></th>\n",
       "      <th>id</th>\n",
       "      <th>dateAdded</th>\n",
       "      <th>dateUpdated</th>\n",
       "      <th>name</th>\n",
       "      <th>asins</th>\n",
       "      <th>brand</th>\n",
       "      <th>categories</th>\n",
       "      <th>primaryCategories</th>\n",
       "      <th>imageURLs</th>\n",
       "      <th>keys</th>\n",
       "      <th>...</th>\n",
       "      <th>reviews.doRecommend</th>\n",
       "      <th>reviews.id</th>\n",
       "      <th>reviews.numHelpful</th>\n",
       "      <th>reviews.rating</th>\n",
       "      <th>reviews.sourceURLs</th>\n",
       "      <th>reviews.text</th>\n",
       "      <th>reviews.title</th>\n",
       "      <th>reviews.username</th>\n",
       "      <th>sourceURLs</th>\n",
       "      <th>clean_text</th>\n",
       "    </tr>\n",
       "  </thead>\n",
       "  <tbody>\n",
       "    <tr>\n",
       "      <th>8343</th>\n",
       "      <td>AVpe7nGV1cnluZ0-aG2o</td>\n",
       "      <td>2014-10-28T11:14:38Z</td>\n",
       "      <td>2019-04-25T09:05:28Z</td>\n",
       "      <td>AmazonBasics Nylon CD/DVD Binder (400 Capacity)</td>\n",
       "      <td>B00DIHVMEA,B00EZ1ZTV0</td>\n",
       "      <td>Amazonbasics</td>\n",
       "      <td>Audio &amp; Video Accessories,TV, Video &amp; Home Aud...</td>\n",
       "      <td>Electronics</td>\n",
       "      <td>http://ecx.images-amazon.com/images/I/41jQha7Z...</td>\n",
       "      <td>amazonbasicsnyloncddvdbinder400capacity/b00ez1...</td>\n",
       "      <td>...</td>\n",
       "      <td>NaN</td>\n",
       "      <td>NaN</td>\n",
       "      <td>NaN</td>\n",
       "      <td>5</td>\n",
       "      <td>https://www.ebay.com/itm/Amazonbasics-Nylon-Cd...</td>\n",
       "      <td>Great case to keep everything in its place! My...</td>\n",
       "      <td>Excellent product</td>\n",
       "      <td>qs341_5</td>\n",
       "      <td>https://www.ebay.com/itm/AmazonBasics-Nylon-CD...</td>\n",
       "      <td>great case to keep everything in its place my ...</td>\n",
       "    </tr>\n",
       "    <tr>\n",
       "      <th>8344</th>\n",
       "      <td>AVpe7nGV1cnluZ0-aG2o</td>\n",
       "      <td>2014-10-28T11:14:38Z</td>\n",
       "      <td>2019-04-25T09:05:28Z</td>\n",
       "      <td>AmazonBasics Nylon CD/DVD Binder (400 Capacity)</td>\n",
       "      <td>B00DIHVMEA,B00EZ1ZTV0</td>\n",
       "      <td>Amazonbasics</td>\n",
       "      <td>Audio &amp; Video Accessories,TV, Video &amp; Home Aud...</td>\n",
       "      <td>Electronics</td>\n",
       "      <td>http://ecx.images-amazon.com/images/I/41jQha7Z...</td>\n",
       "      <td>amazonbasicsnyloncddvdbinder400capacity/b00ez1...</td>\n",
       "      <td>...</td>\n",
       "      <td>NaN</td>\n",
       "      <td>NaN</td>\n",
       "      <td>NaN</td>\n",
       "      <td>5</td>\n",
       "      <td>http://www.amazon.co.uk/gp/product-reviews/B00...</td>\n",
       "      <td>After discarding and getting rid of broken cd ...</td>\n",
       "      <td>It was a much needed storage</td>\n",
       "      <td>Diablita</td>\n",
       "      <td>https://www.ebay.com/itm/AmazonBasics-Nylon-CD...</td>\n",
       "      <td>after discarding and getting rid of broken cd ...</td>\n",
       "    </tr>\n",
       "    <tr>\n",
       "      <th>8345</th>\n",
       "      <td>AVpe7nGV1cnluZ0-aG2o</td>\n",
       "      <td>2014-10-28T11:14:38Z</td>\n",
       "      <td>2019-04-25T09:05:28Z</td>\n",
       "      <td>AmazonBasics Nylon CD/DVD Binder (400 Capacity)</td>\n",
       "      <td>B00DIHVMEA,B00EZ1ZTV0</td>\n",
       "      <td>Amazonbasics</td>\n",
       "      <td>Audio &amp; Video Accessories,TV, Video &amp; Home Aud...</td>\n",
       "      <td>Electronics</td>\n",
       "      <td>http://ecx.images-amazon.com/images/I/41jQha7Z...</td>\n",
       "      <td>amazonbasicsnyloncddvdbinder400capacity/b00ez1...</td>\n",
       "      <td>...</td>\n",
       "      <td>NaN</td>\n",
       "      <td>NaN</td>\n",
       "      <td>NaN</td>\n",
       "      <td>5</td>\n",
       "      <td>https://www.ebay.com/itm/Amazonbasics-Nylon-Cd...</td>\n",
       "      <td>A few dollars more, but I am boycotting amazon</td>\n",
       "      <td>it was worth it</td>\n",
       "      <td>coldbloodblazing</td>\n",
       "      <td>https://www.ebay.com/itm/AmazonBasics-Nylon-CD...</td>\n",
       "      <td>a few dollars more but i am boycotting amazon</td>\n",
       "    </tr>\n",
       "  </tbody>\n",
       "</table>\n",
       "<p>3 rows × 25 columns</p>\n",
       "</div>"
      ],
      "text/plain": [
       "                        id             dateAdded           dateUpdated  \\\n",
       "8343  AVpe7nGV1cnluZ0-aG2o  2014-10-28T11:14:38Z  2019-04-25T09:05:28Z   \n",
       "8344  AVpe7nGV1cnluZ0-aG2o  2014-10-28T11:14:38Z  2019-04-25T09:05:28Z   \n",
       "8345  AVpe7nGV1cnluZ0-aG2o  2014-10-28T11:14:38Z  2019-04-25T09:05:28Z   \n",
       "\n",
       "                                                 name                  asins  \\\n",
       "8343  AmazonBasics Nylon CD/DVD Binder (400 Capacity)  B00DIHVMEA,B00EZ1ZTV0   \n",
       "8344  AmazonBasics Nylon CD/DVD Binder (400 Capacity)  B00DIHVMEA,B00EZ1ZTV0   \n",
       "8345  AmazonBasics Nylon CD/DVD Binder (400 Capacity)  B00DIHVMEA,B00EZ1ZTV0   \n",
       "\n",
       "             brand                                         categories  \\\n",
       "8343  Amazonbasics  Audio & Video Accessories,TV, Video & Home Aud...   \n",
       "8344  Amazonbasics  Audio & Video Accessories,TV, Video & Home Aud...   \n",
       "8345  Amazonbasics  Audio & Video Accessories,TV, Video & Home Aud...   \n",
       "\n",
       "     primaryCategories                                          imageURLs  \\\n",
       "8343       Electronics  http://ecx.images-amazon.com/images/I/41jQha7Z...   \n",
       "8344       Electronics  http://ecx.images-amazon.com/images/I/41jQha7Z...   \n",
       "8345       Electronics  http://ecx.images-amazon.com/images/I/41jQha7Z...   \n",
       "\n",
       "                                                   keys  ...  \\\n",
       "8343  amazonbasicsnyloncddvdbinder400capacity/b00ez1...  ...   \n",
       "8344  amazonbasicsnyloncddvdbinder400capacity/b00ez1...  ...   \n",
       "8345  amazonbasicsnyloncddvdbinder400capacity/b00ez1...  ...   \n",
       "\n",
       "     reviews.doRecommend reviews.id reviews.numHelpful reviews.rating  \\\n",
       "8343                 NaN        NaN                NaN              5   \n",
       "8344                 NaN        NaN                NaN              5   \n",
       "8345                 NaN        NaN                NaN              5   \n",
       "\n",
       "                                     reviews.sourceURLs  \\\n",
       "8343  https://www.ebay.com/itm/Amazonbasics-Nylon-Cd...   \n",
       "8344  http://www.amazon.co.uk/gp/product-reviews/B00...   \n",
       "8345  https://www.ebay.com/itm/Amazonbasics-Nylon-Cd...   \n",
       "\n",
       "                                           reviews.text  \\\n",
       "8343  Great case to keep everything in its place! My...   \n",
       "8344  After discarding and getting rid of broken cd ...   \n",
       "8345     A few dollars more, but I am boycotting amazon   \n",
       "\n",
       "                     reviews.title  reviews.username  \\\n",
       "8343             Excellent product           qs341_5   \n",
       "8344  It was a much needed storage          Diablita   \n",
       "8345               it was worth it  coldbloodblazing   \n",
       "\n",
       "                                             sourceURLs  \\\n",
       "8343  https://www.ebay.com/itm/AmazonBasics-Nylon-CD...   \n",
       "8344  https://www.ebay.com/itm/AmazonBasics-Nylon-CD...   \n",
       "8345  https://www.ebay.com/itm/AmazonBasics-Nylon-CD...   \n",
       "\n",
       "                                             clean_text  \n",
       "8343  great case to keep everything in its place my ...  \n",
       "8344  after discarding and getting rid of broken cd ...  \n",
       "8345      a few dollars more but i am boycotting amazon  \n",
       "\n",
       "[3 rows x 25 columns]"
      ]
     },
     "execution_count": 32,
     "metadata": {},
     "output_type": "execute_result"
    }
   ],
   "source": [
    "df_electronics.head(3)"
   ]
  },
  {
   "cell_type": "markdown",
   "metadata": {
    "id": "FfZWF0I9zGd-"
   },
   "source": [
    "------\n",
    "### Tokenize your documents \n",
    "\n",
    "Remember that you'll need to use the [**corpora**](https://radimrehurek.com/gensim/corpora/dictionary.html) class from the Gensim library. So definitely check out the docs to learn more about this tool. There is an example on how to do this in the guided project.\n",
    "\n",
    "But before we can use the [**corpora**](https://radimrehurek.com/gensim/corpora/dictionary.html) class, we must first tokenize our articles. \n",
    "\n"
   ]
  },
  {
   "cell_type": "code",
   "execution_count": 40,
   "metadata": {
    "id": "2rAMfVfB1PS-"
   },
   "outputs": [
    {
     "name": "stdout",
     "output_type": "stream",
     "text": [
      "INFO: Pandarallel will run on 10 workers.\n",
      "INFO: Pandarallel will use standard multiprocessing data transfer (pipe) to transfer data between the main process and workers.\n"
     ]
    }
   ],
   "source": [
    "# identify how many processors your machine has - save the result to `n_processors`\n",
    "\n",
    "# subtract 1 from n_processors - save the result to `nb_workers`\n",
    "\n",
    "# initialize just like we did in the guided project\n",
    "# YOUR CODE HERE\n",
    "pandarallel.initialize(progress_bar=True, nb_workers=10)\n",
    "# so that the progress bars will work\n",
    "from pandarallel.utils import progress_bars\n",
    "progress_bars.is_notebook_lab = lambda : True"
   ]
  },
  {
   "cell_type": "code",
   "execution_count": 41,
   "metadata": {
    "id": "t6pNnk3vzGd-"
   },
   "outputs": [],
   "source": [
    "# load in the spaCy language model\n",
    "nlp = spacy.load(\"en_core_web_lg\")"
   ]
  },
  {
   "cell_type": "code",
   "execution_count": 47,
   "metadata": {},
   "outputs": [
    {
     "name": "stdout",
     "output_type": "stream",
     "text": [
      "['great', 'case', 'to', 'keep', 'everything', 'in', '-PRON-', 'place', '-PRON-', 'husband', 'love', '-PRON-', 'hold', 'a', 'lot', 'of', 'cd']\n"
     ]
    }
   ],
   "source": [
    "print([token.lemma_ for token in nlp(df_electronics['clean_text'][8343])])"
   ]
  },
  {
   "cell_type": "code",
   "execution_count": 48,
   "metadata": {
    "id": "05x-KJPIBQa2"
   },
   "outputs": [
    {
     "name": "stdout",
     "output_type": "stream",
     "text": [
      "Wall time: 2min\n"
     ]
    }
   ],
   "source": [
    "%%time\n",
    "# create our tokens in the form of lemmas \n",
    "df_electronics['lemmas'] = df_electronics['clean_text'].apply(lambda x: [token.lemma_ for token in nlp(x) if (token.is_stop != True) and (token.is_punct != True)])"
   ]
  },
  {
   "cell_type": "code",
   "execution_count": 60,
   "metadata": {},
   "outputs": [
    {
     "data": {
      "text/plain": [
       "['case', 'cd', 'great', 'hold', 'husband', 'lot', 'lot', 'love', 'place']"
      ]
     },
     "execution_count": 60,
     "metadata": {},
     "output_type": "execute_result"
    }
   ],
   "source": [
    "sorted(df_electronics['lemmas'][8343] + ['lot'])"
   ]
  },
  {
   "cell_type": "markdown",
   "metadata": {
    "id": "WS7vTVqnzGd_"
   },
   "source": [
    "### Use the corpora class to prep your data for LDA\n",
    "\n",
    "You'll need to create the same `id2word` and `corpus` objects that we created in the guided projects. So be sure to reference the guided project notebook if you need to. "
   ]
  },
  {
   "cell_type": "code",
   "execution_count": 61,
   "metadata": {
    "deletable": false,
    "id": "7paL9zS7zGd_",
    "nbgrader": {
     "cell_type": "code",
     "checksum": "53bf811aebb39e7ed6fc592851f82f8b",
     "grade": false,
     "grade_id": "cell-9d92f28649aa999e",
     "locked": false,
     "schema_version": 3,
     "solution": true,
     "task": false
    }
   },
   "outputs": [],
   "source": [
    "# Create lemma dictionary using Dictionary - save result to `id2word`\n",
    "id2word = corpora.Dictionary(df_electronics['lemmas'] )\n",
    "\n",
    "# Create Term Document Frequency list - save result to `corpus`\n",
    "corpus =  [id2word.doc2bow(doc_lemmas) for doc_lemmas in df_electronics['lemmas']]\n",
    "\n",
    "# YOUR CODE HERE\n"
   ]
  },
  {
   "cell_type": "code",
   "execution_count": 59,
   "metadata": {},
   "outputs": [
    {
     "data": {
      "text/plain": [
       "[(0, 1), (1, 1), (2, 1), (3, 1), (4, 1), (5, 2), (6, 1), (7, 1)]"
      ]
     },
     "execution_count": 59,
     "metadata": {},
     "output_type": "execute_result"
    }
   ],
   "source": [
    "id2word.doc2bow(['great', 'case', 'place', 'husband', 'love', 'hold', 'lot', 'cd', 'lot'])"
   ]
  },
  {
   "cell_type": "markdown",
   "metadata": {
    "id": "vtmHceiazGd_"
   },
   "source": [
    "## Gridsearch the number of topics \n",
    "\n",
    "Just as we did in the guided project, we're going to run a `for` loop over a range of possible number of topics and then plot the `coherence_values` to determine which number of topics leads to the most sensible grouping of documents. "
   ]
  },
  {
   "cell_type": "code",
   "execution_count": 62,
   "metadata": {
    "id": "FBICFYD4zGeA"
   },
   "outputs": [],
   "source": [
    "def compute_coherence_values(dictionary, corpus, texts, limit, start=2, step=3):\n",
    "    \"\"\"\n",
    "    Compute c_v coherence for various number of topics\n",
    "\n",
    "    Parameters:\n",
    "    ----------\n",
    "    dictionary : Gensim dictionary\n",
    "    corpus : Gensim corpus\n",
    "    texts : List of input texts\n",
    "    limit : Max num of topics\n",
    "\n",
    "    Returns:\n",
    "    -------\n",
    "    model_list : List of LDA topic models\n",
    "    coherence_values : Coherence values corresponding to the LDA model with respective number of topics\n",
    "    \"\"\"\n",
    "    coherence_values = []\n",
    "    model_list = []\n",
    "    for num_topics in range(start, limit, step):\n",
    "        model = gensim.models.ldamulticore.LdaMulticore(corpus=corpus,\n",
    "                                                        id2word=id2word,\n",
    "                                                        num_topics=num_topics, \n",
    "                                                        chunksize=100,\n",
    "                                                        passes=10,\n",
    "                                                        random_state=1234,\n",
    "                                                        per_word_topics=True,\n",
    "                                                        workers=2)\n",
    "        model_list.append(model)\n",
    "        coherencemodel = CoherenceModel(model=model, texts=texts, dictionary=dictionary, coherence='c_v')\n",
    "        coherence_values.append(coherencemodel.get_coherence())\n",
    "\n",
    "    return model_list, coherence_values"
   ]
  },
  {
   "cell_type": "code",
   "execution_count": 63,
   "metadata": {
    "id": "Nn20KdDl2HUR"
   },
   "outputs": [
    {
     "name": "stdout",
     "output_type": "stream",
     "text": [
      "Wall time: 3min 24s\n"
     ]
    }
   ],
   "source": [
    "%%time\n",
    "model_list, coherence_values = compute_coherence_values(dictionary=id2word, corpus=corpus, texts=df_electronics['lemmas'], start=2, limit=16, step=2)"
   ]
  },
  {
   "cell_type": "code",
   "execution_count": 69,
   "metadata": {
    "id": "k2kJsVLt2P5-"
   },
   "outputs": [
    {
     "data": {
      "image/png": "[encoded data removed]",
      "text/plain": [
       "<Figure size 1440x720 with 1 Axes>"
      ]
     },
     "metadata": {
      "needs_background": "light"
     },
     "output_type": "display_data"
    }
   ],
   "source": [
    "start=2; limit=16;  step=2;\n",
    "x = range(start, limit, step)\n",
    "\n",
    "plt.figure(figsize=(20,10))\n",
    "plt.grid()\n",
    "plt.title(\"Coherence Score vs. Number of Topics\")\n",
    "plt.xticks(x, fontsize=20)\n",
    "plt.plot(x, coherence_values, \"-o\")\n",
    "\n",
    "plt.xlabel(\"Num Topics\")\n",
    "plt.ylabel(\"Coherence score\")\n",
    "\n",
    "plt.show();"
   ]
  },
  {
   "cell_type": "code",
   "execution_count": 83,
   "metadata": {
    "deletable": false,
    "id": "1Qx7OVX-zGeB",
    "nbgrader": {
     "cell_type": "code",
     "checksum": "45f72ff929ab8b765d0f0b5f35137f0d",
     "grade": false,
     "grade_id": "cell-e97661faebf1ac3c",
     "locked": false,
     "schema_version": 3,
     "solution": true,
     "task": false
    }
   },
   "outputs": [],
   "source": [
    "# use np.argmax() to get index of largest coherence value from coherence_values - save result to `max_cohereance_val_index`\n",
    "\n",
    "# use `max_coherence_val_index` to index model_list for the corresponding model - save result to `lda_trained_model`\n",
    "\n",
    "max_coherence_val_index = 3 #np.argmax(coherence_values)\n",
    "\n",
    "lda_trained_model = model_list[max_coherence_val_index]\n",
    "\n",
    "# YOUR CODE HERE\n"
   ]
  },
  {
   "cell_type": "code",
   "execution_count": 84,
   "metadata": {
    "colab": {
     "base_uri": "https://localhost:8080/"
    },
    "executionInfo": {
     "elapsed": 244,
     "status": "ok",
     "timestamp": 1630271190181,
     "user": {
      "displayName": "Joseph catanzarite",
      "photoUrl": "https://lh3.googleusercontent.com/a-/AOh14GgmMRaw8NgoEDqzevEZ6b18iOYdEH9nWTZeaFBW=s64",
      "userId": "16649206137414945374"
     },
     "user_tz": 420
    },
    "id": "7y-wokYcIg9_",
    "outputId": "b5fabbe1-26f3-4770-a011-f892bc76a3c5"
   },
   "outputs": [
    {
     "data": {
      "text/plain": [
       "<gensim.models.ldamulticore.LdaMulticore at 0x1a648d8fda0>"
      ]
     },
     "execution_count": 84,
     "metadata": {},
     "output_type": "execute_result"
    }
   ],
   "source": [
    "lda_trained_model"
   ]
  },
  {
   "cell_type": "markdown",
   "metadata": {
    "id": "LwGY4o8fzGeB"
   },
   "source": [
    "## Use pyLDAvis to visualize your topics \n",
    "\n",
    "Take a look at the topic bubbles and bar chart for the terms on the right hand side.  \n",
    "\n",
    "- Describe the topic bubbles. \n",
    "- Do they overlap or not? \n",
    "- What does it mean when they overlap? \n",
    "- What does it mean when they don't overlap?\n",
    "- Are the terms in each topic distinct from the topics in the other topic bubbles?\n"
   ]
  },
  {
   "cell_type": "code",
   "execution_count": 81,
   "metadata": {
    "colab": {
     "base_uri": "https://localhost:8080/"
    },
    "executionInfo": {
     "elapsed": 3184,
     "status": "ok",
     "timestamp": 1630271196635,
     "user": {
      "displayName": "Joseph catanzarite",
      "photoUrl": "https://lh3.googleusercontent.com/a-/AOh14GgmMRaw8NgoEDqzevEZ6b18iOYdEH9nWTZeaFBW=s64",
      "userId": "16649206137414945374"
     },
     "user_tz": 420
    },
    "id": "9poWZ8WgItYS",
    "outputId": "26627697-0e17-468f-e3c8-71e543e2d5f7"
   },
   "outputs": [
    {
     "name": "stdout",
     "output_type": "stream",
     "text": [
      "Requirement already satisfied: ipywidgets in c:\\users\\gparr\\anaconda3\\lib\\site-packages (7.6.3)\n",
      "Requirement already satisfied: ipykernel>=4.5.1 in c:\\users\\gparr\\anaconda3\\lib\\site-packages (from ipywidgets) (5.3.4)\n",
      "Requirement already satisfied: jupyterlab-widgets>=1.0.0 in c:\\users\\gparr\\anaconda3\\lib\\site-packages (from ipywidgets) (1.0.0)\n",
      "Requirement already satisfied: widgetsnbextension~=3.5.0 in c:\\users\\gparr\\anaconda3\\lib\\site-packages (from ipywidgets) (3.5.1)\n",
      "Requirement already satisfied: traitlets>=4.3.1 in c:\\users\\gparr\\anaconda3\\lib\\site-packages (from ipywidgets) (5.0.5)\n",
      "Requirement already satisfied: nbformat>=4.2.0 in c:\\users\\gparr\\anaconda3\\lib\\site-packages (from ipywidgets) (5.1.3)\n",
      "Requirement already satisfied: ipython>=4.0.0 in c:\\users\\gparr\\anaconda3\\lib\\site-packages (from ipywidgets) (7.22.0)\n",
      "Requirement already satisfied: jupyter-client in c:\\users\\gparr\\anaconda3\\lib\\site-packages (from ipykernel>=4.5.1->ipywidgets) (6.1.12)\n",
      "Requirement already satisfied: tornado>=4.2 in c:\\users\\gparr\\anaconda3\\lib\\site-packages (from ipykernel>=4.5.1->ipywidgets) (6.1)\n",
      "Requirement already satisfied: setuptools>=18.5 in c:\\users\\gparr\\anaconda3\\lib\\site-packages (from ipython>=4.0.0->ipywidgets) (52.0.0.post20210125)\n",
      "Requirement already satisfied: jedi>=0.16 in c:\\users\\gparr\\anaconda3\\lib\\site-packages (from ipython>=4.0.0->ipywidgets) (0.17.2)\n",
      "Requirement already satisfied: backcall in c:\\users\\gparr\\anaconda3\\lib\\site-packages (from ipython>=4.0.0->ipywidgets) (0.2.0)\n",
      "Requirement already satisfied: pickleshare in c:\\users\\gparr\\anaconda3\\lib\\site-packages (from ipython>=4.0.0->ipywidgets) (0.7.5)\n",
      "Requirement already satisfied: prompt-toolkit!=3.0.0,!=3.0.1,<3.1.0,>=2.0.0 in c:\\users\\gparr\\anaconda3\\lib\\site-packages (from ipython>=4.0.0->ipywidgets) (3.0.17)\n",
      "Requirement already satisfied: pygments in c:\\users\\gparr\\anaconda3\\lib\\site-packages (from ipython>=4.0.0->ipywidgets) (2.8.1)\n",
      "Requirement already satisfied: colorama in c:\\users\\gparr\\anaconda3\\lib\\site-packages (from ipython>=4.0.0->ipywidgets) (0.4.4)\n",
      "Requirement already satisfied: decorator in c:\\users\\gparr\\anaconda3\\lib\\site-packages (from ipython>=4.0.0->ipywidgets) (5.0.6)\n",
      "Requirement already satisfied: parso<0.8.0,>=0.7.0 in c:\\users\\gparr\\anaconda3\\lib\\site-packages (from jedi>=0.16->ipython>=4.0.0->ipywidgets) (0.7.0)\n",
      "Requirement already satisfied: jsonschema!=2.5.0,>=2.4 in c:\\users\\gparr\\anaconda3\\lib\\site-packages (from nbformat>=4.2.0->ipywidgets) (3.2.0)\n",
      "Requirement already satisfied: jupyter-core in c:\\users\\gparr\\anaconda3\\lib\\site-packages (from nbformat>=4.2.0->ipywidgets) (4.7.1)\n",
      "Requirement already satisfied: ipython-genutils in c:\\users\\gparr\\anaconda3\\lib\\site-packages (from nbformat>=4.2.0->ipywidgets) (0.2.0)\n",
      "Requirement already satisfied: attrs>=17.4.0 in c:\\users\\gparr\\anaconda3\\lib\\site-packages (from jsonschema!=2.5.0,>=2.4->nbformat>=4.2.0->ipywidgets) (20.3.0)\n",
      "Requirement already satisfied: six>=1.11.0 in c:\\users\\gparr\\anaconda3\\lib\\site-packages (from jsonschema!=2.5.0,>=2.4->nbformat>=4.2.0->ipywidgets) (1.15.0)\n",
      "Requirement already satisfied: pyrsistent>=0.14.0 in c:\\users\\gparr\\anaconda3\\lib\\site-packages (from jsonschema!=2.5.0,>=2.4->nbformat>=4.2.0->ipywidgets) (0.17.3)\n",
      "Requirement already satisfied: wcwidth in c:\\users\\gparr\\anaconda3\\lib\\site-packages (from prompt-toolkit!=3.0.0,!=3.0.1,<3.1.0,>=2.0.0->ipython>=4.0.0->ipywidgets) (0.2.5)\n",
      "Requirement already satisfied: notebook>=4.4.1 in c:\\users\\gparr\\anaconda3\\lib\\site-packages (from widgetsnbextension~=3.5.0->ipywidgets) (6.3.0)\n",
      "Requirement already satisfied: argon2-cffi in c:\\users\\gparr\\anaconda3\\lib\\site-packages (from notebook>=4.4.1->widgetsnbextension~=3.5.0->ipywidgets) (20.1.0)\n",
      "Requirement already satisfied: nbconvert in c:\\users\\gparr\\anaconda3\\lib\\site-packages (from notebook>=4.4.1->widgetsnbextension~=3.5.0->ipywidgets) (6.0.7)\n",
      "Requirement already satisfied: jinja2 in c:\\users\\gparr\\anaconda3\\lib\\site-packages (from notebook>=4.4.1->widgetsnbextension~=3.5.0->ipywidgets) (2.11.3)\n",
      "Requirement already satisfied: prometheus-client in c:\\users\\gparr\\anaconda3\\lib\\site-packages (from notebook>=4.4.1->widgetsnbextension~=3.5.0->ipywidgets) (0.10.1)\n",
      "Requirement already satisfied: Send2Trash>=1.5.0 in c:\\users\\gparr\\anaconda3\\lib\\site-packages (from notebook>=4.4.1->widgetsnbextension~=3.5.0->ipywidgets) (1.5.0)\n",
      "Requirement already satisfied: pyzmq>=17 in c:\\users\\gparr\\anaconda3\\lib\\site-packages (from notebook>=4.4.1->widgetsnbextension~=3.5.0->ipywidgets) (20.0.0)\n",
      "Requirement already satisfied: terminado>=0.8.3 in c:\\users\\gparr\\anaconda3\\lib\\site-packages (from notebook>=4.4.1->widgetsnbextension~=3.5.0->ipywidgets) (0.9.4)\n",
      "Requirement already satisfied: python-dateutil>=2.1 in c:\\users\\gparr\\anaconda3\\lib\\site-packages (from jupyter-client->ipykernel>=4.5.1->ipywidgets) (2.8.1)\n",
      "Requirement already satisfied: pywin32>=1.0 in c:\\users\\gparr\\anaconda3\\lib\\site-packages (from jupyter-core->nbformat>=4.2.0->ipywidgets) (227)\n",
      "Requirement already satisfied: pywinpty>=0.5 in c:\\users\\gparr\\anaconda3\\lib\\site-packages (from terminado>=0.8.3->notebook>=4.4.1->widgetsnbextension~=3.5.0->ipywidgets) (0.5.7)\n",
      "Requirement already satisfied: cffi>=1.0.0 in c:\\users\\gparr\\anaconda3\\lib\\site-packages (from argon2-cffi->notebook>=4.4.1->widgetsnbextension~=3.5.0->ipywidgets) (1.14.5)\n",
      "Requirement already satisfied: pycparser in c:\\users\\gparr\\anaconda3\\lib\\site-packages (from cffi>=1.0.0->argon2-cffi->notebook>=4.4.1->widgetsnbextension~=3.5.0->ipywidgets) (2.20)\n",
      "Requirement already satisfied: MarkupSafe>=0.23 in c:\\users\\gparr\\anaconda3\\lib\\site-packages (from jinja2->notebook>=4.4.1->widgetsnbextension~=3.5.0->ipywidgets) (1.1.1)\n",
      "Requirement already satisfied: nbclient<0.6.0,>=0.5.0 in c:\\users\\gparr\\anaconda3\\lib\\site-packages (from nbconvert->notebook>=4.4.1->widgetsnbextension~=3.5.0->ipywidgets) (0.5.3)\n",
      "Requirement already satisfied: jupyterlab-pygments in c:\\users\\gparr\\anaconda3\\lib\\site-packages (from nbconvert->notebook>=4.4.1->widgetsnbextension~=3.5.0->ipywidgets) (0.1.2)\n",
      "Requirement already satisfied: mistune<2,>=0.8.1 in c:\\users\\gparr\\anaconda3\\lib\\site-packages (from nbconvert->notebook>=4.4.1->widgetsnbextension~=3.5.0->ipywidgets) (0.8.4)\n",
      "Requirement already satisfied: entrypoints>=0.2.2 in c:\\users\\gparr\\anaconda3\\lib\\site-packages (from nbconvert->notebook>=4.4.1->widgetsnbextension~=3.5.0->ipywidgets) (0.3)\n",
      "Requirement already satisfied: testpath in c:\\users\\gparr\\anaconda3\\lib\\site-packages (from nbconvert->notebook>=4.4.1->widgetsnbextension~=3.5.0->ipywidgets) (0.4.4)\n",
      "Requirement already satisfied: defusedxml in c:\\users\\gparr\\anaconda3\\lib\\site-packages (from nbconvert->notebook>=4.4.1->widgetsnbextension~=3.5.0->ipywidgets) (0.7.1)\n",
      "Requirement already satisfied: pandocfilters>=1.4.1 in c:\\users\\gparr\\anaconda3\\lib\\site-packages (from nbconvert->notebook>=4.4.1->widgetsnbextension~=3.5.0->ipywidgets) (1.4.3)\n",
      "Requirement already satisfied: bleach in c:\\users\\gparr\\anaconda3\\lib\\site-packages (from nbconvert->notebook>=4.4.1->widgetsnbextension~=3.5.0->ipywidgets) (3.3.0)\n",
      "Requirement already satisfied: async-generator in c:\\users\\gparr\\anaconda3\\lib\\site-packages (from nbclient<0.6.0,>=0.5.0->nbconvert->notebook>=4.4.1->widgetsnbextension~=3.5.0->ipywidgets) (1.10)\n",
      "Requirement already satisfied: nest-asyncio in c:\\users\\gparr\\anaconda3\\lib\\site-packages (from nbclient<0.6.0,>=0.5.0->nbconvert->notebook>=4.4.1->widgetsnbextension~=3.5.0->ipywidgets) (1.5.1)\n",
      "Requirement already satisfied: packaging in c:\\users\\gparr\\anaconda3\\lib\\site-packages (from bleach->nbconvert->notebook>=4.4.1->widgetsnbextension~=3.5.0->ipywidgets) (20.9)\n",
      "Requirement already satisfied: webencodings in c:\\users\\gparr\\anaconda3\\lib\\site-packages (from bleach->nbconvert->notebook>=4.4.1->widgetsnbextension~=3.5.0->ipywidgets) (0.5.1)\n",
      "Requirement already satisfied: pyparsing>=2.0.2 in c:\\users\\gparr\\anaconda3\\lib\\site-packages (from packaging->bleach->nbconvert->notebook>=4.4.1->widgetsnbextension~=3.5.0->ipywidgets) (2.4.7)\n"
     ]
    }
   ],
   "source": [
    "!pip install ipywidgets"
   ]
  },
  {
   "cell_type": "code",
   "execution_count": 85,
   "metadata": {
    "id": "YBqK345s2oYC"
   },
   "outputs": [
    {
     "data": {
      "text/html": [
       "\n",
       "<link rel=\"stylesheet\" type=\"text/css\" href=\"https://cdn.rawgit.com/bmabey/pyLDAvis/files/ldavis.v1.0.0.css\">\n",
       "\n",
       "\n",
       "<div id=\"ldavis_el1696018137456774407579544029\"></div>\n",
       "<script type=\"text/javascript\">\n",
       "\n",
       "var ldavis_el1696018137456774407579544029_data = {\"mdsDat\": {\"x\": [-0.10311878121396588, 0.021128529068907224, 0.08673010891768869, 0.09508201954214456, -0.20288170378337034, 0.06594393776784002, -0.24218004038161117, 0.2792959300823669], \"y\": [-0.18098158610604986, -0.16918269449675802, 0.08973256016815659, -0.10127533787791579, 0.007740310067925635, -0.10340312620842593, 0.25426567193377625, 0.20310420251929087], \"topics\": [1, 2, 3, 4, 5, 6, 7, 8], \"cluster\": [1, 1, 1, 1, 1, 1, 1, 1], \"Freq\": [21.56476589856041, 14.69330355885958, 14.1438968236159, 14.063583807157762, 12.069386868593798, 9.461903162728248, 7.494073522688249, 6.509086357796054]}, \"tinfo\": {\"Term\": [\"tablet\", \"kindle\", \"read\", \"fire\", \"good\", \"great\", \"love\", \"hd\", \"kid\", \"easy\", \"old\", \"book\", \"use\", \"screen\", \"app\", \"amazon\", \"product\", \"not\", \"game\", \"price\", \"year\", \"recommend\", \"buy\", \"child\", \"new\", \"play\", \"size\", \"time\", \"watch\", \"battery\", \"kid\", \"game\", \"watch\", \"daughter\", \"movie\", \"control\", \"parental\", \"card\", \"granddaughter\", \"memory\", \"yr\", \"load\", \"navigate\", \"educational\", \"content\", \"inexpensive\", \"adult\", \"learning\", \"entertain\", \"playing\", \"dad\", \"person\", \"freetime\", \"away\", \"grandchild\", \"mode\", \"hit\", \"safe\", \"reliable\", \"activity\", \"year\", \"son\", \"old\", \"download\", \"love\", \"play\", \"learn\", \"program\", \"buy\", \"use\", \"set\", \"time\", \"tablet\", \"app\", \"easy\", \"great\", \"get\", \"lot\", \"enjoy\", \"purchase\", \"christmas\", \"like\", \"grandson\", \"deal\", \"present\", \"mother\", \"birthday\", \"toddler\", \"beginner\", \"ago\", \"perform\", \"nd\", \"everyday\", \"customer\", \"gaming\", \"th\", \"die\", \"money\", \"alternative\", \"finally\", \"law\", \"trouble\", \"advertise\", \"explore\", \"ready\", \"call\", \"best\", \"processing\", \"process\", \"bill\", \"investment\", \"task\", \"weight\", \"choice\", \"job\", \"value\", \"replacement\", \"price\", \"sale\", \"gift\", \"good\", \"fast\", \"happy\", \"tablet\", \"ipad\", \"christmas\", \"purchase\", \"buy\", \"pleased\", \"great\", \"get\", \"feature\", \"love\", \"expensive\", \"expect\", \"cheap\", \"want\", \"fire\", \"work\", \"amazon\", \"look\", \"not\", \"need\", \"perfect\", \"well\", \"nice\", \"charge\", \"slow\", \"break\", \"warranty\", \"fine\", \"hard\", \"include\", \"view\", \"parent\", \"affordable\", \"let\", \"cover\", \"keyboard\", \"lightweight\", \"stop\", \"last\", \"lock\", \"longer\", \"open\", \"charger\", \"wrong\", \"week\", \"power\", \"strong\", \"dollar\", \"protective\", \"change\", \"provide\", \"disappoint\", \"button\", \"turn\", \"far\", \"replace\", \"know\", \"try\", \"not\", \"come\", \"case\", \"time\", \"will\", \"screen\", \"issue\", \"wish\", \"problem\", \"return\", \"thing\", \"find\", \"have\", \"like\", \"take\", \"go\", \"ipad\", \"be\", \"buy\", \"work\", \"get\", \"long\", \"store\", \"video\", \"google\", \"web\", \"basic\", \"account\", \"display\", \"cost\", \"apple\", \"point\", \"tech\", \"worry\", \"tool\", \"purpose\", \"function\", \"medium\", \"os\", \"limited\", \"browser\", \"budget\", \"micro\", \"powerful\", \"close\", \"lack\", \"pro\", \"unlimited\", \"social\", \"subscription\", \"streaming\", \"silk\", \"prime\", \"amazon\", \"app\", \"gb\", \"run\", \"available\", \"access\", \"tablet\", \"need\", \"online\", \"not\", \"play\", \"good\", \"add\", \"device\", \"work\", \"pretty\", \"price\", \"look\", \"nice\", \"want\", \"like\", \"lot\", \"fast\", \"great\", \"little\", \"read\", \"light\", \"email\", \"check\", \"reader\", \"young\", \"speed\", \"travel\", \"library\", \"carry\", \"ebook\", \"grand\", \"electronic\", \"savvy\", \"expandable\", \"exactly\", \"geek\", \"convenient\", \"iphone\", \"purse\", \"squad\", \"nexus\", \"audio\", \"crisp\", \"number\", \"capacity\", \"thin\", \"totally\", \"recently\", \"oh\", \"book\", \"facebook\", \"reading\", \"wife\", \"size\", \"right\", \"listen\", \"previous\", \"computer\", \"large\", \"use\", \"kindle\", \"easy\", \"perfect\", \"enjoy\", \"want\", \"small\", \"fire\", \"love\", \"like\", \"purchase\", \"need\", \"new\", \"great\", \"recommend\", \"child\", \"life\", \"picture\", \"camera\", \"android\", \"age\", \"clear\", \"highly\", \"husband\", \"quick\", \"graphic\", \"profile\", \"ton\", \"install\", \"appropriate\", \"sharp\", \"sturdy\", \"durability\", \"expectation\", \"st\", \"exceed\", \"childs\", \"versatile\", \"numerous\", \"prior\", \"catch\", \"integration\", \"image\", \"format\", \"product\", \"battery\", \"resolution\", \"thank\", \"screen\", \"quality\", \"friend\", \"nice\", \"sound\", \"great\", \"easy\", \"excellent\", \"good\", \"use\", \"size\", \"set\", \"price\", \"work\", \"like\", \"internet\", \"long\", \"little\", \"upgrade\", \"ad\", \"model\", \"inch\", \"update\", \"samsung\", \"nephew\", \"faster\", \"satisfied\", \"extremely\", \"edition\", \"meet\", \"difference\", \"improvement\", \"handy\", \"generation\", \"application\", \"previously\", \"busy\", \"research\", \"father\", \"buck\", \"selection\", \"transfer\", \"galaxy\", \"save\", \"volume\", \"area\", \"advertising\", \"constant\", \"kindle\", \"new\", \"version\", \"fire\", \"well\", \"better\", \"tab\", \"decide\", \"old\", \"feature\", \"worth\", \"review\", \"big\", \"buy\", \"year\", \"like\", \"need\", \"device\", \"hd\", \"user\", \"black\", \"friendly\", \"friday\", \"beat\", \"family\", \"tell\", \"grandkid\", \"experience\", \"alexa\", \"receive\", \"helpful\", \"brand\", \"annoying\", \"live\", \"portable\", \"surprise\", \"understand\", \"road\", \"excited\", \"link\", \"exchange\", \"shopping\", \"starter\", \"reasonable\", \"bluetooth\", \"pass\", \"pink\", \"special\", \"responsive\", \"complaint\", \"step\", \"product\", \"amazon\", \"member\", \"item\", \"music\", \"not\", \"glad\", \"great\", \"work\", \"unit\", \"prime\", \"need\"], \"Freq\": [6736.0, 2468.0, 1847.0, 2453.0, 3166.0, 4815.0, 4242.0, 1106.0, 1948.0, 2523.0, 2016.0, 1495.0, 3386.0, 1572.0, 1957.0, 2170.0, 1253.0, 2630.0, 1446.0, 2130.0, 1613.0, 766.0, 3287.0, 604.0, 756.0, 1309.0, 850.0, 1115.0, 792.0, 657.0, 1947.4008802685198, 1445.348473747126, 791.0589242314609, 693.333882131549, 608.1245804455054, 391.43286920231327, 333.6742601193795, 297.0946774732968, 282.6950968922171, 267.44973561817295, 245.52945497683308, 234.07948124242915, 202.84233580871236, 176.13358912950028, 176.23140978259406, 147.6824012589394, 145.48932408703507, 117.94924596473602, 103.92198335556716, 93.50532313168719, 89.47753708504057, 81.38236405558031, 72.56637616944683, 68.7107658087578, 65.8548292987216, 64.68747593826988, 63.44451860713251, 61.04836414539351, 57.06257123120348, 52.44475333226053, 1429.7840184668103, 636.6767593497848, 1556.8458029962667, 573.6181961548565, 2819.557141730184, 913.5664281718581, 313.3670883543277, 107.54076147998224, 1365.2252311602622, 1284.2572454595474, 358.5027597294214, 527.3867067348616, 1769.1669235823533, 708.6733748885055, 824.7737893738982, 1110.4277736815288, 447.9200980114483, 322.8367462783883, 314.0291983297664, 428.08246922413224, 282.0667658812527, 308.4161066841892, 344.35821989841287, 239.4328143338623, 164.70903777408344, 153.06584887331343, 136.63068986806948, 105.7936986181561, 94.20740050134401, 73.36379160118916, 71.339668435396, 71.06198956581872, 70.5483098408697, 67.73117195716497, 60.52127480208486, 59.392446701613565, 58.012778094725455, 317.23948094017237, 54.40827464125733, 52.80698006814391, 50.949104197274224, 41.6610013016615, 41.44487719988408, 40.23202538489383, 38.64638215966252, 36.179635471873226, 36.17983185014025, 34.714650326874896, 34.440038231234375, 34.25979243884293, 34.04738970522568, 33.96932607111103, 116.41162277054305, 126.21315009935766, 82.80479461550972, 252.57004909017965, 141.61892041261095, 1387.6285250125063, 200.78995716409293, 592.7487896070937, 1770.0366051736871, 403.4376527342686, 382.5832757591384, 3082.3832334996373, 547.8542041227262, 407.410175606089, 800.6031407222837, 1307.1236995685415, 139.72710383125664, 1592.436394611872, 471.1511048258055, 295.01975133382035, 924.7105921237248, 115.46576030146153, 147.88625425349562, 154.24266527630408, 286.69998967292156, 425.83132111766935, 350.6559661869179, 373.39570544435946, 198.9430588383501, 297.0241188459505, 221.88659946131307, 176.1991825454165, 165.48034614754621, 160.1803978338093, 557.2840082251155, 303.41309704114155, 289.6827278117005, 235.97536200791097, 221.90407380550704, 183.13459731220186, 156.15684420149373, 154.66723295193046, 153.27579406667968, 150.64551824219345, 148.98212048378952, 144.0367916009978, 130.9487015175368, 130.8940829004726, 127.77549093062316, 122.04308181507982, 119.02498104330839, 117.18407908062446, 114.98470306108969, 111.38875899683364, 111.31041014074499, 107.07972314024684, 107.159433050937, 100.32017778661093, 93.77895567294283, 93.10743905774517, 97.24368399172758, 91.8769511803014, 91.54037371947018, 90.67511476245511, 170.2621209618631, 534.016376536901, 356.70017422492845, 277.4062421485331, 249.18394323067767, 1447.8373584583383, 381.8480020262667, 355.17728014941537, 587.4112038766406, 161.2140820181872, 701.2214806472755, 230.03549288449705, 170.82688300734432, 243.2567772835445, 181.70509930753855, 308.99236230930046, 249.667268842502, 261.6105481754484, 432.10741324899936, 215.3550571337738, 226.7703985096242, 259.0888668648621, 223.27783158329564, 323.08555340890274, 237.14269317113755, 212.14372441566053, 183.02329329145633, 575.5946236722731, 554.8787089173474, 426.2291691731398, 347.0109698198432, 214.4959546632415, 203.39916892268573, 200.81341375603412, 155.05102827721396, 145.97276608389822, 139.2748416905649, 133.65035555126374, 114.54933481891621, 113.4709594305909, 108.6228940474777, 103.39696872516937, 97.96815099192807, 92.80655251960425, 91.85941217557385, 85.190007877802, 79.55965732517801, 79.41029021661357, 79.3182327113226, 73.573043663192, 66.50173909084069, 65.04289109200013, 63.28310345563581, 60.21965548452624, 57.47625661743044, 49.585967301809276, 48.67990604533351, 346.9743297673732, 1452.9741623578566, 1248.484676196639, 218.4731296063188, 186.15997411236026, 190.19854996415953, 245.74570907212427, 1884.6490157179396, 454.08187444918843, 137.67774140071836, 665.7547656989668, 394.866712769758, 643.8691761636856, 164.08464323833044, 279.4049604472335, 388.510540822052, 173.1331197255172, 417.54620352401645, 195.32461109421078, 214.46578050238386, 222.47910032250692, 243.24716825745324, 192.78701178311397, 185.87699110793824, 247.89797382319887, 174.52593042048738, 1846.9667783373707, 435.1570324580351, 368.53490673420185, 233.27710762100082, 227.01547099849432, 200.45833897838185, 200.01934132404642, 286.12383494953707, 183.0548597286816, 175.8270454260979, 142.95156046313778, 126.49830003507977, 96.813285531445, 72.95501800401513, 69.68877522896672, 84.34794917984073, 63.37751451464867, 62.27220225880859, 58.11892548202018, 57.811104482125586, 56.353267065666984, 53.936575407537, 52.358976652155604, 49.387515715376146, 49.1309265224791, 42.941688164594595, 42.014714000976156, 41.82829969400743, 41.62211425413253, 41.08269623587118, 1286.6791329168732, 162.6246711357263, 182.74536111294074, 337.0525741920895, 559.9490251142972, 261.0299710894881, 127.0927029880973, 129.94955372691783, 149.40423021316414, 160.5966163947005, 1070.325104192467, 849.9071156041647, 798.9662674164655, 350.8525561119029, 291.6683338135552, 343.04437275809255, 188.02135540997426, 488.2204088175899, 482.18090573944556, 306.60526610343766, 232.66963862148833, 194.17495787356023, 154.3211394414623, 159.58562701442204, 766.0462223119575, 603.0689535556759, 429.30834010889697, 359.52512779618473, 300.0093379357708, 293.2999208111339, 245.99325080756356, 233.6143376002179, 195.40941738754955, 175.73981039566536, 115.2771570406342, 110.48017452413767, 105.69100722292988, 81.71545266522662, 80.27588495064691, 76.28893643131734, 69.98738165063602, 66.18813740401022, 42.544463930510815, 40.85386087823371, 31.70729162856277, 30.24150458329481, 28.22316200507771, 27.80193707618935, 27.616896889819177, 27.495992895799784, 26.0027219219004, 25.951113679839892, 25.357692664357426, 24.727444449106795, 1000.8567683985727, 494.8738316389582, 178.60355145252998, 125.11041772708563, 870.791487317113, 324.98292162087176, 111.73211805721667, 436.6945026074914, 110.38767339992172, 1505.618710552104, 898.9470354854963, 166.93804009818768, 752.3048650032592, 772.0286136484167, 289.9659347937774, 221.22620125854013, 278.36466501494783, 230.42527450714798, 232.65705381854897, 152.0250412258013, 125.93748164322052, 127.65788283836504, 297.16084892665555, 218.8273199771289, 212.76834111261192, 199.5748845872919, 150.60474038627513, 145.0076835405917, 136.91090061415196, 123.24145968352201, 109.94731620393921, 96.22701430569737, 92.55140963003218, 87.43326184553555, 79.43368032457384, 78.19016071589205, 70.19592770944486, 64.84102969944645, 63.69494520162099, 57.76672115760764, 57.68921109957446, 56.0884895134215, 55.40898111010576, 55.381110074420846, 52.308618852557466, 51.88842993698955, 51.23418174641843, 50.461060984505494, 49.18471244747083, 48.454803810003256, 44.44692016613713, 43.98462755734659, 1617.5514716552427, 526.3255587421284, 209.379933637676, 1382.248884039543, 405.98622573699464, 144.7343016663675, 102.14408058722162, 114.51916097344746, 458.62877618864235, 189.78182796146223, 106.82300916106122, 92.71754076751199, 131.168866306372, 199.1008900163457, 159.12455675660135, 127.9828877528122, 115.68243950981837, 102.1117891812388, 1105.299000973314, 422.66175013266957, 415.24152230807914, 367.1452431882798, 342.53532508741074, 329.1508631939417, 208.02747990941924, 167.26655634826477, 159.1272979245633, 140.70004079431132, 133.68457143906193, 113.4343874847751, 99.95087894938877, 91.25959701760851, 84.62348360847741, 83.4976240603928, 82.21627555166864, 76.49678725447922, 71.49145783961842, 68.71048471166549, 65.56111700035474, 63.99624617421828, 63.75970112577949, 63.175878066369634, 61.76132870128562, 59.002829266823106, 57.47370756240922, 57.0535045909353, 55.94732329885403, 55.862891807284086, 81.18753715743966, 107.997110781197, 68.55561631494943, 252.11909184079656, 302.92158643458976, 92.1074033303354, 110.14882049141815, 106.8145827275395, 212.86943282218323, 79.67290301079069, 199.31657191860114, 147.77189447165463, 79.10430406632597, 82.42648433116807, 85.1991175439625], \"Total\": [6736.0, 2468.0, 1847.0, 2453.0, 3166.0, 4815.0, 4242.0, 1106.0, 1948.0, 2523.0, 2016.0, 1495.0, 3386.0, 1572.0, 1957.0, 2170.0, 1253.0, 2630.0, 1446.0, 2130.0, 1613.0, 766.0, 3287.0, 604.0, 756.0, 1309.0, 850.0, 1115.0, 792.0, 657.0, 1948.3414169393154, 1446.2891893144335, 792.0006338509442, 694.2741722610392, 609.0662159821767, 392.37346011243807, 334.61441416579385, 298.03708948520085, 283.6352342460258, 268.3915730559351, 246.46961236746048, 235.02219998983463, 203.78376456609962, 177.07366072111375, 177.17273456306046, 148.6283741931156, 146.42997126844884, 118.88937057798992, 104.8619839621429, 94.4461453338668, 90.42047206909524, 82.32623228519643, 73.50746352882977, 69.65231765708567, 66.79490521804716, 65.62847936576684, 64.38690607222786, 61.9884023353605, 58.00613135833047, 53.38576159066246, 1613.4038119126767, 728.8430483484289, 2016.2790132359137, 695.4984031119232, 4242.455128079051, 1309.2499558594557, 394.9298253445444, 115.90714605520503, 3287.4145862291407, 3386.155668670031, 626.9671161346972, 1115.5919873526775, 6736.899952742057, 1957.9748303560993, 2523.3654443946693, 4815.566038477419, 1296.2010191430284, 716.6452978351734, 682.2818784408189, 1628.9082793000646, 690.3010123930934, 1756.8810687590035, 345.2997273151002, 240.37510046532847, 165.65081228234897, 154.00820912735034, 137.5723569232907, 106.7360533327692, 95.14903162038671, 74.30620325925358, 72.28246145598587, 72.00433773999337, 71.49077736283773, 68.67361892426996, 61.46409446827532, 60.33468126930352, 58.95564263878958, 322.4403088883793, 55.35017754920317, 53.749945416254064, 51.890890510277444, 42.603855490465044, 42.3890591519509, 41.17424714601218, 39.588686108147506, 37.121789641877754, 37.12296061244748, 35.65785944423442, 35.38252879300483, 35.20315683905479, 34.9891006153793, 34.911865811186, 121.03083398274843, 131.3783581083265, 88.7205616062465, 293.2159318954303, 160.01666751852025, 2130.620024206403, 253.53204136031454, 859.1404459159104, 3166.934350663249, 590.1336609495768, 572.2249811057546, 6736.899952742057, 880.7548598318436, 690.3010123930934, 1628.9082793000646, 3287.4145862291407, 182.1787480735823, 4815.566038477419, 1296.2010191430284, 676.8689056485155, 4242.455128079051, 161.0927200618353, 247.19492656483462, 279.3321259098562, 983.9087430352625, 2453.314423158586, 1617.862059587661, 2170.930125975525, 609.605996802324, 2630.31818556571, 1071.4134074664173, 854.9065360140033, 620.7947764388475, 841.3917697350223, 558.1952611977539, 304.32509249042204, 290.5944728331254, 236.88675901327727, 222.81639899120765, 184.0462731297962, 157.06862182024986, 155.58023017372122, 154.18753810533426, 151.55830267489245, 149.89409284050623, 144.94815953127758, 131.86109857516405, 131.80711250203768, 128.68927267133344, 122.95491093017175, 119.93679154632107, 118.09586558634146, 115.89606277197936, 112.29996010022164, 112.2222916426979, 107.9914148039806, 108.07180377918685, 101.23448934876347, 94.69192992550185, 94.01871266066567, 98.20644845861761, 92.78891822813671, 92.45313858995308, 91.5863437625295, 172.57234401943626, 615.1197855265352, 408.5764920271719, 334.10634815724933, 296.949096821825, 2630.31818556571, 532.0351328933276, 535.3344285491074, 1115.5919873526775, 189.30692958453122, 1572.80213268705, 331.84237084943067, 211.40719016848902, 371.29795554959486, 241.30280703476382, 691.1405840524259, 487.22748920438806, 584.1754009982257, 1756.8810687590035, 405.7090804299909, 466.9762570767158, 880.7548598318436, 548.1826922169471, 3287.4145862291407, 1617.862059587661, 1296.2010191430284, 404.243505189199, 576.5290388912337, 555.8131463764852, 427.162991634509, 347.9460857810122, 215.43030847661913, 204.33322360482265, 201.74824071136422, 155.98584756681922, 146.90713910598333, 140.20984923101508, 134.58733805657724, 115.48377691065541, 114.40526897897337, 109.55787777003172, 104.33119265160413, 98.90264580282803, 93.74117793419651, 92.79394924655509, 86.12478825517613, 80.49418859960188, 80.34502040704416, 80.25332983180871, 74.50800050311418, 67.43566907567505, 65.9771727023327, 64.21753685096031, 61.154194475214865, 58.410379568420424, 50.51998902472424, 49.61489423346455, 430.1800938708449, 2170.930125975525, 1957.9748303560993, 271.38004381011405, 246.65795162150283, 255.11544172523858, 402.2480507808525, 6736.899952742057, 1071.4134074664173, 196.49172438672176, 2630.31818556571, 1309.2499558594557, 3166.934350663249, 273.11664372881876, 795.5651630302698, 1617.862059587661, 311.7843448495621, 2130.620024206403, 609.605996802324, 841.3917697350223, 983.9087430352625, 1756.8810687590035, 716.6452978351734, 590.1336609495768, 4815.566038477419, 584.7603274983599, 1847.8860047381975, 436.07649191647346, 369.45434780021276, 234.19638866638383, 227.93435969042116, 201.37817435536678, 200.93940594810826, 287.5596907606339, 183.97397222586167, 176.74589075791465, 143.87080878905746, 127.41770745985805, 97.7329218647691, 73.87584227982464, 70.60834150240906, 85.54807582133809, 64.29765306696696, 63.19103269859118, 59.03851108969753, 58.72972382441521, 57.27374321896648, 54.85787504422188, 53.27858128954332, 50.30872728500304, 50.05008581286083, 43.86133713656801, 42.93498624586336, 42.74790568291372, 42.542775098116586, 42.00440299155981, 1495.219319361293, 180.04503645622668, 207.67351201195444, 442.94765043389197, 850.7110943986938, 364.3623824033913, 168.68234880847046, 174.62290709951654, 212.94522652787407, 242.43857113019706, 3386.155668670031, 2468.2564738226747, 2523.3654443946693, 854.9065360140033, 682.2818784408189, 983.9087430352625, 364.8854384308857, 2453.314423158586, 4242.455128079051, 1756.8810687590035, 1628.9082793000646, 1071.4134074664173, 756.2396881561436, 4815.566038477419, 766.9811478925703, 604.0037595654476, 430.24326088570825, 360.45999268550776, 300.94447909697107, 294.23556668929524, 246.92795640164277, 234.54937277838326, 196.3440529555933, 176.67661282839563, 116.21295951346507, 111.41537630767614, 106.62594884103063, 82.65076854406878, 81.21170878810206, 77.22367424553049, 70.92274278417459, 67.12315614192833, 43.479044572895546, 41.78901083207637, 32.642552253563956, 31.176328549622312, 29.15817581109907, 28.737390425209284, 28.55211343549068, 28.431928517943646, 26.938426124572274, 26.888294388839423, 26.29251270801883, 25.66768714767285, 1253.7558726062123, 657.6267039375937, 217.63863190833314, 154.10090816327394, 1572.80213268705, 510.31800062758055, 152.3164116466699, 841.3917697350223, 161.52814757130892, 4815.566038477419, 2523.3654443946693, 331.65539813181283, 3166.934350663249, 3386.155668670031, 850.7110943986938, 626.9671161346972, 2130.620024206403, 1617.862059587661, 1756.8810687590035, 450.76853842288375, 404.243505189199, 584.7603274983599, 298.082615659176, 219.74990383996794, 213.69027301288313, 200.49707427570175, 151.52685245103947, 145.93004478657053, 137.83268385428389, 124.16384545278255, 110.86953970096319, 97.14892592454217, 93.4729480070958, 88.35537442656991, 80.3557308758031, 79.1119704117806, 71.1182093061662, 65.76240399868608, 64.6172931393661, 58.68886538497598, 58.61075688050633, 57.011668935854786, 56.330949726561926, 56.302846269979696, 53.2304948631729, 52.810629007748204, 52.15599597391896, 51.383340610143705, 50.107490306826485, 49.376875901133985, 45.369563191748796, 44.90917450799763, 2468.2564738226747, 756.2396881561436, 270.7081862555439, 2453.314423158586, 620.7947764388475, 185.44898666142475, 126.84109615658349, 171.0968434770328, 2016.2790132359137, 676.8689056485155, 227.87778053662555, 184.07187576211308, 464.1991531763944, 3287.4145862291407, 1613.4038119126767, 1756.8810687590035, 1071.4134074664173, 795.5651630302698, 1106.203340266331, 423.56464753625545, 416.1447170002619, 368.0479201932059, 343.43845464003743, 330.054265041005, 208.9303338424708, 168.16972982426915, 160.02999451425416, 141.60344113904281, 134.5874337370139, 114.33745302952926, 100.85425222374622, 92.16273087386297, 85.52826216036398, 84.40075211808447, 83.11939069392712, 77.39997723187697, 72.39443765624108, 69.61383919608333, 66.46460288852744, 64.89936765770015, 64.66296342938713, 64.07880891903761, 62.66432671344651, 59.90576147084634, 58.37697409519548, 57.957428552645894, 56.85023030585933, 56.765531362468856, 95.12916624968395, 168.9394907310126, 80.9871078041709, 1253.7558726062123, 2170.930125975525, 178.4611746860433, 309.84008344390304, 306.5505723782501, 2630.31818556571, 128.92463628061606, 4815.566038477419, 1617.862059587661, 146.23094208070418, 430.1800938708449, 1071.4134074664173], \"Category\": [\"Default\", \"Default\", \"Default\", \"Default\", \"Default\", \"Default\", \"Default\", \"Default\", \"Default\", \"Default\", \"Default\", \"Default\", \"Default\", \"Default\", \"Default\", \"Default\", \"Default\", \"Default\", \"Default\", \"Default\", \"Default\", \"Default\", \"Default\", \"Default\", \"Default\", \"Default\", \"Default\", \"Default\", \"Default\", \"Default\", \"Topic1\", \"Topic1\", \"Topic1\", \"Topic1\", \"Topic1\", \"Topic1\", \"Topic1\", \"Topic1\", \"Topic1\", \"Topic1\", \"Topic1\", \"Topic1\", \"Topic1\", \"Topic1\", \"Topic1\", \"Topic1\", \"Topic1\", \"Topic1\", \"Topic1\", \"Topic1\", \"Topic1\", \"Topic1\", \"Topic1\", \"Topic1\", \"Topic1\", \"Topic1\", \"Topic1\", \"Topic1\", \"Topic1\", \"Topic1\", \"Topic1\", \"Topic1\", \"Topic1\", \"Topic1\", \"Topic1\", \"Topic1\", \"Topic1\", \"Topic1\", \"Topic1\", \"Topic1\", \"Topic1\", \"Topic1\", \"Topic1\", \"Topic1\", \"Topic1\", \"Topic1\", \"Topic1\", \"Topic1\", \"Topic1\", \"Topic1\", \"Topic1\", \"Topic1\", \"Topic2\", \"Topic2\", \"Topic2\", \"Topic2\", \"Topic2\", \"Topic2\", \"Topic2\", \"Topic2\", \"Topic2\", \"Topic2\", \"Topic2\", \"Topic2\", \"Topic2\", \"Topic2\", \"Topic2\", \"Topic2\", \"Topic2\", \"Topic2\", \"Topic2\", \"Topic2\", \"Topic2\", \"Topic2\", \"Topic2\", \"Topic2\", \"Topic2\", \"Topic2\", \"Topic2\", \"Topic2\", \"Topic2\", \"Topic2\", \"Topic2\", \"Topic2\", \"Topic2\", \"Topic2\", \"Topic2\", \"Topic2\", \"Topic2\", \"Topic2\", \"Topic2\", \"Topic2\", \"Topic2\", \"Topic2\", \"Topic2\", \"Topic2\", \"Topic2\", \"Topic2\", \"Topic2\", \"Topic2\", \"Topic2\", \"Topic2\", \"Topic2\", \"Topic2\", \"Topic2\", \"Topic2\", \"Topic2\", \"Topic2\", \"Topic2\", \"Topic2\", \"Topic2\", \"Topic2\", \"Topic2\", \"Topic2\", \"Topic2\", \"Topic2\", \"Topic3\", \"Topic3\", \"Topic3\", \"Topic3\", \"Topic3\", \"Topic3\", \"Topic3\", \"Topic3\", \"Topic3\", \"Topic3\", \"Topic3\", \"Topic3\", \"Topic3\", \"Topic3\", \"Topic3\", \"Topic3\", \"Topic3\", \"Topic3\", \"Topic3\", \"Topic3\", \"Topic3\", \"Topic3\", \"Topic3\", \"Topic3\", \"Topic3\", \"Topic3\", \"Topic3\", \"Topic3\", \"Topic3\", \"Topic3\", \"Topic3\", \"Topic3\", \"Topic3\", \"Topic3\", \"Topic3\", \"Topic3\", \"Topic3\", \"Topic3\", \"Topic3\", \"Topic3\", \"Topic3\", \"Topic3\", \"Topic3\", \"Topic3\", \"Topic3\", \"Topic3\", \"Topic3\", \"Topic3\", \"Topic3\", \"Topic3\", \"Topic3\", \"Topic3\", \"Topic3\", \"Topic3\", \"Topic3\", \"Topic3\", \"Topic3\", \"Topic4\", \"Topic4\", \"Topic4\", \"Topic4\", \"Topic4\", \"Topic4\", \"Topic4\", \"Topic4\", \"Topic4\", \"Topic4\", \"Topic4\", \"Topic4\", \"Topic4\", \"Topic4\", \"Topic4\", \"Topic4\", \"Topic4\", \"Topic4\", \"Topic4\", \"Topic4\", \"Topic4\", \"Topic4\", \"Topic4\", \"Topic4\", \"Topic4\", \"Topic4\", \"Topic4\", \"Topic4\", \"Topic4\", \"Topic4\", \"Topic4\", \"Topic4\", \"Topic4\", \"Topic4\", \"Topic4\", \"Topic4\", \"Topic4\", \"Topic4\", \"Topic4\", \"Topic4\", \"Topic4\", \"Topic4\", \"Topic4\", \"Topic4\", \"Topic4\", \"Topic4\", \"Topic4\", \"Topic4\", \"Topic4\", \"Topic4\", \"Topic4\", \"Topic4\", \"Topic4\", \"Topic4\", \"Topic4\", \"Topic4\", \"Topic5\", \"Topic5\", \"Topic5\", \"Topic5\", \"Topic5\", \"Topic5\", \"Topic5\", \"Topic5\", \"Topic5\", \"Topic5\", \"Topic5\", \"Topic5\", \"Topic5\", \"Topic5\", \"Topic5\", \"Topic5\", \"Topic5\", \"Topic5\", \"Topic5\", \"Topic5\", \"Topic5\", \"Topic5\", \"Topic5\", \"Topic5\", \"Topic5\", \"Topic5\", \"Topic5\", \"Topic5\", \"Topic5\", \"Topic5\", \"Topic5\", \"Topic5\", \"Topic5\", \"Topic5\", \"Topic5\", \"Topic5\", \"Topic5\", \"Topic5\", \"Topic5\", \"Topic5\", \"Topic5\", \"Topic5\", \"Topic5\", \"Topic5\", \"Topic5\", \"Topic5\", \"Topic5\", \"Topic5\", \"Topic5\", \"Topic5\", \"Topic5\", \"Topic5\", \"Topic5\", \"Topic5\", \"Topic6\", \"Topic6\", \"Topic6\", \"Topic6\", \"Topic6\", \"Topic6\", \"Topic6\", \"Topic6\", \"Topic6\", \"Topic6\", \"Topic6\", \"Topic6\", \"Topic6\", \"Topic6\", \"Topic6\", \"Topic6\", \"Topic6\", \"Topic6\", \"Topic6\", \"Topic6\", \"Topic6\", \"Topic6\", \"Topic6\", \"Topic6\", \"Topic6\", \"Topic6\", \"Topic6\", \"Topic6\", \"Topic6\", \"Topic6\", \"Topic6\", \"Topic6\", \"Topic6\", \"Topic6\", \"Topic6\", \"Topic6\", \"Topic6\", \"Topic6\", \"Topic6\", \"Topic6\", \"Topic6\", \"Topic6\", \"Topic6\", \"Topic6\", \"Topic6\", \"Topic6\", \"Topic6\", \"Topic6\", \"Topic6\", \"Topic6\", \"Topic6\", \"Topic6\", \"Topic7\", \"Topic7\", \"Topic7\", \"Topic7\", \"Topic7\", \"Topic7\", \"Topic7\", \"Topic7\", \"Topic7\", \"Topic7\", \"Topic7\", \"Topic7\", \"Topic7\", \"Topic7\", \"Topic7\", \"Topic7\", \"Topic7\", \"Topic7\", \"Topic7\", \"Topic7\", \"Topic7\", \"Topic7\", \"Topic7\", \"Topic7\", \"Topic7\", \"Topic7\", \"Topic7\", \"Topic7\", \"Topic7\", \"Topic7\", \"Topic7\", \"Topic7\", \"Topic7\", \"Topic7\", \"Topic7\", \"Topic7\", \"Topic7\", \"Topic7\", \"Topic7\", \"Topic7\", \"Topic7\", \"Topic7\", \"Topic7\", \"Topic7\", \"Topic7\", \"Topic7\", \"Topic7\", \"Topic7\", \"Topic8\", \"Topic8\", \"Topic8\", \"Topic8\", \"Topic8\", \"Topic8\", \"Topic8\", \"Topic8\", \"Topic8\", \"Topic8\", \"Topic8\", \"Topic8\", \"Topic8\", \"Topic8\", \"Topic8\", \"Topic8\", \"Topic8\", \"Topic8\", \"Topic8\", \"Topic8\", \"Topic8\", \"Topic8\", \"Topic8\", \"Topic8\", \"Topic8\", \"Topic8\", \"Topic8\", \"Topic8\", \"Topic8\", \"Topic8\", \"Topic8\", \"Topic8\", \"Topic8\", \"Topic8\", \"Topic8\", \"Topic8\", \"Topic8\", \"Topic8\", \"Topic8\", \"Topic8\", \"Topic8\", \"Topic8\", \"Topic8\", \"Topic8\", \"Topic8\"], \"logprob\": [30.0, 29.0, 28.0, 27.0, 26.0, 25.0, 24.0, 23.0, 22.0, 21.0, 20.0, 19.0, 18.0, 17.0, 16.0, 15.0, 14.0, 13.0, 12.0, 11.0, 10.0, 9.0, 8.0, 7.0, 6.0, 5.0, 4.0, 3.0, 2.0, 1.0, -3.053499937057495, -3.351599931716919, -3.9542999267578125, -4.08620023727417, -4.217299938201904, -4.657899856567383, -4.817500114440918, -4.933700084686279, -4.98330020904541, -5.03879976272583, -5.124300003051758, -5.172100067138672, -5.315299987792969, -5.456500053405762, -5.455900192260742, -5.632599830627441, -5.647600173950195, -5.857500076293945, -5.984099864959717, -6.089700222015381, -6.133699893951416, -6.228600025177002, -6.343200206756592, -6.397799968719482, -6.440299987792969, -6.458099842071533, -6.477499961853027, -6.515999794006348, -6.583600044250488, -6.668000221252441, -3.3624000549316406, -4.171500205993652, -3.2772998809814453, -4.275700092315674, -2.6833999156951904, -3.8104000091552734, -4.880300045013428, -5.94980001449585, -3.408600091934204, -3.4697999954223633, -4.745800018310547, -4.359799861907959, -3.149399995803833, -4.064300060272217, -3.912600040435791, -3.6152000427246094, -4.523099899291992, -4.850599765777588, -4.878200054168701, -4.568399906158447, -4.985599994659424, -4.896299839019775, -4.402400016784668, -4.7657999992370605, -5.139900207519531, -5.213200092315674, -5.3267998695373535, -5.582600116729736, -5.698500156402588, -5.948599815368652, -5.976600170135498, -5.980500221252441, -5.98769998550415, -6.028500080108643, -6.140999794006348, -6.159900188446045, -6.1834001541137695, -4.484399795532227, -6.247499942779541, -6.277400016784668, -6.313199996948242, -6.514500141143799, -6.519700050354004, -6.5493998527526855, -6.589600086212158, -6.6554999351501465, -6.6554999351501465, -6.696899890899658, -6.704800128936768, -6.710100173950195, -6.716300010681152, -6.718599796295166, -5.4868998527526855, -5.406099796295166, -5.827600002288818, -4.712399959564209, -5.290900230407715, -3.008699893951416, -4.941800117492676, -3.859299898147583, -2.7653000354766846, -4.24399995803833, -4.297100067138672, -2.210599899291992, -3.937999963760376, -4.2342000007629395, -3.5587000846862793, -3.06850004196167, -5.3043999671936035, -2.871000051498413, -4.088900089263916, -4.557000160217285, -3.414599895477295, -5.495100021362305, -5.247600078582764, -5.20550012588501, -4.585599899291992, -4.190000057220459, -4.384200096130371, -4.321400165557861, -4.951000213623047, -4.55019998550415, -4.841899871826172, -5.072400093078613, -5.135200023651123, -5.167699813842773, -3.8828999996185303, -4.490799903869629, -4.537099838256836, -4.742199897766113, -4.803699970245361, -4.995699882507324, -5.155099868774414, -5.164700031280518, -5.173699855804443, -5.190999984741211, -5.202099800109863, -5.235899925231934, -5.331099987030029, -5.331500053405762, -5.3557000160217285, -5.401599884033203, -5.426599979400635, -5.442200183868408, -5.461100101470947, -5.4928998947143555, -5.493599891662598, -5.532400131225586, -5.531599998474121, -5.597599983215332, -5.664999961853027, -5.6722002029418945, -5.628699779510498, -5.685500144958496, -5.689199924468994, -5.698699951171875, -5.068600177764893, -3.92549991607666, -4.328999996185303, -4.58050012588501, -4.687699794769287, -2.928100109100342, -4.260900020599365, -4.3333001136779785, -3.830199956893921, -5.123199939727783, -3.65310001373291, -4.7677001953125, -5.065299987792969, -4.7118000984191895, -5.003600120544434, -4.472599983215332, -4.685800075531006, -4.639100074768066, -4.13730001449585, -4.833600044250488, -4.7820000648498535, -4.648799896240234, -4.797500133514404, -4.427999973297119, -4.737299919128418, -4.848700046539307, -4.996300220489502, -3.8447999954223633, -3.881500005722046, -4.145299911499023, -4.350900173187256, -4.831999778747559, -4.8850998878479, -4.897900104522705, -5.156499862670898, -5.216800212860107, -5.263800144195557, -5.304999828338623, -5.459199905395508, -5.468699932098389, -5.512400150299072, -5.561699867248535, -5.615600109100342, -5.6697001457214355, -5.679999828338623, -5.75540018081665, -5.823699951171875, -5.8256001472473145, -5.8267998695373535, -5.9019999504089355, -6.002999782562256, -6.025199890136719, -6.052599906921387, -6.102200031280518, -6.148900032043457, -6.296500205993652, -6.315000057220459, -4.35099983215332, -2.9189000129699707, -3.0706000328063965, -4.813600063323975, -4.973599910736084, -4.952199935913086, -4.695899963378906, -2.6586999893188477, -4.081999778747559, -5.275300025939941, -3.6993000507354736, -4.221700191497803, -3.7327001094818115, -5.099899768829346, -4.567599773406982, -4.2378997802734375, -5.046199798583984, -4.165800094604492, -4.925600051879883, -4.832099914550781, -4.795400142669678, -4.706200122833252, -4.938700199127197, -4.975200176239014, -4.68720006942749, -5.0381999015808105, -2.5260000228881836, -3.97160005569458, -4.137800216674805, -4.595099925994873, -4.622300148010254, -4.746699810028076, -4.748899936676025, -4.390900135040283, -4.837500095367432, -4.877799987792969, -5.084799766540527, -5.207099914550781, -5.4745001792907715, -5.757500171661377, -5.803299903869629, -5.612400054931641, -5.898200035095215, -5.915800094604492, -5.984799861907959, -5.990099906921387, -6.015699863433838, -6.059500217437744, -6.089200019836426, -6.147600173950195, -6.1528000831604, -6.287499904632568, -6.309299945831299, -6.313799858093262, -6.318699836730957, -6.331699848175049, -2.887500047683716, -4.955900192260742, -4.839200019836426, -4.227099895477295, -3.7195000648498535, -4.482699871063232, -5.202400207519531, -5.180200099945068, -5.0406999588012695, -4.968400001525879, -3.0715999603271484, -3.3022000789642334, -3.364000082015991, -4.186999797821045, -4.371699810028076, -4.209499835968018, -4.810800075531006, -3.856600046157837, -3.86899995803833, -4.321800231933594, -4.597700119018555, -4.778600215911865, -5.008299827575684, -4.974699974060059, -3.1626999378204346, -3.401900053024292, -3.74180006980896, -3.919100046157837, -4.100100040435791, -4.122700214385986, -4.298600196838379, -4.350299835205078, -4.528800010681152, -4.634900093078613, -5.056600093841553, -5.099100112915039, -5.143400192260742, -5.400700092315674, -5.418499946594238, -5.469399929046631, -5.555600166320801, -5.611400127410889, -6.053400039672852, -6.093900203704834, -6.347400188446045, -6.394700050354004, -6.463799953460693, -6.478799819946289, -6.485499858856201, -6.4899001121521, -6.5457000732421875, -6.547699928283691, -6.570799827575684, -6.5960001945495605, -2.8952999114990234, -3.599600076675415, -4.618800163269043, -4.974699974060059, -3.0344998836517334, -4.020199775695801, -5.087800025939941, -3.7246999740600586, -5.099899768829346, -2.486999988555908, -3.002700090408325, -4.686299800872803, -3.180799961090088, -3.154900074005127, -4.134200096130371, -4.404699802398682, -4.175000190734863, -4.363999843597412, -4.354400157928467, -4.779900074005127, -4.968100070953369, -4.954599857330322, -3.876499891281128, -4.182499885559082, -4.210599899291992, -4.274600028991699, -4.556099891662598, -4.593999862670898, -4.651400089263916, -4.7565999031066895, -4.870800018310547, -5.0040998458862305, -5.043000221252441, -5.099899768829346, -5.195799827575684, -5.211599826812744, -5.319499969482422, -5.398799896240234, -5.4166998863220215, -5.514400005340576, -5.515699863433838, -5.543799877166748, -5.556000232696533, -5.55649995803833, -5.61359977722168, -5.621699810028076, -5.634399890899658, -5.649600028991699, -5.67519998550415, -5.690100193023682, -5.776500225067139, -5.786900043487549, -2.1821000576019287, -3.304800033569336, -4.226600170135498, -2.3392999172210693, -3.5643999576568604, -4.595900058746338, -4.944399833679199, -4.829999923706055, -3.442500114440918, -4.324900150299072, -4.899600028991699, -5.041200160980225, -4.694300174713135, -4.2769999504089355, -4.501100063323975, -4.718900203704834, -4.819900035858154, -4.944699764251709, -2.421999931335449, -3.3833000659942627, -3.4010000228881836, -3.5241000652313232, -3.5934998989105225, -3.6333000659942627, -4.092199802398682, -4.310299873352051, -4.360099792480469, -4.4832000732421875, -4.53439998626709, -4.698599815368652, -4.825200080871582, -4.916100025177002, -4.991600036621094, -5.005000114440918, -5.020500183105469, -5.092599868774414, -5.160299777984619, -5.199999809265137, -5.2469000816345215, -5.270999908447266, -5.274700164794922, -5.283899784088135, -5.306600093841553, -5.35230016708374, -5.378499984741211, -5.385900020599365, -5.405399799346924, -5.4070000648498535, -5.033100128173828, -4.747700214385986, -5.202199935913086, -3.9000000953674316, -3.716399908065796, -4.906899929046631, -4.728000164031982, -4.758800029754639, -4.069200038909912, -5.0518999099731445, -4.135000228881836, -4.434199810028076, -5.059100151062012, -5.017899990081787, -4.984899997711182], \"loglift\": [30.0, 29.0, 28.0, 27.0, 26.0, 25.0, 24.0, 23.0, 22.0, 21.0, 20.0, 19.0, 18.0, 17.0, 16.0, 15.0, 14.0, 13.0, 12.0, 11.0, 10.0, 9.0, 8.0, 7.0, 6.0, 5.0, 4.0, 3.0, 2.0, 1.0, 1.5336, 1.5335, 1.5329, 1.5328, 1.5326, 1.5317, 1.5313, 1.5309, 1.5308, 1.5306, 1.5303, 1.5301, 1.5295, 1.5288, 1.5288, 1.5277, 1.5277, 1.5262, 1.5251, 1.5241, 1.5236, 1.5226, 1.5212, 1.5205, 1.5199, 1.5197, 1.5194, 1.5188, 1.5177, 1.5163, 1.4133, 1.3989, 1.2755, 1.3414, 1.1255, 1.1743, 1.3028, 1.4592, 0.6553, 0.5646, 0.9752, 0.7849, 0.197, 0.5178, 0.4159, 0.067, 0.4715, 0.7367, 0.7582, 0.1978, 0.6391, -0.2057, 1.915, 1.9139, 1.9121, 1.9116, 1.9109, 1.9089, 1.9078, 1.905, 1.9046, 1.9046, 1.9045, 1.904, 1.9023, 1.902, 1.9017, 1.9015, 1.9006, 1.9001, 1.8995, 1.8954, 1.8953, 1.8946, 1.8937, 1.8921, 1.892, 1.891, 1.8908, 1.8906, 1.8905, 1.8904, 1.8789, 1.8777, 1.8488, 1.7686, 1.7956, 1.489, 1.6845, 1.5466, 1.336, 1.5375, 1.5152, 1.1359, 1.443, 1.3905, 1.2075, 0.9955, 1.6525, 0.8112, 0.9058, 1.0873, 0.3944, 1.5848, 1.404, 1.3239, 0.6847, 0.1666, 0.3887, 0.1575, 0.798, -0.2633, 0.3432, 0.3384, 0.5956, 0.259, 1.9543, 1.9529, 1.9527, 1.952, 1.9518, 1.9509, 1.9501, 1.95, 1.95, 1.9498, 1.9498, 1.9496, 1.9489, 1.9489, 1.9488, 1.9484, 1.9483, 1.9481, 1.948, 1.9477, 1.9477, 1.9474, 1.9474, 1.9468, 1.9462, 1.9461, 1.946, 1.946, 1.946, 1.9459, 1.9424, 1.8145, 1.8201, 1.7699, 1.7805, 1.3589, 1.6242, 1.5456, 1.3145, 1.7953, 1.1481, 1.5895, 1.7428, 1.533, 1.6722, 1.1509, 1.2873, 1.1525, 0.5533, 1.3225, 1.2335, 0.7323, 1.0577, -0.3641, 0.0357, 0.146, 1.1635, 1.96, 1.9599, 1.9594, 1.9589, 1.9572, 1.957, 1.9569, 1.9556, 1.9552, 1.9549, 1.9546, 1.9535, 1.9534, 1.953, 1.9526, 1.9521, 1.9516, 1.9515, 1.9507, 1.9499, 1.9499, 1.9499, 1.949, 1.9476, 1.9473, 1.9469, 1.9462, 1.9455, 1.9429, 1.9426, 1.7466, 1.56, 1.5116, 1.7447, 1.6802, 1.6679, 1.4688, 0.6877, 1.1031, 1.6059, 0.5876, 0.7629, 0.3686, 1.4521, 0.9152, 0.535, 1.3733, 0.3318, 0.8234, 0.5947, 0.4749, -0.0156, 0.6486, 0.8063, -1.005, 0.7525, 2.114, 2.1124, 2.112, 2.1106, 2.1105, 2.1099, 2.1099, 2.1095, 2.1095, 2.1093, 2.1081, 2.1073, 2.105, 2.102, 2.1014, 2.1004, 2.1001, 2.0999, 2.0988, 2.0987, 2.0983, 2.0976, 2.0971, 2.096, 2.096, 2.0933, 2.0928, 2.0928, 2.0926, 2.0923, 1.9643, 2.0127, 1.9866, 1.8413, 1.6963, 1.781, 1.8314, 1.819, 1.7601, 1.7026, 0.9628, 1.0484, 0.9645, 1.2239, 1.2647, 1.0608, 1.4515, 0.5001, -0.0601, 0.3688, 0.1685, 0.4065, 0.5252, -1.2925, 2.3567, 2.3563, 2.3557, 2.3553, 2.3548, 2.3547, 2.3541, 2.3539, 2.3531, 2.3526, 2.3498, 2.3495, 2.3491, 2.3465, 2.3463, 2.3457, 2.3446, 2.3439, 2.3362, 2.3353, 2.3288, 2.3275, 2.3253, 2.3248, 2.3246, 2.3244, 2.3225, 2.3224, 2.3217, 2.3206, 2.1326, 2.0736, 2.1602, 2.1495, 1.7667, 1.9066, 2.048, 1.7021, 1.9772, 1.1952, 1.3258, 1.6714, 0.9205, 0.8795, 1.2816, 1.3162, 0.3227, 0.409, 0.3362, 1.271, 1.1917, 0.836, 2.588, 2.5869, 2.5867, 2.5864, 2.585, 2.5847, 2.5843, 2.5836, 2.5827, 2.5815, 2.5811, 2.5806, 2.5795, 2.5793, 2.578, 2.5769, 2.5767, 2.5752, 2.5752, 2.5747, 2.5746, 2.5746, 2.5736, 2.5734, 2.5732, 2.5729, 2.5725, 2.5722, 2.5705, 2.5703, 2.1685, 2.2286, 2.3342, 2.0173, 2.1664, 2.3432, 2.3745, 2.1896, 1.1103, 1.3195, 1.8334, 1.9053, 1.3272, -0.213, 0.2746, -0.0283, 0.3652, 0.5381, 2.7312, 2.7298, 2.7298, 2.7295, 2.7293, 2.7292, 2.7276, 2.7266, 2.7263, 2.7256, 2.7252, 2.724, 2.723, 2.7221, 2.7213, 2.7212, 2.721, 2.7202, 2.7194, 2.7189, 2.7183, 2.718, 2.7179, 2.7178, 2.7175, 2.7168, 2.7164, 2.7163, 2.716, 2.7159, 2.5735, 2.2845, 2.5653, 1.128, 0.7625, 2.0706, 1.6977, 1.6777, 0.2178, 2.2507, -0.4527, 0.3388, 2.1176, 1.0797, 0.2002]}, \"token.table\": {\"Topic\": [1, 4, 5, 4, 1, 7, 1, 3, 4, 1, 2, 7, 3, 6, 2, 8, 2, 1, 2, 3, 4, 7, 8, 6, 8, 1, 4, 4, 7, 6, 7, 5, 1, 4, 7, 1, 4, 3, 6, 1, 2, 3, 4, 5, 8, 2, 2, 4, 7, 1, 4, 5, 7, 2, 2, 8, 8, 1, 5, 8, 3, 4, 7, 4, 7, 3, 1, 2, 3, 5, 7, 8, 2, 6, 5, 1, 5, 1, 3, 6, 3, 3, 3, 2, 3, 4, 5, 6, 6, 2, 3, 1, 2, 6, 4, 1, 3, 7, 4, 8, 5, 7, 7, 1, 1, 5, 4, 3, 5, 2, 1, 1, 2, 2, 7, 1, 3, 4, 5, 6, 7, 8, 2, 7, 3, 4, 3, 1, 3, 6, 1, 5, 6, 5, 7, 1, 5, 5, 1, 2, 5, 1, 2, 5, 6, 2, 4, 5, 6, 8, 8, 8, 5, 2, 4, 6, 6, 2, 3, 4, 8, 2, 7, 5, 7, 8, 1, 3, 8, 2, 4, 7, 7, 1, 2, 5, 6, 7, 2, 3, 4, 5, 7, 8, 3, 1, 2, 4, 5, 7, 6, 1, 8, 5, 6, 8, 4, 7, 1, 2, 1, 4, 5, 7, 1, 2, 3, 5, 7, 8, 1, 2, 1, 3, 8, 1, 2, 3, 7, 8, 2, 4, 6, 4, 5, 1, 1, 8, 2, 6, 1, 2, 4, 5, 6, 8, 7, 2, 3, 5, 3, 1, 2, 3, 5, 7, 8, 8, 6, 1, 6, 6, 7, 7, 3, 1, 6, 6, 1, 2, 6, 7, 2, 1, 2, 3, 5, 3, 4, 6, 1, 2, 3, 8, 2, 4, 3, 1, 5, 7, 3, 4, 8, 4, 4, 5, 7, 3, 2, 1, 5, 1, 3, 5, 6, 5, 3, 1, 2, 3, 4, 5, 6, 7, 4, 8, 5, 8, 1, 2, 4, 5, 6, 8, 1, 3, 1, 3, 6, 3, 2, 4, 5, 6, 7, 8, 1, 2, 4, 5, 1, 2, 5, 8, 4, 7, 4, 8, 1, 4, 1, 7, 2, 3, 2, 1, 1, 4, 5, 8, 1, 2, 2, 4, 5, 7, 8, 7, 3, 5, 7, 5, 2, 3, 4, 6, 1, 2, 3, 4, 7, 8, 5, 6, 5, 1, 7, 3, 4, 7, 3, 4, 3, 1, 8, 1, 2, 4, 5, 6, 2, 1, 6, 8, 1, 4, 1, 2, 5, 4, 8, 3, 4, 2, 1, 2, 3, 4, 3, 5, 7, 2, 4, 6, 8, 4, 8, 6, 4, 1, 2, 3, 5, 2, 2, 6, 8, 6, 1, 5, 3, 3, 1, 2, 3, 5, 4, 5, 2, 6, 8, 6, 5, 5, 5, 6, 2, 8, 8, 5, 6, 1, 3, 8, 2, 5, 7, 4, 6, 1, 8, 3, 4, 3, 7, 3, 5, 8, 1, 3, 4, 1, 2, 8, 7, 7, 7, 5, 3, 6, 7, 1, 5, 6, 6, 8, 4, 5, 6, 3, 3, 4, 5, 6, 4, 1, 2, 6, 8, 8, 5, 5, 6, 8, 3, 8, 3, 4, 4, 3, 6, 4, 8, 4, 7, 1, 2, 4, 3, 4, 5, 6, 7, 8, 2, 4, 8, 2, 6, 7, 5, 1, 2, 3, 4, 5, 1, 3, 2, 6, 4, 5, 7, 1, 5, 2, 3, 4, 3, 7, 8, 2, 5, 8, 4, 7, 7, 1, 2, 4, 5, 6, 8, 2, 4, 6, 4, 7, 4, 3, 7, 1, 2, 4, 5, 3, 1, 4, 3, 2, 3, 2, 4, 7, 1, 5, 3, 4, 8, 1, 3, 1, 2, 3, 4, 5, 6, 8, 4, 1, 4, 7, 3, 1, 2, 7, 5, 1], \"Freq\": [0.226228566734752, 0.6115629386455933, 0.1615918333819657, 0.9934752480223134, 0.9740424871843574, 0.9965874668117531, 0.26728506546998543, 0.12815037385547245, 0.6004760374942137, 0.9902344359145759, 0.9672307151953625, 0.9698131721929852, 0.9963162514686505, 0.9962419953772533, 0.9824213430109429, 0.9956353002601881, 0.9756066265911625, 0.0055275846313145175, 0.17181575562335957, 0.0023031602630477154, 0.6692983724416661, 0.011055169262629035, 0.13957151194069156, 0.9958007568452798, 0.9938235368400974, 0.36210884277355765, 0.6373932803686883, 0.9938250849379832, 0.9904469359613266, 0.9841541566432096, 0.9721149652341134, 0.9760019644180304, 0.1685511457448795, 0.744760876547142, 0.08231567582889464, 0.9906346597065558, 0.9933606905790865, 0.2463403615303511, 0.7527066602316284, 0.005472628090222026, 0.23349879851613978, 0.40679868803983726, 0.18971777379436358, 0.16417884270666078, 0.9968057827070527, 0.9879238747802398, 0.9697502409850645, 0.2156927396590644, 0.7818861812641086, 0.18095681438712197, 0.23696725693551685, 0.29944044285488036, 0.28220646053229737, 0.9658224731220697, 0.9958395935339697, 0.9972492333712333, 0.9764123763429389, 0.13911002707539288, 0.8607432925289935, 0.9873839364042465, 0.997954287198481, 0.9869400171778242, 0.9768600282882259, 0.9938605679714333, 0.9895794404813519, 0.9935979127625205, 0.41521991345963327, 0.3975768695177588, 0.09825350333147366, 0.005475427430236922, 0.06053389214539709, 0.02281428095932051, 0.9697808308085383, 0.996861616801195, 0.9803622690779781, 0.9965202670345754, 0.9957798693100238, 0.3343704242694339, 0.66313687494776, 0.9651640329604751, 0.987715180850614, 0.9978587041473818, 0.9884242158317643, 0.5513150322340569, 0.06085945161025303, 0.38663651611219574, 0.9948915153081711, 0.9983381567588756, 0.9602795518278544, 0.9590620693867111, 0.030446414901165432, 0.408517436505532, 0.5895978604884806, 0.9976577520891419, 0.9931819334878952, 0.1935962376015709, 0.7179976967359232, 0.08646045562788603, 0.3551567471902274, 0.6392821449424092, 0.6997104486890023, 0.2958507266268936, 0.9797552611919926, 0.9933808406471084, 0.9964996100601593, 0.9811518715911454, 0.9936798909503831, 0.9934586300761343, 0.9739860784474036, 0.9901910087917051, 0.9842903710123325, 0.9981647419536153, 0.9942793556293206, 0.3273000182935413, 0.6721339661385223, 0.0791889878134382, 0.15586403950581484, 0.3506940888880834, 0.1860312729585532, 0.0716471794502536, 0.12821074217413803, 0.028910265392207594, 0.9837904805033739, 0.983128385977865, 0.9950987213969789, 0.9962912156818522, 0.9926928310992688, 0.8253074305155939, 0.17397595660694573, 0.9889821734216723, 0.32694432026586995, 0.3166406204756728, 0.35627023505335403, 0.9939472864830124, 0.9949402686319481, 0.9939366435598531, 0.9925007679010843, 0.9987702193710318, 0.4602203428259986, 0.111390911002471, 0.4279756054305465, 0.9917798240165464, 0.9931350954494887, 0.981904025234055, 0.962268534996031, 0.26232047025335253, 0.07537944547510131, 0.06633391201808915, 0.5035346957736767, 0.09347051238912561, 0.9897474010743245, 0.9930097695865774, 0.9913842827991037, 0.5987177894655632, 0.3924028755281056, 0.004045390469361913, 0.9811191790289818, 0.7138745931899179, 0.09932168253077119, 0.18002054958702277, 0.9957385135969239, 0.9714810293471048, 0.9881735601952556, 0.9053290399351235, 0.09442082011593311, 0.9955471576321118, 0.12517887054159527, 0.8681235957040503, 0.006502798469693261, 0.6828961414462237, 0.3151828345136417, 0.9906265350550443, 0.9763726737606496, 0.07534693878593277, 0.43583033219314055, 0.05318607443712901, 0.1536486594850394, 0.28070428175151424, 0.9860475129705475, 0.5131073380285548, 0.09235932084513987, 0.2770779625354196, 0.03283886963382751, 0.08209717408456878, 0.9963360013225963, 0.04076118375045148, 0.1736426427769233, 0.023233874737757343, 0.19891457670220322, 0.5633195594312395, 0.9739872492666958, 0.9930964353214181, 0.9987233385367489, 0.26261122861000985, 0.7353114401080276, 0.9971527615407911, 0.9872407032089683, 0.9778357990805693, 0.9991086227263826, 0.9924493401832372, 0.19161320511977165, 0.8033015137713504, 0.9798180337062158, 0.9884066890452893, 0.34562540330063246, 0.3633695646307989, 0.16355487834762072, 0.10492199743054914, 0.003085941100898504, 0.019287131880615652, 0.3096117768223836, 0.6902247505852387, 0.2714764300270691, 0.10083410258148282, 0.6205175543475865, 0.15204199126624113, 0.26339668909503744, 0.4861060847526301, 0.09422320585513536, 0.006424309490122865, 0.5589001235940714, 0.20335123140936834, 0.23745361183205743, 0.9972774054464342, 0.9888735444380469, 0.9880993136309985, 0.9977603831635572, 0.9935637408638266, 0.9962359445655914, 0.987296400599433, 0.23050249776056622, 0.330594573364704, 0.05149965715731569, 0.03322558526278432, 0.3127358212859574, 0.041324321670588, 0.984276751101082, 0.6693171613373108, 0.14679540875283056, 0.1834942609410382, 0.9943151626381572, 0.08216710241132832, 0.1746050926240727, 0.4484954339951671, 0.21911227309687553, 0.07531984387705097, 0.9989121889054853, 0.9915298343410346, 0.9931546031806867, 0.9784598118339145, 0.996170331672292, 0.9508410351504886, 0.9859443469048647, 0.9975207903781268, 0.9931964652909937, 0.995772178788021, 0.9850796294501861, 0.9669635278462241, 0.5435161931602153, 0.10870323863204305, 0.3372018831034805, 0.008873733765881065, 0.9717311791962854, 0.08288344842506731, 0.6221935580402314, 0.294065933453321, 0.9824095989121454, 0.6931001590039858, 0.15368742656175335, 0.15067394760956213, 0.14200874047971995, 0.1613735687269545, 0.33888449432660445, 0.35502185119929985, 0.9355215803115053, 0.05635672170551237, 0.9934696541704209, 0.9993115082769104, 0.3443726407748768, 0.6555234503220596, 0.8290773327947308, 0.053875061336841716, 0.11373624059999918, 0.9935394861258638, 0.10724366126558793, 0.6640857486061407, 0.2268615911387437, 0.9922336495309727, 0.9828314661491309, 0.7925458648936752, 0.20509972861465714, 0.9925193432039704, 0.9940351696083342, 0.9947059238104293, 0.9971103303671768, 0.9975314149319481, 0.9938765633605303, 0.1753106715513532, 0.06033419215728389, 0.24589029256553432, 0.13831328956811306, 0.17474148105930334, 0.13262138464761458, 0.07285638298238054, 0.991443954557365, 0.9861421198671194, 0.7528944249181728, 0.24306040489484318, 0.1487789029262489, 0.2599355545378142, 0.29926790818498344, 0.07353440029688164, 0.2188930985581593, 0.9834035588198943, 0.995650623686278, 0.992189289589598, 0.23500686784203725, 0.45269744015887176, 0.3116933194536494, 0.9907205423246569, 0.3264403582705067, 0.31987874302888847, 0.16732118866126475, 0.07381817146820503, 0.10826665148670073, 0.0032808076208091126, 0.45071111326022983, 0.13814365390948222, 0.2693103556013138, 0.14093443479654247, 0.6647094465031791, 0.21803412695583005, 0.1136134585867136, 0.0035356885452296765, 0.9908733907419671, 0.9846599662401258, 0.4818975340227081, 0.5155182922103388, 0.9948151387910935, 0.983259442835038, 0.9904236792953234, 0.9967697499603011, 0.9831277022803541, 0.012405396874200052, 0.9934535364506665, 0.9982494251787429, 0.08155261236685188, 0.30663782249936306, 0.260968359573926, 0.34904518093012604, 0.9961539400954319, 0.9860517050567145, 0.2072029325495989, 0.4237393305293599, 0.181069229345145, 0.10826819898988051, 0.07933445615637796, 0.9939587343799806, 0.09917490601804341, 0.20363914035704914, 0.6955466742065445, 0.9843618615644457, 0.19016111846493156, 0.03446670272176885, 0.254340495946846, 0.5193775548073444, 0.0019009107063313849, 0.11291409595608426, 0.550503740553569, 0.25320130608334046, 0.00038018214126627696, 0.08097879608971699, 0.9790193004506098, 0.9806629573415608, 0.9760881498122559, 0.7722145545229776, 0.2276470652061957, 0.18830309579440146, 0.7023196545845244, 0.11196400290477926, 0.9922683933297861, 0.9920933580041335, 0.9922980928295062, 0.9981638144091144, 0.9834804859954025, 0.2795627240310222, 0.20587045786384903, 0.01988521468003087, 0.410571197217108, 0.08421973276248369, 0.9822576399564535, 0.9838905261617942, 0.9987238731208956, 0.985044382383589, 0.6981096282718648, 0.30169945641946017, 0.9952761933026523, 0.7684760241268853, 0.23054280723806558, 0.9913711537552423, 0.9865327370114023, 0.990082484591663, 0.9843828307880136, 0.9960711796496375, 0.032073451297963865, 0.2277215042155434, 0.182818672398394, 0.5548707074547748, 0.2519715238443755, 0.7444613204492913, 0.9882624177438549, 0.6514535601048769, 0.19618702314397587, 0.13047845079910358, 0.022059306430064273, 0.8066389052957469, 0.19061783929179033, 0.9496366024893478, 0.9851892304215372, 0.12388972067435934, 0.1454357590525088, 0.6544609157362896, 0.07541113432352307, 0.9609262299737559, 0.9815507869937271, 0.7984010459063273, 0.2009960675008936, 0.9941294886673049, 0.9317803403472728, 0.06902076595164984, 0.9891647882444166, 0.9914977106835428, 0.2627526702632452, 0.49174039458144725, 0.10252265405131297, 0.1430405891853648, 0.9949079173365996, 0.9875748807095216, 0.2625813705086026, 0.6368578016066853, 0.09993768579058754, 0.9895626140273579, 0.9995205306301765, 0.9959007510245923, 0.8811908568747364, 0.11556601401635887, 0.9851299407477342, 0.9848802277342366, 0.9883025815768011, 0.9872416621420492, 0.9987207666117137, 0.9826547412356267, 0.8737653951374621, 0.1248236278767803, 0.8874075569881805, 0.1124882818717412, 0.9822550548907271, 0.17460135485507536, 0.8224642768173286, 0.13665630124287134, 0.8514738769748138, 0.7542390502476822, 0.24450606573963327, 0.4943721012416077, 0.5052374221480167, 0.2826856036031927, 0.7163198304896438, 0.9911822246384902, 0.14189690528893867, 0.1013549323492419, 0.7540806966783598, 0.9840550441998297, 0.7927992017164526, 0.2051022810410723, 0.9936267765289131, 0.992157091088242, 0.9730780328075708, 0.9881444021104064, 0.44570132849602523, 0.5537886692154608, 0.9768836478725993, 0.5725978137629673, 0.07496405918345253, 0.35249057616048957, 0.9869894656079138, 0.9831643418903016, 0.9876066603997755, 0.6582728304440693, 0.34089128719425016, 0.995645799432514, 0.08769875865041196, 0.09317993106606272, 0.5152302070711703, 0.30146448286079114, 0.9811264871507277, 0.8739878927890623, 0.12485541325558033, 0.6809958614268075, 0.3095435733758216, 0.9865141513856243, 0.9953249292060172, 0.9777604335358916, 0.9803155020302127, 0.9893986459555472, 0.14817173159234598, 0.8519874566559894, 0.994643899549469, 0.999082372516307, 0.98970726172427, 0.9878056445317709, 0.9832672328524976, 0.975853956457031, 0.9819124335439675, 0.1892131235634573, 0.8041557751446935, 0.2625836827634616, 0.45748044673656796, 0.27980228491188536, 0.5299363765093258, 0.03943712569371727, 0.16021332313072642, 0.15528368241901175, 0.04683158676128926, 0.0665501496081479, 0.973880920139942, 0.9956360080743232, 0.993044349744205, 0.9778787052284874, 0.8111568029667887, 0.18169912386456066, 0.9782232084456894, 0.22860761420431222, 0.10562250529692907, 0.4470870429691929, 0.15915719976249584, 0.05787534536818031, 0.4723949310989421, 0.5261780352088786, 0.9931039858624487, 0.9921262856288893, 0.9877167459898054, 0.9825042731107958, 0.98465026789154, 0.003477538862817894, 0.9945761147659177, 0.9858262712725567, 0.8385275546044333, 0.15827628540726252, 0.9850941120719404, 0.011589342494964005, 0.9807383315433369, 0.23250893084745058, 0.2188319349152476, 0.5402413393220176, 0.9810404305324565, 0.996523042335287, 0.9963680684404157, 0.3791910726019021, 0.025397532900127397, 0.05109038595025628, 0.3159925605015851, 0.22798715580114362, 0.9986669153350266, 0.8628453384662178, 0.1364182353306273, 0.9743403832324864, 0.2253348923198689, 0.7720490572926655, 0.9985370148551067, 0.9962705404595859, 0.9778977095032116, 0.13314242903856893, 0.29169371858068155, 0.22563068127146796, 0.34860956610861943, 0.9962566121594514, 0.9987365744316659, 0.997280941445602, 0.9908195035153474, 0.9584334518965182, 0.033049429375742005, 0.2657883188813423, 0.07893107651627741, 0.6540003482777271, 0.23704832816507015, 0.7608122532536061, 0.8504707162772331, 0.08451882894680578, 0.05810669490092897, 0.1892083233693257, 0.8088655824038673, 0.12609233203230738, 0.2169529830555877, 0.14648962103753357, 0.24044077039493905, 0.03646788034267713, 0.1421629233697583, 0.09147875069010535, 0.9958108669148422, 0.2150275462777052, 0.31595884351009745, 0.4695499479941726, 0.9891082990303787, 0.8863249171977268, 0.014875383225696115, 0.09854941387023676, 0.9931562873693812, 0.9980946439483974], \"Term\": [\"access\", \"access\", \"access\", \"account\", \"activity\", \"ad\", \"add\", \"add\", \"add\", \"adult\", \"advertise\", \"advertising\", \"affordable\", \"age\", \"ago\", \"alexa\", \"alternative\", \"amazon\", \"amazon\", \"amazon\", \"amazon\", \"amazon\", \"amazon\", \"android\", \"annoying\", \"app\", \"app\", \"apple\", \"application\", \"appropriate\", \"area\", \"audio\", \"available\", \"available\", \"available\", \"away\", \"basic\", \"battery\", \"battery\", \"be\", \"be\", \"be\", \"be\", \"be\", \"beat\", \"beginner\", \"best\", \"better\", \"better\", \"big\", \"big\", \"big\", \"big\", \"bill\", \"birthday\", \"black\", \"bluetooth\", \"book\", \"book\", \"brand\", \"break\", \"browser\", \"buck\", \"budget\", \"busy\", \"button\", \"buy\", \"buy\", \"buy\", \"buy\", \"buy\", \"buy\", \"call\", \"camera\", \"capacity\", \"card\", \"carry\", \"case\", \"case\", \"catch\", \"change\", \"charge\", \"charger\", \"cheap\", \"cheap\", \"cheap\", \"check\", \"child\", \"childs\", \"choice\", \"choice\", \"christmas\", \"christmas\", \"clear\", \"close\", \"come\", \"come\", \"come\", \"complaint\", \"complaint\", \"computer\", \"computer\", \"constant\", \"content\", \"control\", \"convenient\", \"cost\", \"cover\", \"crisp\", \"customer\", \"dad\", \"daughter\", \"deal\", \"decide\", \"decide\", \"device\", \"device\", \"device\", \"device\", \"device\", \"device\", \"device\", \"die\", \"difference\", \"disappoint\", \"display\", \"dollar\", \"download\", \"download\", \"durability\", \"easy\", \"easy\", \"easy\", \"ebook\", \"edition\", \"educational\", \"electronic\", \"email\", \"enjoy\", \"enjoy\", \"enjoy\", \"entertain\", \"everyday\", \"exactly\", \"exceed\", \"excellent\", \"excellent\", \"excellent\", \"excellent\", \"excellent\", \"exchange\", \"excited\", \"expandable\", \"expect\", \"expect\", \"expect\", \"expectation\", \"expensive\", \"expensive\", \"expensive\", \"experience\", \"explore\", \"extremely\", \"facebook\", \"facebook\", \"family\", \"far\", \"far\", \"far\", \"fast\", \"fast\", \"faster\", \"father\", \"feature\", \"feature\", \"feature\", \"feature\", \"feature\", \"finally\", \"find\", \"find\", \"find\", \"find\", \"find\", \"fine\", \"fire\", \"fire\", \"fire\", \"fire\", \"fire\", \"format\", \"freetime\", \"friday\", \"friend\", \"friend\", \"friendly\", \"function\", \"galaxy\", \"game\", \"gaming\", \"gb\", \"gb\", \"geek\", \"generation\", \"get\", \"get\", \"get\", \"get\", \"get\", \"get\", \"gift\", \"gift\", \"glad\", \"glad\", \"glad\", \"go\", \"go\", \"go\", \"go\", \"go\", \"good\", \"good\", \"good\", \"google\", \"grand\", \"grandchild\", \"granddaughter\", \"grandkid\", \"grandson\", \"graphic\", \"great\", \"great\", \"great\", \"great\", \"great\", \"great\", \"handy\", \"happy\", \"happy\", \"happy\", \"hard\", \"have\", \"have\", \"have\", \"have\", \"have\", \"hd\", \"helpful\", \"highly\", \"hit\", \"husband\", \"image\", \"improvement\", \"inch\", \"include\", \"inexpensive\", \"install\", \"integration\", \"internet\", \"internet\", \"internet\", \"internet\", \"investment\", \"ipad\", \"ipad\", \"ipad\", \"iphone\", \"issue\", \"issue\", \"issue\", \"item\", \"item\", \"item\", \"item\", \"job\", \"job\", \"keyboard\", \"kid\", \"kindle\", \"kindle\", \"know\", \"know\", \"know\", \"lack\", \"large\", \"large\", \"large\", \"last\", \"law\", \"learn\", \"learn\", \"learning\", \"let\", \"library\", \"life\", \"light\", \"lightweight\", \"like\", \"like\", \"like\", \"like\", \"like\", \"like\", \"like\", \"limited\", \"link\", \"listen\", \"listen\", \"little\", \"little\", \"little\", \"little\", \"little\", \"live\", \"load\", \"lock\", \"long\", \"long\", \"long\", \"longer\", \"look\", \"look\", \"look\", \"look\", \"look\", \"look\", \"lot\", \"lot\", \"lot\", \"lot\", \"love\", \"love\", \"love\", \"love\", \"medium\", \"meet\", \"member\", \"member\", \"memory\", \"micro\", \"mode\", \"model\", \"money\", \"money\", \"mother\", \"movie\", \"music\", \"music\", \"music\", \"music\", \"navigate\", \"nd\", \"need\", \"need\", \"need\", \"need\", \"need\", \"nephew\", \"new\", \"new\", \"new\", \"nexus\", \"nice\", \"nice\", \"nice\", \"nice\", \"not\", \"not\", \"not\", \"not\", \"not\", \"not\", \"number\", \"numerous\", \"oh\", \"old\", \"old\", \"online\", \"online\", \"online\", \"open\", \"os\", \"parent\", \"parental\", \"pass\", \"perfect\", \"perfect\", \"perfect\", \"perfect\", \"perfect\", \"perform\", \"person\", \"picture\", \"pink\", \"play\", \"play\", \"playing\", \"pleased\", \"pleased\", \"point\", \"portable\", \"power\", \"powerful\", \"present\", \"pretty\", \"pretty\", \"pretty\", \"pretty\", \"previous\", \"previous\", \"previously\", \"price\", \"price\", \"price\", \"price\", \"prime\", \"prime\", \"prior\", \"pro\", \"problem\", \"problem\", \"problem\", \"problem\", \"process\", \"processing\", \"product\", \"product\", \"profile\", \"program\", \"program\", \"protective\", \"provide\", \"purchase\", \"purchase\", \"purchase\", \"purchase\", \"purpose\", \"purse\", \"quality\", \"quality\", \"quality\", \"quick\", \"read\", \"reader\", \"reading\", \"reading\", \"ready\", \"reasonable\", \"receive\", \"recently\", \"recommend\", \"reliable\", \"replace\", \"replace\", \"replacement\", \"replacement\", \"research\", \"resolution\", \"resolution\", \"responsive\", \"responsive\", \"return\", \"return\", \"review\", \"review\", \"right\", \"right\", \"road\", \"run\", \"run\", \"run\", \"safe\", \"sale\", \"sale\", \"samsung\", \"satisfied\", \"save\", \"savvy\", \"screen\", \"screen\", \"selection\", \"set\", \"set\", \"set\", \"sharp\", \"shopping\", \"silk\", \"size\", \"size\", \"slow\", \"small\", \"small\", \"small\", \"small\", \"social\", \"son\", \"son\", \"sound\", \"sound\", \"special\", \"speed\", \"squad\", \"st\", \"starter\", \"step\", \"step\", \"stop\", \"store\", \"streaming\", \"strong\", \"sturdy\", \"subscription\", \"surprise\", \"tab\", \"tab\", \"tablet\", \"tablet\", \"tablet\", \"take\", \"take\", \"take\", \"take\", \"take\", \"take\", \"task\", \"tech\", \"tell\", \"th\", \"thank\", \"thank\", \"thin\", \"thing\", \"thing\", \"thing\", \"thing\", \"thing\", \"time\", \"time\", \"toddler\", \"ton\", \"tool\", \"totally\", \"transfer\", \"travel\", \"travel\", \"trouble\", \"try\", \"try\", \"turn\", \"turn\", \"understand\", \"unit\", \"unit\", \"unit\", \"unlimited\", \"update\", \"upgrade\", \"use\", \"use\", \"use\", \"use\", \"use\", \"user\", \"value\", \"value\", \"versatile\", \"version\", \"version\", \"video\", \"view\", \"volume\", \"want\", \"want\", \"want\", \"want\", \"warranty\", \"watch\", \"web\", \"week\", \"weight\", \"weight\", \"well\", \"well\", \"well\", \"wife\", \"wife\", \"will\", \"will\", \"will\", \"wish\", \"wish\", \"work\", \"work\", \"work\", \"work\", \"work\", \"work\", \"work\", \"worry\", \"worth\", \"worth\", \"worth\", \"wrong\", \"year\", \"year\", \"year\", \"young\", \"yr\"]}, \"R\": 30, \"lambda.step\": 0.01, \"plot.opts\": {\"xlab\": \"PC1\", \"ylab\": \"PC2\"}, \"topic.order\": [7, 5, 1, 3, 6, 4, 2, 8]};\n",
       "\n",
       "function LDAvis_load_lib(url, callback){\n",
       "  var s = document.createElement('script');\n",
       "  s.src = url;\n",
       "  s.async = true;\n",
       "  s.onreadystatechange = s.onload = callback;\n",
       "  s.onerror = function(){console.warn(\"failed to load library \" + url);};\n",
       "  document.getElementsByTagName(\"head\")[0].appendChild(s);\n",
       "}\n",
       "\n",
       "if(typeof(LDAvis) !== \"undefined\"){\n",
       "   // already loaded: just create the visualization\n",
       "   !function(LDAvis){\n",
       "       new LDAvis(\"#\" + \"ldavis_el1696018137456774407579544029\", ldavis_el1696018137456774407579544029_data);\n",
       "   }(LDAvis);\n",
       "}else if(typeof define === \"function\" && define.amd){\n",
       "   // require.js is available: use it to load d3/LDAvis\n",
       "   require.config({paths: {d3: \"https://cdnjs.cloudflare.com/ajax/libs/d3/3.5.5/d3.min\"}});\n",
       "   require([\"d3\"], function(d3){\n",
       "      window.d3 = d3;\n",
       "      LDAvis_load_lib(\"https://cdn.rawgit.com/bmabey/pyLDAvis/files/ldavis.v1.0.0.js\", function(){\n",
       "        new LDAvis(\"#\" + \"ldavis_el1696018137456774407579544029\", ldavis_el1696018137456774407579544029_data);\n",
       "      });\n",
       "    });\n",
       "}else{\n",
       "    // require.js not available: dynamically load d3 & LDAvis\n",
       "    LDAvis_load_lib(\"https://cdnjs.cloudflare.com/ajax/libs/d3/3.5.5/d3.min.js\", function(){\n",
       "         LDAvis_load_lib(\"https://cdn.rawgit.com/bmabey/pyLDAvis/files/ldavis.v1.0.0.js\", function(){\n",
       "                 new LDAvis(\"#\" + \"ldavis_el1696018137456774407579544029\", ldavis_el1696018137456774407579544029_data);\n",
       "            })\n",
       "         });\n",
       "}\n",
       "</script>"
      ],
      "text/plain": [
       "PreparedData(topic_coordinates=              x         y  topics  cluster       Freq\n",
       "topic                                                \n",
       "6     -0.103119 -0.180982       1        1  21.564766\n",
       "4      0.021129 -0.169183       2        1  14.693304\n",
       "0      0.086730  0.089733       3        1  14.143897\n",
       "2      0.095082 -0.101275       4        1  14.063584\n",
       "5     -0.202882  0.007740       5        1  12.069387\n",
       "3      0.065944 -0.103403       6        1   9.461903\n",
       "1     -0.242180  0.254266       7        1   7.494074\n",
       "7      0.279296  0.203104       8        1   6.509086, topic_info=        Term         Freq        Total Category  logprob  loglift\n",
       "696   tablet  6736.000000  6736.000000  Default  30.0000  30.0000\n",
       "993   kindle  2468.000000  2468.000000  Default  29.0000  29.0000\n",
       "875     read  1847.000000  1847.000000  Default  28.0000  28.0000\n",
       "992     fire  2453.000000  2453.000000  Default  27.0000  27.0000\n",
       "84      good  3166.000000  3166.000000  Default  26.0000  26.0000\n",
       "...      ...          ...          ...      ...      ...      ...\n",
       "2      great   199.316572  4815.566038   Topic8  -4.1350  -0.4527\n",
       "52      work   147.771894  1617.862060   Topic8  -4.4342   0.3388\n",
       "377     unit    79.104304   146.230942   Topic8  -5.0591   2.1176\n",
       "1262   prime    82.426484   430.180094   Topic8  -5.0179   1.0797\n",
       "316     need    85.199118  1071.413407   Topic8  -4.9849   0.2002\n",
       "\n",
       "[458 rows x 6 columns], token_table=      Topic      Freq      Term\n",
       "term                           \n",
       "205       1  0.226229    access\n",
       "205       4  0.611563    access\n",
       "205       5  0.161592    access\n",
       "1546      4  0.993475   account\n",
       "3472      1  0.974042  activity\n",
       "...     ...       ...       ...\n",
       "1032      1  0.886325      year\n",
       "1032      2  0.014875      year\n",
       "1032      7  0.098549      year\n",
       "1371      5  0.993156     young\n",
       "1509      1  0.998095        yr\n",
       "\n",
       "[608 rows x 3 columns], R=30, lambda_step=0.01, plot_opts={'xlab': 'PC1', 'ylab': 'PC2'}, topic_order=[7, 5, 1, 3, 6, 4, 2, 8])"
      ]
     },
     "execution_count": 85,
     "metadata": {},
     "output_type": "execute_result"
    }
   ],
   "source": [
    "# plot your topics here -- using pyLDAvis\n",
    "# YOUR CODE HERE\n",
    "pyLDAvis.enable_notebook()\n",
    "vis = pyLDAvis.gensim.prepare(lda_trained_model, corpus, id2word)\n",
    "vis"
   ]
  },
  {
   "cell_type": "markdown",
   "metadata": {
    "id": "9gie-6YrzGeB"
   },
   "source": [
    "## Create a Topic id/name dictionary \n",
    "\n",
    "When populating your topic id/name dictionary, use the index ordering as shown in the viz tool. \n",
    "\n",
    "We'll use a function to map the the viz tool index ordering with the train LDA model ordering. "
   ]
  },
  {
   "cell_type": "code",
   "execution_count": 86,
   "metadata": {
    "deletable": false,
    "id": "88vMiVwQzGeC",
    "nbgrader": {
     "cell_type": "code",
     "checksum": "fc10e9728e5dcf06baf0800c3cdb88ce",
     "grade": false,
     "grade_id": "cell-4905c0c1050f0d03",
     "locked": false,
     "schema_version": 3,
     "solution": true,
     "task": false
    }
   },
   "outputs": [],
   "source": [
    "# create a dictionary \n",
    "# keys - use topic ids from pyLDAvis visualization \n",
    "# values - topic names that you create \n",
    "# save dictionary to `vis_topic_name_dict`\n",
    "\n",
    "vis_topic_name_dict = {1:\"Family\", \n",
    "                       2:\"Gifts\", \n",
    "                       3:\"Costumer Service\", \n",
    "                       4:\"Online Store\", \n",
    "                       5:\"Library\",\n",
    "                       6:\"Print to go and Cameras\", \n",
    "                       7:\"Garden and Patio\", \n",
    "                       8:\"Tvs and Gaming\"}\n",
    "# YOUR CODE HERE\n"
   ]
  },
  {
   "cell_type": "code",
   "execution_count": 87,
   "metadata": {
    "id": "iWLsK27ZzGeC"
   },
   "outputs": [],
   "source": [
    "def get_topic_id_lookup_dict(vis, vis_topic_name_dict):\n",
    "    \"\"\"\n",
    "    Both the starting index and the ordering of topic ids bewteen the trained LDA model \n",
    "    and the viz tool are different. So we need to create a look up dictionary that maps \n",
    "    the correct association between topic ids from both sources. \n",
    "    \"\"\"\n",
    "    # value is order of topic ids accoridng to pyLDAvis tool \n",
    "    # key is order of topic ids according to lda model\n",
    "    model_vis_tool_topic_id_lookup = vis.topic_coordinates.topics.to_dict()\n",
    "\n",
    "    # invert dictionary so that \n",
    "    # key is order of topic ids accoridng to pyLDAvis tool \n",
    "    # value is order of topic ids according to lda model\n",
    "    topic_id_lookup =  {v:k for k, v in model_vis_tool_topic_id_lookup.items()}\n",
    "    \n",
    "    return {v:vis_topic_name_dict[k]  for k, v in topic_id_lookup.items()}"
   ]
  },
  {
   "cell_type": "markdown",
   "metadata": {
    "id": "tR8xm8IG4M0M"
   },
   "source": [
    "Create a topic id/name look up dict \n",
    "that is aligned with the index ordering of the trained LDA model"
   ]
  },
  {
   "cell_type": "code",
   "execution_count": 88,
   "metadata": {
    "deletable": false,
    "id": "dcsa0f_tzGeC",
    "nbgrader": {
     "cell_type": "code",
     "checksum": "55f23aa9324a225091037f0c5daf2192",
     "grade": false,
     "grade_id": "cell-d38acb7b250b4079",
     "locked": false,
     "schema_version": 3,
     "solution": true,
     "task": false
    }
   },
   "outputs": [],
   "source": [
    "topic_name_dict = get_topic_id_lookup_dict(vis, vis_topic_name_dict)"
   ]
  },
  {
   "cell_type": "code",
   "execution_count": 89,
   "metadata": {
    "id": "tbeEkAlC4WNi"
   },
   "outputs": [
    {
     "data": {
      "text/plain": [
       "{6: 'Family',\n",
       " 4: 'Gifts',\n",
       " 0: 'Costumer Service',\n",
       " 2: 'Online Store',\n",
       " 5: 'Library',\n",
       " 3: 'Print to go and Cameras',\n",
       " 1: 'Garden and Patio',\n",
       " 7: 'Tvs and Gaming'}"
      ]
     },
     "execution_count": 89,
     "metadata": {},
     "output_type": "execute_result"
    }
   ],
   "source": [
    "topic_name_dict"
   ]
  },
  {
   "cell_type": "markdown",
   "metadata": {
    "id": "t4NLAlB9zGeC"
   },
   "source": [
    "## Use the LDA Model to Assign Each Document a Topic Name\n",
    "\n",
    "Now that we have a topic id/name look up dict that is aligned with the index ordering of the trained LDA model, we can move forward to giving each topic a topic name. \n",
    "\n",
    "The function below has been given to you. However, you highly encouraged to read through it and make sure that you understand what it is doing each step of the way. In fact, a good way to do this is to copy and paste the code inside of the function into a new cell, comment out all the lines of code and line by line, uncomment the code and see the output. "
   ]
  },
  {
   "cell_type": "code",
   "execution_count": 90,
   "metadata": {
    "id": "23No1SMKzGeC"
   },
   "outputs": [],
   "source": [
    "def get_topic_ids_for_docs(lda_model, corpus):\n",
    "    \n",
    "    \"\"\"\n",
    "    Passes a Bag-of-Words vector into a trained LDA model in order to get the topic id of that document. \n",
    "    \n",
    "    Parameters\n",
    "    ----------\n",
    "    lda_model: Gensim object\n",
    "        Must be a trained model \n",
    "        \n",
    "    corpus: nested lists of tuples, \n",
    "        i.e. [[(),(), ..., ()], [(),(), ..., ()], ..., [(),(), ..., ()]]\n",
    "        \n",
    "    Returns\n",
    "    -------\n",
    "    topic_id_list: list\n",
    "        Contains topic ids for all document vectors in corpus \n",
    "    \"\"\"\n",
    "    \n",
    "    # store topic ids for each document\n",
    "    doc_topic_ids = []\n",
    "\n",
    "    # iterature through the bow vectors for each doc\n",
    "    for doc_bow in corpus:\n",
    "        \n",
    "        # store the topic ids for the doc\n",
    "        topic_ids = []\n",
    "        # store the topic probabilities for the doc\n",
    "        topic_probs = []\n",
    "\n",
    "        # list of tuples\n",
    "        # each tuple has a topic id and the prob that the doc belongs to that topic \n",
    "        topic_id_prob_tuples = lda_trained_model.get_document_topics(doc_bow)\n",
    "        \n",
    "        # iterate through the topic id/prob pairs \n",
    "        for topic_id_prob in topic_id_prob_tuples:\n",
    "            \n",
    "            # index for topic id\n",
    "            topic_id = topic_id_prob[0]\n",
    "            # index for prob that doc belongs that the corresponding topic\n",
    "            topic_prob = topic_id_prob[1]\n",
    "\n",
    "            # store all topic ids for doc\n",
    "            topic_ids.append(topic_id)\n",
    "            # store all topic probs for doc\n",
    "            topic_probs.append(topic_prob)\n",
    "\n",
    "        # get the index for the topic that had the highest probability, for the current document \n",
    "        max_topic_prob_ind = np.argmax(topic_probs)\n",
    "        # get the corresponding topic id\n",
    "        max_prob_topic_id = topic_ids[max_topic_prob_ind]\n",
    "        # store the most probable topic id for the current document\n",
    "        doc_topic_ids.append(max_prob_topic_id)\n",
    "        \n",
    "    return doc_topic_ids"
   ]
  },
  {
   "cell_type": "code",
   "execution_count": 91,
   "metadata": {
    "deletable": false,
    "id": "gI94W2MvzGeD",
    "nbgrader": {
     "cell_type": "code",
     "checksum": "09f2b8ebaf696dc05187cecce8c9e251",
     "grade": false,
     "grade_id": "cell-e28e8774a79ac647",
     "locked": false,
     "schema_version": 3,
     "solution": true,
     "task": false
    }
   },
   "outputs": [],
   "source": [
    "# use get_topic_ids_for_docs to get the topic id for each doc in the corpus - save result to `doc_topic_ids`\n",
    "doc_topic_ids = get_topic_ids_for_docs(lda_trained_model, corpus)\n",
    "\n",
    "# create a new feature in df_electronics called topic_id using `doc_topic_ids`\n",
    "df_electronics['topic_id'] = doc_topic_ids\n",
    "\n",
    "# iterate through topic_id and use the lookup dict `topic_name_dict` to assign each document a topic name\n",
    "# save results to a new feature in df_electronics called `new_topic_name`\n",
    "df_electronics['new_topic_name'] = df_electronics['topic_id'].apply(lambda topic_id: topic_name_dict[topic_id])\n",
    "\n",
    "# YOUR CODE HERE\n"
   ]
  },
  {
   "cell_type": "markdown",
   "metadata": {
    "id": "NZa4oKuIzGeD"
   },
   "source": [
    "## Congratulations! You have created new topic names for your documents. "
   ]
  },
  {
   "cell_type": "code",
   "execution_count": 108,
   "metadata": {
    "id": "kDVAZTa23xkF"
   },
   "outputs": [
    {
     "data": {
      "text/html": [
       "<div>\n",
       "<style scoped>\n",
       "    .dataframe tbody tr th:only-of-type {\n",
       "        vertical-align: middle;\n",
       "    }\n",
       "\n",
       "    .dataframe tbody tr th {\n",
       "        vertical-align: top;\n",
       "    }\n",
       "\n",
       "    .dataframe thead th {\n",
       "        text-align: right;\n",
       "    }\n",
       "</style>\n",
       "<table border=\"1\" class=\"dataframe\">\n",
       "  <thead>\n",
       "    <tr style=\"text-align: right;\">\n",
       "      <th></th>\n",
       "      <th>reviews.text</th>\n",
       "      <th>new_topic_name</th>\n",
       "      <th>topic_id</th>\n",
       "    </tr>\n",
       "  </thead>\n",
       "  <tbody>\n",
       "    <tr>\n",
       "      <th>8343</th>\n",
       "      <td>Great case to keep everything in its place! My...</td>\n",
       "      <td>Family</td>\n",
       "      <td>6</td>\n",
       "    </tr>\n",
       "    <tr>\n",
       "      <th>8344</th>\n",
       "      <td>After discarding and getting rid of broken cd ...</td>\n",
       "      <td>Costumer Service</td>\n",
       "      <td>0</td>\n",
       "    </tr>\n",
       "    <tr>\n",
       "      <th>8345</th>\n",
       "      <td>A few dollars more, but I am boycotting amazon</td>\n",
       "      <td>Costumer Service</td>\n",
       "      <td>0</td>\n",
       "    </tr>\n",
       "    <tr>\n",
       "      <th>8346</th>\n",
       "      <td>My initial impression of this was very good. T...</td>\n",
       "      <td>Online Store</td>\n",
       "      <td>2</td>\n",
       "    </tr>\n",
       "    <tr>\n",
       "      <th>8347</th>\n",
       "      <td>Pros: Standard Echo. Cons: Older generation Ec...</td>\n",
       "      <td>Online Store</td>\n",
       "      <td>2</td>\n",
       "    </tr>\n",
       "  </tbody>\n",
       "</table>\n",
       "</div>"
      ],
      "text/plain": [
       "                                           reviews.text    new_topic_name  \\\n",
       "8343  Great case to keep everything in its place! My...            Family   \n",
       "8344  After discarding and getting rid of broken cd ...  Costumer Service   \n",
       "8345     A few dollars more, but I am boycotting amazon  Costumer Service   \n",
       "8346  My initial impression of this was very good. T...      Online Store   \n",
       "8347  Pros: Standard Echo. Cons: Older generation Ec...      Online Store   \n",
       "\n",
       "      topic_id  \n",
       "8343         6  \n",
       "8344         0  \n",
       "8345         0  \n",
       "8346         2  \n",
       "8347         2  "
      ]
     },
     "execution_count": 108,
     "metadata": {},
     "output_type": "execute_result"
    }
   ],
   "source": [
    "cols = [\"reviews.text\", \"new_topic_name\", \"topic_id\"]\n",
    "df_electronics[cols].head(5)"
   ]
  },
  {
   "cell_type": "markdown",
   "metadata": {
    "id": "gkYnBihNzGeE"
   },
   "source": [
    "-----\n",
    "# Stretch Goals -- see if you can create a model to classify the reviews into the latent topics you've discovered!\n",
    "\n",
    "\n",
    "- Treat `topic_id` as the `y` (target) vector and train a supervised learning model to predict the topic of each document\n",
    "- Report your results on the Slack channel!"
   ]
  },
  {
   "cell_type": "markdown",
   "metadata": {
    "id": "eqY0KKxKQxbm"
   },
   "source": [
    "## Topic Modeling References\n"
   ]
  },
  {
   "cell_type": "markdown",
   "metadata": {
    "id": "iKhe7u4IXr0y"
   },
   "source": [
    "\n",
    "- [Topic Modeling with Gensim](https://www.tutorialspoint.com/gensim/gensim_topic_modeling.htm) -- Brief Tutorial\n",
    "\n",
    "- [Gensim documentation](https://radimrehurek.com/gensim/index.html) -- look up gensim commands\n",
    "\n",
    "- [`pyLDAvis` documentation](https://pyldavis.readthedocs.io/en/latest/readme.html) -- package for visualizing LDA models\n",
    "\n",
    "- [Visualizing Topic Models](https://speakerdeck.com/bmabey/visualizing-topic-models) -- slides from Ben Mabey\n",
    "\n",
    "- [Exploring the Space of Topic Coherence Measures](https://dl.acm.org/doi/10.1145/2684822.2685324) -- Study of Topic Coherence measures\n",
    "\n",
    "- [Exploring Topic Coherence over many models and many topics](https://www.researchgate.net/publication/232242203_Exploring_Topic_Coherence_over_many_models_and_many_topics) -- Study of automated topic coherence measures"
   ]
  }
 ],
 "metadata": {
  "accelerator": "GPU",
  "colab": {
   "collapsed_sections": [],
   "name": "DS_414_Topic_Modeling_Assignment.ipynb",
   "provenance": [
    {
     "file_id": "1KTNIuFlkaWNUe1LIvm05h8WMBtd34a-y",
     "timestamp": 1630264104030
    },
    {
     "file_id": "1crZPH84tb8O5-k018-39o6qE04eC7dZm",
     "timestamp": 1630102535129
    }
   ]
  },
  "kernelspec": {
   "display_name": "U4-S1-NLP (Python3)",
   "language": "python",
   "name": "u4-s1-nlp"
  },
  "language_info": {
   "codemirror_mode": {
    "name": "ipython",
    "version": 3
   },
   "file_extension": ".py",
   "mimetype": "text/x-python",
   "name": "python",
   "nbconvert_exporter": "python",
   "pygments_lexer": "ipython3",
   "version": "3.7.0"
  }
 },
 "nbformat": 4,
 "nbformat_minor": 4
}
